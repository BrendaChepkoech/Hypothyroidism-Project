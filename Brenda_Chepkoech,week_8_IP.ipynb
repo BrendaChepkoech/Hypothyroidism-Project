{
  "nbformat": 4,
  "nbformat_minor": 0,
  "metadata": {
    "colab": {
      "name": "Brenda Chepkoech,week 8 IP",
      "provenance": [],
      "collapsed_sections": [],
      "include_colab_link": true
    },
    "kernelspec": {
      "name": "python3",
      "display_name": "Python 3"
    }
  },
  "cells": [
    {
      "cell_type": "markdown",
      "metadata": {
        "id": "view-in-github",
        "colab_type": "text"
      },
      "source": [
        "<a href=\"https://colab.research.google.com/github/BrendaChepkoech/Hypothyroidism-Project/blob/main/Brenda_Chepkoech%2Cweek_8_IP.ipynb\" target=\"_parent\"><img src=\"https://colab.research.google.com/assets/colab-badge.svg\" alt=\"Open In Colab\"/></a>"
      ]
    },
    {
      "cell_type": "markdown",
      "metadata": {
        "id": "VeCZiGk62wcY"
      },
      "source": [
        "# Hypothyroidism Project"
      ]
    },
    {
      "cell_type": "markdown",
      "metadata": {
        "id": "kLG2VTrnTvYL"
      },
      "source": [
        "## 1. Defining the Question"
      ]
    },
    {
      "cell_type": "markdown",
      "metadata": {
        "id": "XecOwPNorl2W"
      },
      "source": [
        "### a) Specifying the Question"
      ]
    },
    {
      "cell_type": "markdown",
      "metadata": {
        "id": "8l3-hBO6bODP"
      },
      "source": [
        "Nairobi Hospital conducted a clinical camp to test for hypothyroidism. The data collected focused on Thyroid patients. Use the healthcare datasets provided to accomplish the following:\n",
        "\n",
        "Build a model that determines whether or not the patient's symptoms indicate that the patient has hypothyroid."
      ]
    },
    {
      "cell_type": "markdown",
      "metadata": {
        "id": "J4wfHZwQrs-t"
      },
      "source": [
        "### b) Defining the Metric for Success"
      ]
    },
    {
      "cell_type": "markdown",
      "metadata": {
        "id": "oSylqaIJtPuy"
      },
      "source": [
        "Being able to build an accurate model that determines whether or not the patient's symptoms indicate that the patient has hypothyroid.\n",
        "\n",
        "Part 1: Decision trees\n",
        "\n",
        "Part 2: Support Vector Machine(SVM)"
      ]
    },
    {
      "cell_type": "markdown",
      "metadata": {
        "id": "a9BPYqunry97"
      },
      "source": [
        "### c) Understanding the context "
      ]
    },
    {
      "cell_type": "markdown",
      "metadata": {
        "id": "Ly_065Uwtspr"
      },
      "source": [
        "Hypothyroidism's deficiency of thyroid hormones can disrupt such things as heart rate, body temperature and all aspects of metabolism. Hypothyroidism is most prevalent in older women.\n",
        "Nairobi Hospital conducted a clinical camp to test for hypothyroidism.The data collected focused on Thyroid patients. \n",
        "\n",
        "- The Levothyroxine (T4) and Triiodothyronine (T3) hormones are produced by the thyroid gland and they play major role in converting nutrients into energy and thereby help in regulating body temperature, brain function and even the heart rate.\n",
        "- The amount of T3 and T4 hormones in the blood is controlled by the Thyroid Stimulating Hormone (TSH). \n",
        "- There are different thyroid function tests such as TSH, T3, T4U, Total T4 and Free T4 Index (FTI) that are done to assess the various functions related to the thyroid gland. \n",
        "- A low TSH and low T4 indicate secondary hypothyroidism while a high TSH and low T4 indicate primary hypothyroidism. \n",
        "- T3 tests are used for determining the severity of the hyperthyroidism or to diagnose the hyperthyroidism."
      ]
    },
    {
      "cell_type": "markdown",
      "metadata": {
        "id": "7KMRBJ7zr9HD"
      },
      "source": [
        "### d) Recording the Experimental Design"
      ]
    },
    {
      "cell_type": "markdown",
      "metadata": {
        "id": "ViIUjTYWuFOf"
      },
      "source": [
        "- Import the relevant libraries that we will use in our analysis\n",
        "- Read and explore the dataset we will use for our project\n",
        "- Find and deal with anomalies, and missing data within the dataset. \n",
        "- Perform univariate, bivariate and multivariate analysis recording your observations.\n",
        "- Implement the solution by building models that can predict whether a patient has hypothyroidism or not.\n",
        "- For this section, we will build a model using the advanced decision trees such as Ada boost and/or the Gradient boosted trees and afterwards evaluate their performance\n",
        "- Also, apply Polynomial, sigmoid and rbf kernel functions to build your SVM model and then evaluate their performance\n",
        "- Give recommendations on which model is the best in predicting whether a person has hypothyroidism or not."
      ]
    },
    {
      "cell_type": "markdown",
      "metadata": {
        "id": "zSGyg6kWsBUl"
      },
      "source": [
        "### e) Data Relevance"
      ]
    },
    {
      "cell_type": "markdown",
      "metadata": {
        "id": "uIQebVSJuBOb"
      },
      "source": [
        "The data is relevant since we have all the features that will help us predict whether a patient has hyperthyrodism or not\n",
        "\n",
        "Dataset link http://bit.ly/hypothyroid_data\n",
        "\n",
        "**Dataset Columns**\n",
        "\n",
        "Age\n",
        "\n",
        "Sex\n",
        "\n",
        "on_thyroxine\n",
        "\n",
        "query_on_thyroxine\n",
        "\n",
        "on_antithyroid_medicationthyroid_surgery\n",
        "\n",
        "query_hypothyroid\n",
        "\n",
        "query_hyperthyroid\n",
        "\n",
        "pregnant\n",
        "\n",
        "sick\n",
        "\n",
        "tumor\n",
        "\n",
        "lithium\n",
        "\n",
        "goitre\n",
        "\n",
        "TSH_measured\n",
        "\n",
        "TSH\n",
        "\n",
        "T3_measured\n",
        "\n",
        "T3\n",
        "\n",
        "TT4_measured\n",
        "\n",
        "TT4"
      ]
    },
    {
      "cell_type": "markdown",
      "metadata": {
        "id": "iUNbvIvnT7ep"
      },
      "source": [
        "## 2. Reading the Data"
      ]
    },
    {
      "cell_type": "code",
      "metadata": {
        "id": "VImu55XdrH-s"
      },
      "source": [
        "# Loading libraries\n",
        "import numpy as np\n",
        "import pandas as pd\n",
        "import seaborn as sns\n",
        "import matplotlib.pyplot as plt\n",
        "\n",
        "from sklearn import linear_model, datasets\n",
        "from sklearn.model_selection import GridSearchCV\n",
        "from sklearn.model_selection import train_test_split\n",
        "from sklearn.metrics import classification_report\n",
        "from sklearn.metrics import confusion_matrix\n",
        "from sklearn.metrics import accuracy_score\n",
        "from sklearn import metrics\n",
        "from sklearn.preprocessing import StandardScaler\n",
        "from sklearn.preprocessing import LabelEncoder\n",
        "\n",
        "import warnings\n",
        "warnings.filterwarnings(\"ignore\")"
      ],
      "execution_count": 191,
      "outputs": []
    },
    {
      "cell_type": "code",
      "metadata": {
        "id": "XJn2KjW-WMlG"
      },
      "source": [
        "# Loading the Dataset\n",
        "df=pd.read_csv(\"/content/hypothyroid.csv\")\n"
      ],
      "execution_count": 152,
      "outputs": []
    },
    {
      "cell_type": "markdown",
      "metadata": {
        "id": "OI3P3YnHUEBk"
      },
      "source": [
        "## 3. Checking the Data"
      ]
    },
    {
      "cell_type": "code",
      "metadata": {
        "id": "YjSVNwgptHxY",
        "colab": {
          "base_uri": "https://localhost:8080/"
        },
        "outputId": "bdadc6bc-ed15-463e-9e2b-e4307197b1fd"
      },
      "source": [
        "# Determining the no. of records in our dataset\n",
        "#\n",
        "df.shape"
      ],
      "execution_count": 153,
      "outputs": [
        {
          "output_type": "execute_result",
          "data": {
            "text/plain": [
              "(3163, 26)"
            ]
          },
          "metadata": {},
          "execution_count": 153
        }
      ]
    },
    {
      "cell_type": "code",
      "metadata": {
        "id": "xHhTw5eKWr0n",
        "colab": {
          "base_uri": "https://localhost:8080/",
          "height": 226
        },
        "outputId": "aaf40db6-ea74-4bd6-b44a-1a41b2873c15"
      },
      "source": [
        "# Previewing the top of our dataset\n",
        "#\n",
        "df.head()"
      ],
      "execution_count": 154,
      "outputs": [
        {
          "output_type": "execute_result",
          "data": {
            "text/html": [
              "<div>\n",
              "<style scoped>\n",
              "    .dataframe tbody tr th:only-of-type {\n",
              "        vertical-align: middle;\n",
              "    }\n",
              "\n",
              "    .dataframe tbody tr th {\n",
              "        vertical-align: top;\n",
              "    }\n",
              "\n",
              "    .dataframe thead th {\n",
              "        text-align: right;\n",
              "    }\n",
              "</style>\n",
              "<table border=\"1\" class=\"dataframe\">\n",
              "  <thead>\n",
              "    <tr style=\"text-align: right;\">\n",
              "      <th></th>\n",
              "      <th>status</th>\n",
              "      <th>age</th>\n",
              "      <th>sex</th>\n",
              "      <th>on_thyroxine</th>\n",
              "      <th>query_on_thyroxine</th>\n",
              "      <th>on_antithyroid_medication</th>\n",
              "      <th>thyroid_surgery</th>\n",
              "      <th>query_hypothyroid</th>\n",
              "      <th>query_hyperthyroid</th>\n",
              "      <th>pregnant</th>\n",
              "      <th>sick</th>\n",
              "      <th>tumor</th>\n",
              "      <th>lithium</th>\n",
              "      <th>goitre</th>\n",
              "      <th>TSH_measured</th>\n",
              "      <th>TSH</th>\n",
              "      <th>T3_measured</th>\n",
              "      <th>T3</th>\n",
              "      <th>TT4_measured</th>\n",
              "      <th>TT4</th>\n",
              "      <th>T4U_measured</th>\n",
              "      <th>T4U</th>\n",
              "      <th>FTI_measured</th>\n",
              "      <th>FTI</th>\n",
              "      <th>TBG_measured</th>\n",
              "      <th>TBG</th>\n",
              "    </tr>\n",
              "  </thead>\n",
              "  <tbody>\n",
              "    <tr>\n",
              "      <th>0</th>\n",
              "      <td>hypothyroid</td>\n",
              "      <td>72</td>\n",
              "      <td>M</td>\n",
              "      <td>f</td>\n",
              "      <td>f</td>\n",
              "      <td>f</td>\n",
              "      <td>f</td>\n",
              "      <td>f</td>\n",
              "      <td>f</td>\n",
              "      <td>f</td>\n",
              "      <td>f</td>\n",
              "      <td>f</td>\n",
              "      <td>f</td>\n",
              "      <td>f</td>\n",
              "      <td>y</td>\n",
              "      <td>30</td>\n",
              "      <td>y</td>\n",
              "      <td>0.60</td>\n",
              "      <td>y</td>\n",
              "      <td>15</td>\n",
              "      <td>y</td>\n",
              "      <td>1.48</td>\n",
              "      <td>y</td>\n",
              "      <td>10</td>\n",
              "      <td>n</td>\n",
              "      <td>?</td>\n",
              "    </tr>\n",
              "    <tr>\n",
              "      <th>1</th>\n",
              "      <td>hypothyroid</td>\n",
              "      <td>15</td>\n",
              "      <td>F</td>\n",
              "      <td>t</td>\n",
              "      <td>f</td>\n",
              "      <td>f</td>\n",
              "      <td>f</td>\n",
              "      <td>f</td>\n",
              "      <td>f</td>\n",
              "      <td>f</td>\n",
              "      <td>f</td>\n",
              "      <td>f</td>\n",
              "      <td>f</td>\n",
              "      <td>f</td>\n",
              "      <td>y</td>\n",
              "      <td>145</td>\n",
              "      <td>y</td>\n",
              "      <td>1.70</td>\n",
              "      <td>y</td>\n",
              "      <td>19</td>\n",
              "      <td>y</td>\n",
              "      <td>1.13</td>\n",
              "      <td>y</td>\n",
              "      <td>17</td>\n",
              "      <td>n</td>\n",
              "      <td>?</td>\n",
              "    </tr>\n",
              "    <tr>\n",
              "      <th>2</th>\n",
              "      <td>hypothyroid</td>\n",
              "      <td>24</td>\n",
              "      <td>M</td>\n",
              "      <td>f</td>\n",
              "      <td>f</td>\n",
              "      <td>f</td>\n",
              "      <td>f</td>\n",
              "      <td>f</td>\n",
              "      <td>f</td>\n",
              "      <td>f</td>\n",
              "      <td>f</td>\n",
              "      <td>f</td>\n",
              "      <td>f</td>\n",
              "      <td>f</td>\n",
              "      <td>y</td>\n",
              "      <td>0</td>\n",
              "      <td>y</td>\n",
              "      <td>0.20</td>\n",
              "      <td>y</td>\n",
              "      <td>4</td>\n",
              "      <td>y</td>\n",
              "      <td>1</td>\n",
              "      <td>y</td>\n",
              "      <td>0</td>\n",
              "      <td>n</td>\n",
              "      <td>?</td>\n",
              "    </tr>\n",
              "    <tr>\n",
              "      <th>3</th>\n",
              "      <td>hypothyroid</td>\n",
              "      <td>24</td>\n",
              "      <td>F</td>\n",
              "      <td>f</td>\n",
              "      <td>f</td>\n",
              "      <td>f</td>\n",
              "      <td>f</td>\n",
              "      <td>f</td>\n",
              "      <td>f</td>\n",
              "      <td>f</td>\n",
              "      <td>f</td>\n",
              "      <td>f</td>\n",
              "      <td>f</td>\n",
              "      <td>f</td>\n",
              "      <td>y</td>\n",
              "      <td>430</td>\n",
              "      <td>y</td>\n",
              "      <td>0.40</td>\n",
              "      <td>y</td>\n",
              "      <td>6</td>\n",
              "      <td>y</td>\n",
              "      <td>1.04</td>\n",
              "      <td>y</td>\n",
              "      <td>6</td>\n",
              "      <td>n</td>\n",
              "      <td>?</td>\n",
              "    </tr>\n",
              "    <tr>\n",
              "      <th>4</th>\n",
              "      <td>hypothyroid</td>\n",
              "      <td>77</td>\n",
              "      <td>M</td>\n",
              "      <td>f</td>\n",
              "      <td>f</td>\n",
              "      <td>f</td>\n",
              "      <td>f</td>\n",
              "      <td>f</td>\n",
              "      <td>f</td>\n",
              "      <td>f</td>\n",
              "      <td>f</td>\n",
              "      <td>f</td>\n",
              "      <td>f</td>\n",
              "      <td>f</td>\n",
              "      <td>y</td>\n",
              "      <td>7.30</td>\n",
              "      <td>y</td>\n",
              "      <td>1.20</td>\n",
              "      <td>y</td>\n",
              "      <td>57</td>\n",
              "      <td>y</td>\n",
              "      <td>1.28</td>\n",
              "      <td>y</td>\n",
              "      <td>44</td>\n",
              "      <td>n</td>\n",
              "      <td>?</td>\n",
              "    </tr>\n",
              "  </tbody>\n",
              "</table>\n",
              "</div>"
            ],
            "text/plain": [
              "        status age sex on_thyroxine  ... FTI_measured FTI TBG_measured TBG\n",
              "0  hypothyroid  72   M            f  ...            y  10            n   ?\n",
              "1  hypothyroid  15   F            t  ...            y  17            n   ?\n",
              "2  hypothyroid  24   M            f  ...            y   0            n   ?\n",
              "3  hypothyroid  24   F            f  ...            y   6            n   ?\n",
              "4  hypothyroid  77   M            f  ...            y  44            n   ?\n",
              "\n",
              "[5 rows x 26 columns]"
            ]
          },
          "metadata": {},
          "execution_count": 154
        }
      ]
    },
    {
      "cell_type": "code",
      "metadata": {
        "id": "e9AzGcZFrIIr",
        "colab": {
          "base_uri": "https://localhost:8080/",
          "height": 226
        },
        "outputId": "7ec43cc1-b251-495a-953d-66c697b36bf1"
      },
      "source": [
        "# Previewing the bottom of our dataset\n",
        "# \n",
        "df.tail(5)"
      ],
      "execution_count": 155,
      "outputs": [
        {
          "output_type": "execute_result",
          "data": {
            "text/html": [
              "<div>\n",
              "<style scoped>\n",
              "    .dataframe tbody tr th:only-of-type {\n",
              "        vertical-align: middle;\n",
              "    }\n",
              "\n",
              "    .dataframe tbody tr th {\n",
              "        vertical-align: top;\n",
              "    }\n",
              "\n",
              "    .dataframe thead th {\n",
              "        text-align: right;\n",
              "    }\n",
              "</style>\n",
              "<table border=\"1\" class=\"dataframe\">\n",
              "  <thead>\n",
              "    <tr style=\"text-align: right;\">\n",
              "      <th></th>\n",
              "      <th>status</th>\n",
              "      <th>age</th>\n",
              "      <th>sex</th>\n",
              "      <th>on_thyroxine</th>\n",
              "      <th>query_on_thyroxine</th>\n",
              "      <th>on_antithyroid_medication</th>\n",
              "      <th>thyroid_surgery</th>\n",
              "      <th>query_hypothyroid</th>\n",
              "      <th>query_hyperthyroid</th>\n",
              "      <th>pregnant</th>\n",
              "      <th>sick</th>\n",
              "      <th>tumor</th>\n",
              "      <th>lithium</th>\n",
              "      <th>goitre</th>\n",
              "      <th>TSH_measured</th>\n",
              "      <th>TSH</th>\n",
              "      <th>T3_measured</th>\n",
              "      <th>T3</th>\n",
              "      <th>TT4_measured</th>\n",
              "      <th>TT4</th>\n",
              "      <th>T4U_measured</th>\n",
              "      <th>T4U</th>\n",
              "      <th>FTI_measured</th>\n",
              "      <th>FTI</th>\n",
              "      <th>TBG_measured</th>\n",
              "      <th>TBG</th>\n",
              "    </tr>\n",
              "  </thead>\n",
              "  <tbody>\n",
              "    <tr>\n",
              "      <th>3158</th>\n",
              "      <td>negative</td>\n",
              "      <td>58</td>\n",
              "      <td>F</td>\n",
              "      <td>f</td>\n",
              "      <td>f</td>\n",
              "      <td>f</td>\n",
              "      <td>f</td>\n",
              "      <td>f</td>\n",
              "      <td>f</td>\n",
              "      <td>f</td>\n",
              "      <td>f</td>\n",
              "      <td>f</td>\n",
              "      <td>f</td>\n",
              "      <td>f</td>\n",
              "      <td>y</td>\n",
              "      <td>5.80</td>\n",
              "      <td>y</td>\n",
              "      <td>1.70</td>\n",
              "      <td>y</td>\n",
              "      <td>86</td>\n",
              "      <td>y</td>\n",
              "      <td>0.91</td>\n",
              "      <td>y</td>\n",
              "      <td>95</td>\n",
              "      <td>n</td>\n",
              "      <td>?</td>\n",
              "    </tr>\n",
              "    <tr>\n",
              "      <th>3159</th>\n",
              "      <td>negative</td>\n",
              "      <td>29</td>\n",
              "      <td>F</td>\n",
              "      <td>f</td>\n",
              "      <td>f</td>\n",
              "      <td>f</td>\n",
              "      <td>f</td>\n",
              "      <td>f</td>\n",
              "      <td>f</td>\n",
              "      <td>f</td>\n",
              "      <td>f</td>\n",
              "      <td>f</td>\n",
              "      <td>f</td>\n",
              "      <td>f</td>\n",
              "      <td>y</td>\n",
              "      <td>0.80</td>\n",
              "      <td>y</td>\n",
              "      <td>1.80</td>\n",
              "      <td>y</td>\n",
              "      <td>99</td>\n",
              "      <td>y</td>\n",
              "      <td>1.01</td>\n",
              "      <td>y</td>\n",
              "      <td>98</td>\n",
              "      <td>n</td>\n",
              "      <td>?</td>\n",
              "    </tr>\n",
              "    <tr>\n",
              "      <th>3160</th>\n",
              "      <td>negative</td>\n",
              "      <td>77</td>\n",
              "      <td>M</td>\n",
              "      <td>f</td>\n",
              "      <td>f</td>\n",
              "      <td>f</td>\n",
              "      <td>f</td>\n",
              "      <td>f</td>\n",
              "      <td>f</td>\n",
              "      <td>f</td>\n",
              "      <td>f</td>\n",
              "      <td>f</td>\n",
              "      <td>f</td>\n",
              "      <td>f</td>\n",
              "      <td>y</td>\n",
              "      <td>1.20</td>\n",
              "      <td>y</td>\n",
              "      <td>0.60</td>\n",
              "      <td>y</td>\n",
              "      <td>71</td>\n",
              "      <td>y</td>\n",
              "      <td>0.68</td>\n",
              "      <td>y</td>\n",
              "      <td>104</td>\n",
              "      <td>n</td>\n",
              "      <td>?</td>\n",
              "    </tr>\n",
              "    <tr>\n",
              "      <th>3161</th>\n",
              "      <td>negative</td>\n",
              "      <td>74</td>\n",
              "      <td>F</td>\n",
              "      <td>f</td>\n",
              "      <td>f</td>\n",
              "      <td>f</td>\n",
              "      <td>f</td>\n",
              "      <td>f</td>\n",
              "      <td>f</td>\n",
              "      <td>f</td>\n",
              "      <td>f</td>\n",
              "      <td>f</td>\n",
              "      <td>f</td>\n",
              "      <td>f</td>\n",
              "      <td>y</td>\n",
              "      <td>1.30</td>\n",
              "      <td>y</td>\n",
              "      <td>0.10</td>\n",
              "      <td>y</td>\n",
              "      <td>65</td>\n",
              "      <td>y</td>\n",
              "      <td>0.48</td>\n",
              "      <td>y</td>\n",
              "      <td>137</td>\n",
              "      <td>n</td>\n",
              "      <td>?</td>\n",
              "    </tr>\n",
              "    <tr>\n",
              "      <th>3162</th>\n",
              "      <td>negative</td>\n",
              "      <td>56</td>\n",
              "      <td>F</td>\n",
              "      <td>t</td>\n",
              "      <td>f</td>\n",
              "      <td>f</td>\n",
              "      <td>f</td>\n",
              "      <td>f</td>\n",
              "      <td>f</td>\n",
              "      <td>f</td>\n",
              "      <td>f</td>\n",
              "      <td>f</td>\n",
              "      <td>f</td>\n",
              "      <td>f</td>\n",
              "      <td>y</td>\n",
              "      <td>0</td>\n",
              "      <td>y</td>\n",
              "      <td>1.80</td>\n",
              "      <td>y</td>\n",
              "      <td>139</td>\n",
              "      <td>y</td>\n",
              "      <td>0.97</td>\n",
              "      <td>y</td>\n",
              "      <td>143</td>\n",
              "      <td>n</td>\n",
              "      <td>?</td>\n",
              "    </tr>\n",
              "  </tbody>\n",
              "</table>\n",
              "</div>"
            ],
            "text/plain": [
              "        status age sex on_thyroxine  ... FTI_measured  FTI TBG_measured TBG\n",
              "3158  negative  58   F            f  ...            y   95            n   ?\n",
              "3159  negative  29   F            f  ...            y   98            n   ?\n",
              "3160  negative  77   M            f  ...            y  104            n   ?\n",
              "3161  negative  74   F            f  ...            y  137            n   ?\n",
              "3162  negative  56   F            t  ...            y  143            n   ?\n",
              "\n",
              "[5 rows x 26 columns]"
            ]
          },
          "metadata": {},
          "execution_count": 155
        }
      ]
    },
    {
      "cell_type": "code",
      "metadata": {
        "id": "n8-dW4sQWzbc",
        "colab": {
          "base_uri": "https://localhost:8080/"
        },
        "outputId": "483e203c-5198-4c22-a2d5-92173fb9858e"
      },
      "source": [
        "# Checking whether each column has an appropriate datatype\n",
        "#\n",
        "df.dtypes"
      ],
      "execution_count": 156,
      "outputs": [
        {
          "output_type": "execute_result",
          "data": {
            "text/plain": [
              "status                       object\n",
              "age                          object\n",
              "sex                          object\n",
              "on_thyroxine                 object\n",
              "query_on_thyroxine           object\n",
              "on_antithyroid_medication    object\n",
              "thyroid_surgery              object\n",
              "query_hypothyroid            object\n",
              "query_hyperthyroid           object\n",
              "pregnant                     object\n",
              "sick                         object\n",
              "tumor                        object\n",
              "lithium                      object\n",
              "goitre                       object\n",
              "TSH_measured                 object\n",
              "TSH                          object\n",
              "T3_measured                  object\n",
              "T3                           object\n",
              "TT4_measured                 object\n",
              "TT4                          object\n",
              "T4U_measured                 object\n",
              "T4U                          object\n",
              "FTI_measured                 object\n",
              "FTI                          object\n",
              "TBG_measured                 object\n",
              "TBG                          object\n",
              "dtype: object"
            ]
          },
          "metadata": {},
          "execution_count": 156
        }
      ]
    },
    {
      "cell_type": "code",
      "metadata": {
        "colab": {
          "base_uri": "https://localhost:8080/"
        },
        "id": "Xmpe_KipNPbP",
        "outputId": "b815eab9-25a3-417e-9c6c-1252ed61c481"
      },
      "source": [
        "#column names\n",
        "df.columns"
      ],
      "execution_count": 157,
      "outputs": [
        {
          "output_type": "execute_result",
          "data": {
            "text/plain": [
              "Index(['status', 'age', 'sex', 'on_thyroxine', 'query_on_thyroxine',\n",
              "       'on_antithyroid_medication', 'thyroid_surgery', 'query_hypothyroid',\n",
              "       'query_hyperthyroid', 'pregnant', 'sick', 'tumor', 'lithium', 'goitre',\n",
              "       'TSH_measured', 'TSH', 'T3_measured', 'T3', 'TT4_measured', 'TT4',\n",
              "       'T4U_measured', 'T4U', 'FTI_measured', 'FTI', 'TBG_measured', 'TBG'],\n",
              "      dtype='object')"
            ]
          },
          "metadata": {},
          "execution_count": 157
        }
      ]
    },
    {
      "cell_type": "markdown",
      "metadata": {
        "id": "FlBMxEDBUc9B"
      },
      "source": [
        "## 5. Tidying the Dataset"
      ]
    },
    {
      "cell_type": "code",
      "metadata": {
        "id": "5o_bQcT5W3Wz",
        "colab": {
          "base_uri": "https://localhost:8080/"
        },
        "outputId": "9bf9161a-bf42-4b95-ef08-0d93d1e504ec"
      },
      "source": [
        "# Checking for duplicates\n",
        "#\n",
        "df.duplicated().sum()\n",
        "#We shall drop duplicates"
      ],
      "execution_count": 158,
      "outputs": [
        {
          "output_type": "execute_result",
          "data": {
            "text/plain": [
              "77"
            ]
          },
          "metadata": {},
          "execution_count": 158
        }
      ]
    },
    {
      "cell_type": "code",
      "metadata": {
        "id": "PWlukLKUvFQN",
        "colab": {
          "base_uri": "https://localhost:8080/",
          "height": 443
        },
        "outputId": "ca5db3c7-5fe2-4a91-a025-c81c31eb6514"
      },
      "source": [
        "#dropping dupicates\n",
        "df.drop_duplicates()"
      ],
      "execution_count": 159,
      "outputs": [
        {
          "output_type": "execute_result",
          "data": {
            "text/html": [
              "<div>\n",
              "<style scoped>\n",
              "    .dataframe tbody tr th:only-of-type {\n",
              "        vertical-align: middle;\n",
              "    }\n",
              "\n",
              "    .dataframe tbody tr th {\n",
              "        vertical-align: top;\n",
              "    }\n",
              "\n",
              "    .dataframe thead th {\n",
              "        text-align: right;\n",
              "    }\n",
              "</style>\n",
              "<table border=\"1\" class=\"dataframe\">\n",
              "  <thead>\n",
              "    <tr style=\"text-align: right;\">\n",
              "      <th></th>\n",
              "      <th>status</th>\n",
              "      <th>age</th>\n",
              "      <th>sex</th>\n",
              "      <th>on_thyroxine</th>\n",
              "      <th>query_on_thyroxine</th>\n",
              "      <th>on_antithyroid_medication</th>\n",
              "      <th>thyroid_surgery</th>\n",
              "      <th>query_hypothyroid</th>\n",
              "      <th>query_hyperthyroid</th>\n",
              "      <th>pregnant</th>\n",
              "      <th>sick</th>\n",
              "      <th>tumor</th>\n",
              "      <th>lithium</th>\n",
              "      <th>goitre</th>\n",
              "      <th>TSH_measured</th>\n",
              "      <th>TSH</th>\n",
              "      <th>T3_measured</th>\n",
              "      <th>T3</th>\n",
              "      <th>TT4_measured</th>\n",
              "      <th>TT4</th>\n",
              "      <th>T4U_measured</th>\n",
              "      <th>T4U</th>\n",
              "      <th>FTI_measured</th>\n",
              "      <th>FTI</th>\n",
              "      <th>TBG_measured</th>\n",
              "      <th>TBG</th>\n",
              "    </tr>\n",
              "  </thead>\n",
              "  <tbody>\n",
              "    <tr>\n",
              "      <th>0</th>\n",
              "      <td>hypothyroid</td>\n",
              "      <td>72</td>\n",
              "      <td>M</td>\n",
              "      <td>f</td>\n",
              "      <td>f</td>\n",
              "      <td>f</td>\n",
              "      <td>f</td>\n",
              "      <td>f</td>\n",
              "      <td>f</td>\n",
              "      <td>f</td>\n",
              "      <td>f</td>\n",
              "      <td>f</td>\n",
              "      <td>f</td>\n",
              "      <td>f</td>\n",
              "      <td>y</td>\n",
              "      <td>30</td>\n",
              "      <td>y</td>\n",
              "      <td>0.60</td>\n",
              "      <td>y</td>\n",
              "      <td>15</td>\n",
              "      <td>y</td>\n",
              "      <td>1.48</td>\n",
              "      <td>y</td>\n",
              "      <td>10</td>\n",
              "      <td>n</td>\n",
              "      <td>?</td>\n",
              "    </tr>\n",
              "    <tr>\n",
              "      <th>1</th>\n",
              "      <td>hypothyroid</td>\n",
              "      <td>15</td>\n",
              "      <td>F</td>\n",
              "      <td>t</td>\n",
              "      <td>f</td>\n",
              "      <td>f</td>\n",
              "      <td>f</td>\n",
              "      <td>f</td>\n",
              "      <td>f</td>\n",
              "      <td>f</td>\n",
              "      <td>f</td>\n",
              "      <td>f</td>\n",
              "      <td>f</td>\n",
              "      <td>f</td>\n",
              "      <td>y</td>\n",
              "      <td>145</td>\n",
              "      <td>y</td>\n",
              "      <td>1.70</td>\n",
              "      <td>y</td>\n",
              "      <td>19</td>\n",
              "      <td>y</td>\n",
              "      <td>1.13</td>\n",
              "      <td>y</td>\n",
              "      <td>17</td>\n",
              "      <td>n</td>\n",
              "      <td>?</td>\n",
              "    </tr>\n",
              "    <tr>\n",
              "      <th>2</th>\n",
              "      <td>hypothyroid</td>\n",
              "      <td>24</td>\n",
              "      <td>M</td>\n",
              "      <td>f</td>\n",
              "      <td>f</td>\n",
              "      <td>f</td>\n",
              "      <td>f</td>\n",
              "      <td>f</td>\n",
              "      <td>f</td>\n",
              "      <td>f</td>\n",
              "      <td>f</td>\n",
              "      <td>f</td>\n",
              "      <td>f</td>\n",
              "      <td>f</td>\n",
              "      <td>y</td>\n",
              "      <td>0</td>\n",
              "      <td>y</td>\n",
              "      <td>0.20</td>\n",
              "      <td>y</td>\n",
              "      <td>4</td>\n",
              "      <td>y</td>\n",
              "      <td>1</td>\n",
              "      <td>y</td>\n",
              "      <td>0</td>\n",
              "      <td>n</td>\n",
              "      <td>?</td>\n",
              "    </tr>\n",
              "    <tr>\n",
              "      <th>3</th>\n",
              "      <td>hypothyroid</td>\n",
              "      <td>24</td>\n",
              "      <td>F</td>\n",
              "      <td>f</td>\n",
              "      <td>f</td>\n",
              "      <td>f</td>\n",
              "      <td>f</td>\n",
              "      <td>f</td>\n",
              "      <td>f</td>\n",
              "      <td>f</td>\n",
              "      <td>f</td>\n",
              "      <td>f</td>\n",
              "      <td>f</td>\n",
              "      <td>f</td>\n",
              "      <td>y</td>\n",
              "      <td>430</td>\n",
              "      <td>y</td>\n",
              "      <td>0.40</td>\n",
              "      <td>y</td>\n",
              "      <td>6</td>\n",
              "      <td>y</td>\n",
              "      <td>1.04</td>\n",
              "      <td>y</td>\n",
              "      <td>6</td>\n",
              "      <td>n</td>\n",
              "      <td>?</td>\n",
              "    </tr>\n",
              "    <tr>\n",
              "      <th>4</th>\n",
              "      <td>hypothyroid</td>\n",
              "      <td>77</td>\n",
              "      <td>M</td>\n",
              "      <td>f</td>\n",
              "      <td>f</td>\n",
              "      <td>f</td>\n",
              "      <td>f</td>\n",
              "      <td>f</td>\n",
              "      <td>f</td>\n",
              "      <td>f</td>\n",
              "      <td>f</td>\n",
              "      <td>f</td>\n",
              "      <td>f</td>\n",
              "      <td>f</td>\n",
              "      <td>y</td>\n",
              "      <td>7.30</td>\n",
              "      <td>y</td>\n",
              "      <td>1.20</td>\n",
              "      <td>y</td>\n",
              "      <td>57</td>\n",
              "      <td>y</td>\n",
              "      <td>1.28</td>\n",
              "      <td>y</td>\n",
              "      <td>44</td>\n",
              "      <td>n</td>\n",
              "      <td>?</td>\n",
              "    </tr>\n",
              "    <tr>\n",
              "      <th>...</th>\n",
              "      <td>...</td>\n",
              "      <td>...</td>\n",
              "      <td>...</td>\n",
              "      <td>...</td>\n",
              "      <td>...</td>\n",
              "      <td>...</td>\n",
              "      <td>...</td>\n",
              "      <td>...</td>\n",
              "      <td>...</td>\n",
              "      <td>...</td>\n",
              "      <td>...</td>\n",
              "      <td>...</td>\n",
              "      <td>...</td>\n",
              "      <td>...</td>\n",
              "      <td>...</td>\n",
              "      <td>...</td>\n",
              "      <td>...</td>\n",
              "      <td>...</td>\n",
              "      <td>...</td>\n",
              "      <td>...</td>\n",
              "      <td>...</td>\n",
              "      <td>...</td>\n",
              "      <td>...</td>\n",
              "      <td>...</td>\n",
              "      <td>...</td>\n",
              "      <td>...</td>\n",
              "    </tr>\n",
              "    <tr>\n",
              "      <th>3158</th>\n",
              "      <td>negative</td>\n",
              "      <td>58</td>\n",
              "      <td>F</td>\n",
              "      <td>f</td>\n",
              "      <td>f</td>\n",
              "      <td>f</td>\n",
              "      <td>f</td>\n",
              "      <td>f</td>\n",
              "      <td>f</td>\n",
              "      <td>f</td>\n",
              "      <td>f</td>\n",
              "      <td>f</td>\n",
              "      <td>f</td>\n",
              "      <td>f</td>\n",
              "      <td>y</td>\n",
              "      <td>5.80</td>\n",
              "      <td>y</td>\n",
              "      <td>1.70</td>\n",
              "      <td>y</td>\n",
              "      <td>86</td>\n",
              "      <td>y</td>\n",
              "      <td>0.91</td>\n",
              "      <td>y</td>\n",
              "      <td>95</td>\n",
              "      <td>n</td>\n",
              "      <td>?</td>\n",
              "    </tr>\n",
              "    <tr>\n",
              "      <th>3159</th>\n",
              "      <td>negative</td>\n",
              "      <td>29</td>\n",
              "      <td>F</td>\n",
              "      <td>f</td>\n",
              "      <td>f</td>\n",
              "      <td>f</td>\n",
              "      <td>f</td>\n",
              "      <td>f</td>\n",
              "      <td>f</td>\n",
              "      <td>f</td>\n",
              "      <td>f</td>\n",
              "      <td>f</td>\n",
              "      <td>f</td>\n",
              "      <td>f</td>\n",
              "      <td>y</td>\n",
              "      <td>0.80</td>\n",
              "      <td>y</td>\n",
              "      <td>1.80</td>\n",
              "      <td>y</td>\n",
              "      <td>99</td>\n",
              "      <td>y</td>\n",
              "      <td>1.01</td>\n",
              "      <td>y</td>\n",
              "      <td>98</td>\n",
              "      <td>n</td>\n",
              "      <td>?</td>\n",
              "    </tr>\n",
              "    <tr>\n",
              "      <th>3160</th>\n",
              "      <td>negative</td>\n",
              "      <td>77</td>\n",
              "      <td>M</td>\n",
              "      <td>f</td>\n",
              "      <td>f</td>\n",
              "      <td>f</td>\n",
              "      <td>f</td>\n",
              "      <td>f</td>\n",
              "      <td>f</td>\n",
              "      <td>f</td>\n",
              "      <td>f</td>\n",
              "      <td>f</td>\n",
              "      <td>f</td>\n",
              "      <td>f</td>\n",
              "      <td>y</td>\n",
              "      <td>1.20</td>\n",
              "      <td>y</td>\n",
              "      <td>0.60</td>\n",
              "      <td>y</td>\n",
              "      <td>71</td>\n",
              "      <td>y</td>\n",
              "      <td>0.68</td>\n",
              "      <td>y</td>\n",
              "      <td>104</td>\n",
              "      <td>n</td>\n",
              "      <td>?</td>\n",
              "    </tr>\n",
              "    <tr>\n",
              "      <th>3161</th>\n",
              "      <td>negative</td>\n",
              "      <td>74</td>\n",
              "      <td>F</td>\n",
              "      <td>f</td>\n",
              "      <td>f</td>\n",
              "      <td>f</td>\n",
              "      <td>f</td>\n",
              "      <td>f</td>\n",
              "      <td>f</td>\n",
              "      <td>f</td>\n",
              "      <td>f</td>\n",
              "      <td>f</td>\n",
              "      <td>f</td>\n",
              "      <td>f</td>\n",
              "      <td>y</td>\n",
              "      <td>1.30</td>\n",
              "      <td>y</td>\n",
              "      <td>0.10</td>\n",
              "      <td>y</td>\n",
              "      <td>65</td>\n",
              "      <td>y</td>\n",
              "      <td>0.48</td>\n",
              "      <td>y</td>\n",
              "      <td>137</td>\n",
              "      <td>n</td>\n",
              "      <td>?</td>\n",
              "    </tr>\n",
              "    <tr>\n",
              "      <th>3162</th>\n",
              "      <td>negative</td>\n",
              "      <td>56</td>\n",
              "      <td>F</td>\n",
              "      <td>t</td>\n",
              "      <td>f</td>\n",
              "      <td>f</td>\n",
              "      <td>f</td>\n",
              "      <td>f</td>\n",
              "      <td>f</td>\n",
              "      <td>f</td>\n",
              "      <td>f</td>\n",
              "      <td>f</td>\n",
              "      <td>f</td>\n",
              "      <td>f</td>\n",
              "      <td>y</td>\n",
              "      <td>0</td>\n",
              "      <td>y</td>\n",
              "      <td>1.80</td>\n",
              "      <td>y</td>\n",
              "      <td>139</td>\n",
              "      <td>y</td>\n",
              "      <td>0.97</td>\n",
              "      <td>y</td>\n",
              "      <td>143</td>\n",
              "      <td>n</td>\n",
              "      <td>?</td>\n",
              "    </tr>\n",
              "  </tbody>\n",
              "</table>\n",
              "<p>3086 rows × 26 columns</p>\n",
              "</div>"
            ],
            "text/plain": [
              "           status age sex on_thyroxine  ... FTI_measured  FTI TBG_measured TBG\n",
              "0     hypothyroid  72   M            f  ...            y   10            n   ?\n",
              "1     hypothyroid  15   F            t  ...            y   17            n   ?\n",
              "2     hypothyroid  24   M            f  ...            y    0            n   ?\n",
              "3     hypothyroid  24   F            f  ...            y    6            n   ?\n",
              "4     hypothyroid  77   M            f  ...            y   44            n   ?\n",
              "...           ...  ..  ..          ...  ...          ...  ...          ...  ..\n",
              "3158     negative  58   F            f  ...            y   95            n   ?\n",
              "3159     negative  29   F            f  ...            y   98            n   ?\n",
              "3160     negative  77   M            f  ...            y  104            n   ?\n",
              "3161     negative  74   F            f  ...            y  137            n   ?\n",
              "3162     negative  56   F            t  ...            y  143            n   ?\n",
              "\n",
              "[3086 rows x 26 columns]"
            ]
          },
          "metadata": {},
          "execution_count": 159
        }
      ]
    },
    {
      "cell_type": "code",
      "metadata": {
        "id": "PvCYb6dgW4yh",
        "colab": {
          "base_uri": "https://localhost:8080/"
        },
        "outputId": "b697cd5e-7c68-4f95-92b4-5205af7af3ba"
      },
      "source": [
        "# Checking for Anomalies\n",
        "#\n",
        "df[['status','age','sex','on_thyroxine','query_on_thyroxine','on_antithyroid_medication','thyroid_surgery','query_hypothyroid','query_hyperthyroid','pregnant','sick','tumor','lithium','goitre','TSH_measured','TSH','T3_measured','T3','TT4_measured','TT4','T4U_measured','T4U','FTI_measured','FTI','TBG_measured','TBG']].nunique()"
      ],
      "execution_count": 160,
      "outputs": [
        {
          "output_type": "execute_result",
          "data": {
            "text/plain": [
              "status                         2\n",
              "age                           93\n",
              "sex                            3\n",
              "on_thyroxine                   2\n",
              "query_on_thyroxine             2\n",
              "on_antithyroid_medication      2\n",
              "thyroid_surgery                2\n",
              "query_hypothyroid              2\n",
              "query_hyperthyroid             2\n",
              "pregnant                       2\n",
              "sick                           2\n",
              "tumor                          2\n",
              "lithium                        2\n",
              "goitre                         2\n",
              "TSH_measured                   2\n",
              "TSH                          240\n",
              "T3_measured                    2\n",
              "T3                            70\n",
              "TT4_measured                   2\n",
              "TT4                          269\n",
              "T4U_measured                   2\n",
              "T4U                          159\n",
              "FTI_measured                   2\n",
              "FTI                          281\n",
              "TBG_measured                   2\n",
              "TBG                           53\n",
              "dtype: int64"
            ]
          },
          "metadata": {},
          "execution_count": 160
        }
      ]
    },
    {
      "cell_type": "code",
      "metadata": {
        "id": "MpsDGKZHsf_W"
      },
      "source": [
        "#After exploring the data I realized that there are some \"?\" in some columns\n",
        "#we shall replace the ? with NaN so that it can read null values\n",
        "df.replace(\"?\",np.NaN,inplace=True)"
      ],
      "execution_count": 161,
      "outputs": []
    },
    {
      "cell_type": "code",
      "metadata": {
        "id": "D-4I__6Os4C5",
        "colab": {
          "base_uri": "https://localhost:8080/"
        },
        "outputId": "2482affa-7490-406e-d49c-54914c509820"
      },
      "source": [
        "# Identifying the Missing Data\n",
        "#\n",
        "df.isnull().sum()"
      ],
      "execution_count": 162,
      "outputs": [
        {
          "output_type": "execute_result",
          "data": {
            "text/plain": [
              "status                          0\n",
              "age                           446\n",
              "sex                            73\n",
              "on_thyroxine                    0\n",
              "query_on_thyroxine              0\n",
              "on_antithyroid_medication       0\n",
              "thyroid_surgery                 0\n",
              "query_hypothyroid               0\n",
              "query_hyperthyroid              0\n",
              "pregnant                        0\n",
              "sick                            0\n",
              "tumor                           0\n",
              "lithium                         0\n",
              "goitre                          0\n",
              "TSH_measured                    0\n",
              "TSH                           468\n",
              "T3_measured                     0\n",
              "T3                            695\n",
              "TT4_measured                    0\n",
              "TT4                           249\n",
              "T4U_measured                    0\n",
              "T4U                           248\n",
              "FTI_measured                    0\n",
              "FTI                           247\n",
              "TBG_measured                    0\n",
              "TBG                          2903\n",
              "dtype: int64"
            ]
          },
          "metadata": {},
          "execution_count": 162
        }
      ]
    },
    {
      "cell_type": "code",
      "metadata": {
        "colab": {
          "base_uri": "https://localhost:8080/",
          "height": 639
        },
        "id": "UoZavV9uN2Gq",
        "outputId": "5635e09d-7ee8-4b3d-a3c9-3a507c174605"
      },
      "source": [
        "#Lets vizualize the missing values\n",
        "plt.figure(figsize=(10,8))\n",
        "df.isnull().sum().plot(kind=\"bar\")\n",
        "plt.title(\"Missing Values\",weight=\"bold\")"
      ],
      "execution_count": 163,
      "outputs": [
        {
          "output_type": "execute_result",
          "data": {
            "text/plain": [
              "Text(0.5, 1.0, 'Missing Values')"
            ]
          },
          "metadata": {},
          "execution_count": 163
        },
        {
          "output_type": "display_data",
          "data": {
            "image/png": "[encoded data removed]",
            "text/plain": [
              "<Figure size 720x576 with 1 Axes>"
            ]
          },
          "metadata": {
            "needs_background": "light"
          }
        }
      ]
    },
    {
      "cell_type": "code",
      "metadata": {
        "id": "jgPxlOrRQPWJ"
      },
      "source": [
        "#drop the 'TBG' column because it has alot of missing values(almost 90% of the data is null)\n",
        "#I also dropped TBG_measured because it relates to 'TBG' \n",
        "df.drop(['TBG_measured','TBG'],1, inplace=True)"
      ],
      "execution_count": 164,
      "outputs": []
    },
    {
      "cell_type": "code",
      "metadata": {
        "id": "MMISvM9eQTyI"
      },
      "source": [
        "#while checking the data, i realized that the data type object \n",
        "#We shall convert the numerical columns to numerical\n",
        "#numerical_columns = df['age','TSH','T3','T4U','FTI','TT4']\n",
        "df[\"age\"]=pd.to_numeric(df[\"age\"])\n",
        "df['TSH']=pd.to_numeric(df['TSH'])\n",
        "df['TT4']=pd.to_numeric(df['TT4'])\n",
        "df['T3']=pd.to_numeric(df['T3'])\n",
        "df['FTI']=pd.to_numeric(df['FTI'])\n",
        "df['T4U']=pd.to_numeric(df['T4U'])"
      ],
      "execution_count": 165,
      "outputs": []
    },
    {
      "cell_type": "code",
      "metadata": {
        "id": "EvaPXPLdQfj7"
      },
      "source": [
        "#filiing the null values with mode for categorical and median for numerical\n",
        "#columns with null values = ['age', 'sex', 'TSH',\"T3\",'T4U', 'FTI', 'TT4']\n",
        "df['age'].fillna(df['age'].median(),inplace=True)\n",
        "df['sex'].fillna(df['sex'].mode()[0],inplace=True)\n",
        "df['TSH'].fillna(df['TSH'].median(),inplace=True)\n",
        "df[\"T3\"].fillna(df[\"T3\"].median(),inplace=True)\n",
        "df['T4U'].fillna(df['T4U'].median(),inplace=True)\n",
        "df['FTI'].fillna(df['FTI'].median(),inplace=True)\n",
        "df['TT4'].fillna(df['TT4'].median(),inplace=True)"
      ],
      "execution_count": 166,
      "outputs": []
    },
    {
      "cell_type": "code",
      "metadata": {
        "colab": {
          "base_uri": "https://localhost:8080/"
        },
        "id": "XHSDRCYsQnHz",
        "outputId": "df57b742-52a6-4a95-bdf4-f57ab49a1de5"
      },
      "source": [
        "#confirming that there are no null values\n",
        "df.isnull().sum().sum()"
      ],
      "execution_count": 167,
      "outputs": [
        {
          "output_type": "execute_result",
          "data": {
            "text/plain": [
              "0"
            ]
          },
          "metadata": {},
          "execution_count": 167
        }
      ]
    },
    {
      "cell_type": "markdown",
      "metadata": {
        "id": "rF2ABPsHUtbZ"
      },
      "source": [
        "## 6. Exploratory Analysis"
      ]
    },
    {
      "cell_type": "markdown",
      "metadata": {
        "id": "VW9xIwrPpAWR"
      },
      "source": [
        "## Univariate Analysis"
      ]
    },
    {
      "cell_type": "code",
      "metadata": {
        "id": "5nnRToniXGDK",
        "colab": {
          "base_uri": "https://localhost:8080/"
        },
        "outputId": "fd19b5b0-7cd8-468f-c148-3ce00df6345f"
      },
      "source": [
        "#categorical variables\n",
        "#Frquecy table for status\n",
        "df[\"status\"].value_counts()"
      ],
      "execution_count": 168,
      "outputs": [
        {
          "output_type": "execute_result",
          "data": {
            "text/plain": [
              "negative       3012\n",
              "hypothyroid     151\n",
              "Name: status, dtype: int64"
            ]
          },
          "metadata": {},
          "execution_count": 168
        }
      ]
    },
    {
      "cell_type": "code",
      "metadata": {
        "colab": {
          "base_uri": "https://localhost:8080/"
        },
        "id": "o0V84psZpIV2",
        "outputId": "f2843627-df2d-49d4-cafa-29abab09cb52"
      },
      "source": [
        "#Frequency table for  sex\n",
        "df[\"sex\"].value_counts()"
      ],
      "execution_count": 169,
      "outputs": [
        {
          "output_type": "execute_result",
          "data": {
            "text/plain": [
              "F    2255\n",
              "M     908\n",
              "Name: sex, dtype: int64"
            ]
          },
          "metadata": {},
          "execution_count": 169
        }
      ]
    },
    {
      "cell_type": "code",
      "metadata": {
        "colab": {
          "base_uri": "https://localhost:8080/"
        },
        "id": "4ytQ4YqNpJ2K",
        "outputId": "a20f1c07-4fcc-4cf4-d714-960597abec2b"
      },
      "source": [
        "#Frequency table for  on_thyroxine\n",
        "df[\"on_thyroxine\"].value_counts()"
      ],
      "execution_count": 170,
      "outputs": [
        {
          "output_type": "execute_result",
          "data": {
            "text/plain": [
              "f    2702\n",
              "t     461\n",
              "Name: on_thyroxine, dtype: int64"
            ]
          },
          "metadata": {},
          "execution_count": 170
        }
      ]
    },
    {
      "cell_type": "code",
      "metadata": {
        "colab": {
          "base_uri": "https://localhost:8080/"
        },
        "id": "dXvYGHVXpPY4",
        "outputId": "cce281db-0833-460b-c656-0c3d2d542d24"
      },
      "source": [
        "#Frequency table for goitre\n",
        "df[\"goitre\"].value_counts()"
      ],
      "execution_count": 171,
      "outputs": [
        {
          "output_type": "execute_result",
          "data": {
            "text/plain": [
              "f    3064\n",
              "t      99\n",
              "Name: goitre, dtype: int64"
            ]
          },
          "metadata": {},
          "execution_count": 171
        }
      ]
    },
    {
      "cell_type": "code",
      "metadata": {
        "colab": {
          "base_uri": "https://localhost:8080/"
        },
        "id": "F-Tsbvv4pRkB",
        "outputId": "a2c47501-de8e-437c-a13b-b66159d231e6"
      },
      "source": [
        "#Frequency table for TSH_measured\n",
        "df[\"TSH_measured\"].value_counts()"
      ],
      "execution_count": 172,
      "outputs": [
        {
          "output_type": "execute_result",
          "data": {
            "text/plain": [
              "y    2695\n",
              "n     468\n",
              "Name: TSH_measured, dtype: int64"
            ]
          },
          "metadata": {},
          "execution_count": 172
        }
      ]
    },
    {
      "cell_type": "code",
      "metadata": {
        "colab": {
          "base_uri": "https://localhost:8080/"
        },
        "id": "Ltm0PuvipSfJ",
        "outputId": "b986588d-8f70-461c-b3ad-0d7de59f2274"
      },
      "source": [
        "#Frequency table for T3_measured\n",
        "df[\"T3_measured\"].value_counts()"
      ],
      "execution_count": 173,
      "outputs": [
        {
          "output_type": "execute_result",
          "data": {
            "text/plain": [
              "y    2468\n",
              "n     695\n",
              "Name: T3_measured, dtype: int64"
            ]
          },
          "metadata": {},
          "execution_count": 173
        }
      ]
    },
    {
      "cell_type": "code",
      "metadata": {
        "colab": {
          "base_uri": "https://localhost:8080/",
          "height": 295
        },
        "id": "CW4QsKPgpXgn",
        "outputId": "f70e86b6-d2ec-4439-c371-3edaa09bb825"
      },
      "source": [
        "#Histogram for sex of the patients who went to the hospital\n",
        "sex=df[\"sex\"]\n",
        "plt.hist(sex,histtype='bar',bins=2, rwidth=0.9)\n",
        "plt.xlabel(\"sex\")\n",
        "plt.ylabel(\"number of patients\")\n",
        "plt.title('Histogram of the number patients per gender',weight=\"bold\")\n",
        "plt.show()"
      ],
      "execution_count": 174,
      "outputs": [
        {
          "output_type": "display_data",
          "data": {
            "image/png": "[encoded data removed]",
            "text/plain": [
              "<Figure size 432x288 with 1 Axes>"
            ]
          },
          "metadata": {
            "needs_background": "light"
          }
        }
      ]
    },
    {
      "cell_type": "markdown",
      "metadata": {
        "id": "5zMK48OV7DM_"
      },
      "source": [
        "There were more female patients than male patients. "
      ]
    },
    {
      "cell_type": "code",
      "metadata": {
        "colab": {
          "base_uri": "https://localhost:8080/",
          "height": 295
        },
        "id": "l5Jhqyiapauk",
        "outputId": "02d4624f-135e-40ec-8d0a-157d783779fd"
      },
      "source": [
        "#Histogram for status of whether a patient was diagnosed with or not\n",
        "status=df[\"status\"]\n",
        "plt.hist(status,histtype='bar',bins=2, rwidth=0.9)\n",
        "plt.xlabel(\"status\")\n",
        "plt.ylabel(\"number of patients\")\n",
        "plt.title('Histogram of the number of patients diagnosed',weight=\"bold\")\n",
        "plt.show()\n"
      ],
      "execution_count": 89,
      "outputs": [
        {
          "output_type": "display_data",
          "data": {
            "image/png": "[encoded data removed]",
            "text/plain": [
              "<Figure size 432x288 with 1 Axes>"
            ]
          },
          "metadata": {
            "needs_background": "light"
          }
        }
      ]
    },
    {
      "cell_type": "code",
      "metadata": {
        "colab": {
          "base_uri": "https://localhost:8080/",
          "height": 295
        },
        "id": "7w2XTM8ppfgh",
        "outputId": "313e0b0f-6e3b-4f38-8d34-78a469adfb05"
      },
      "source": [
        "#Histogram for status of whether a patient was diagnosed with or not\n",
        "age=df[\"age\"]\n",
        "plt.hist(age,histtype='bar',bins=10, rwidth=0.9)\n",
        "plt.xlabel(\"age\")\n",
        "plt.ylabel(\"number of patients\")\n",
        "plt.title('Histogram of the age of patients',weight=\"bold\")\n",
        "plt.show()"
      ],
      "execution_count": 90,
      "outputs": [
        {
          "output_type": "display_data",
          "data": {
            "image/png": "[encoded data removed]",
            "text/plain": [
              "<Figure size 432x288 with 1 Axes>"
            ]
          },
          "metadata": {
            "needs_background": "light"
          }
        }
      ]
    },
    {
      "cell_type": "code",
      "metadata": {
        "colab": {
          "base_uri": "https://localhost:8080/",
          "height": 286
        },
        "id": "tarm6645pnzZ",
        "outputId": "2f158ea6-8303-4466-f22a-9c4f60ace3e3"
      },
      "source": [
        "#pie chart for pregnant\n",
        "df[\"pregnant\"].value_counts().plot(kind='pie',shadow = True,explode=(0,0.1), colors=['green',\"blue\"], autopct='%1.1f%%')\n",
        "plt.title(\"Pie chart of the number of patients pregant\", y=1.1)\n",
        "plt.show()"
      ],
      "execution_count": 91,
      "outputs": [
        {
          "output_type": "display_data",
          "data": {
            "image/png": "[encoded data removed]",
            "text/plain": [
              "<Figure size 432x288 with 1 Axes>"
            ]
          },
          "metadata": {}
        }
      ]
    },
    {
      "cell_type": "code",
      "metadata": {
        "colab": {
          "base_uri": "https://localhost:8080/",
          "height": 286
        },
        "id": "bPbSw5OOps6E",
        "outputId": "e05b6f69-c059-43e0-985f-9e94fd050b04"
      },
      "source": [
        "#pie chart for thyroid_surgery\n",
        "df[\"thyroid_surgery\"].value_counts().plot(kind='pie',shadow = True,explode=(0,0.1), colors=['red',\"brown\"], autopct='%1.1f%%')\n",
        "plt.title(\"Pie chart of the number of patients who had surgery\", y=1.1)\n",
        "plt.show()"
      ],
      "execution_count": 92,
      "outputs": [
        {
          "output_type": "display_data",
          "data": {
            "image/png": "[encoded data removed]",
            "text/plain": [
              "<Figure size 432x288 with 1 Axes>"
            ]
          },
          "metadata": {}
        }
      ]
    },
    {
      "cell_type": "code",
      "metadata": {
        "colab": {
          "base_uri": "https://localhost:8080/"
        },
        "id": "JT2QhrTPpx8k",
        "outputId": "ebffd523-9ce6-4471-95db-4585b87ddfc1"
      },
      "source": [
        "#Numerical variables\n",
        "\n",
        " #Measures of Central tendency\n",
        " #Mode\n",
        "df.mean() "
      ],
      "execution_count": 93,
      "outputs": [
        {
          "output_type": "execute_result",
          "data": {
            "text/plain": [
              "age     51.555485\n",
              "TSH      5.150354\n",
              "T3       1.909042\n",
              "TT4    108.468195\n",
              "T4U      0.976772\n",
              "FTI    114.741985\n",
              "dtype: float64"
            ]
          },
          "metadata": {},
          "execution_count": 93
        }
      ]
    },
    {
      "cell_type": "code",
      "metadata": {
        "colab": {
          "base_uri": "https://localhost:8080/"
        },
        "id": "8uhWkyVDp0JW",
        "outputId": "fc851328-5450-4844-d6ed-080361967ab4"
      },
      "source": [
        "#median\n",
        "df.median()"
      ],
      "execution_count": 94,
      "outputs": [
        {
          "output_type": "execute_result",
          "data": {
            "text/plain": [
              "age     54.00\n",
              "TSH      0.70\n",
              "T3       1.80\n",
              "TT4    104.00\n",
              "T4U      0.96\n",
              "FTI    107.00\n",
              "dtype: float64"
            ]
          },
          "metadata": {},
          "execution_count": 94
        }
      ]
    },
    {
      "cell_type": "code",
      "metadata": {
        "colab": {
          "base_uri": "https://localhost:8080/",
          "height": 81
        },
        "id": "XRWEU6Qnp1su",
        "outputId": "0ddba0ff-98d1-40b0-928b-4583158b4632"
      },
      "source": [
        "#Mode\n",
        "numerical_data=df[['age','TSH','T3','T4U','FTI','TT4']]\n",
        "numerical_data.mode()"
      ],
      "execution_count": 95,
      "outputs": [
        {
          "output_type": "execute_result",
          "data": {
            "text/html": [
              "<div>\n",
              "<style scoped>\n",
              "    .dataframe tbody tr th:only-of-type {\n",
              "        vertical-align: middle;\n",
              "    }\n",
              "\n",
              "    .dataframe tbody tr th {\n",
              "        vertical-align: top;\n",
              "    }\n",
              "\n",
              "    .dataframe thead th {\n",
              "        text-align: right;\n",
              "    }\n",
              "</style>\n",
              "<table border=\"1\" class=\"dataframe\">\n",
              "  <thead>\n",
              "    <tr style=\"text-align: right;\">\n",
              "      <th></th>\n",
              "      <th>age</th>\n",
              "      <th>TSH</th>\n",
              "      <th>T3</th>\n",
              "      <th>T4U</th>\n",
              "      <th>FTI</th>\n",
              "      <th>TT4</th>\n",
              "    </tr>\n",
              "  </thead>\n",
              "  <tbody>\n",
              "    <tr>\n",
              "      <th>0</th>\n",
              "      <td>54.0</td>\n",
              "      <td>0.0</td>\n",
              "      <td>1.8</td>\n",
              "      <td>0.96</td>\n",
              "      <td>107.0</td>\n",
              "      <td>104.0</td>\n",
              "    </tr>\n",
              "  </tbody>\n",
              "</table>\n",
              "</div>"
            ],
            "text/plain": [
              "    age  TSH   T3   T4U    FTI    TT4\n",
              "0  54.0  0.0  1.8  0.96  107.0  104.0"
            ]
          },
          "metadata": {},
          "execution_count": 95
        }
      ]
    },
    {
      "cell_type": "code",
      "metadata": {
        "colab": {
          "base_uri": "https://localhost:8080/"
        },
        "id": "sHmZy-xvp6mW",
        "outputId": "94a57b56-ef2c-44d0-e1db-7c5475733deb"
      },
      "source": [
        "# Measures of dispersion\n",
        "#standard deviation\n",
        "df.std()"
      ],
      "execution_count": 96,
      "outputs": [
        {
          "output_type": "execute_result",
          "data": {
            "text/plain": [
              "age    17.909384\n",
              "TSH    22.137871\n",
              "T3      0.882341\n",
              "TT4    43.677305\n",
              "T4U     0.217568\n",
              "FTI    57.882814\n",
              "dtype: float64"
            ]
          },
          "metadata": {},
          "execution_count": 96
        }
      ]
    },
    {
      "cell_type": "code",
      "metadata": {
        "colab": {
          "base_uri": "https://localhost:8080/"
        },
        "id": "jRGzWUc0p-kW",
        "outputId": "ba50eb77-e27b-4001-eb86-639dd553461c"
      },
      "source": [
        "#kurtosis\n",
        "df.kurt()"
      ],
      "execution_count": 97,
      "outputs": [
        {
          "output_type": "execute_result",
          "data": {
            "text/plain": [
              "age     -0.621428\n",
              "TSH    179.075313\n",
              "T3      14.211499\n",
              "TT4      7.846341\n",
              "T4U      3.981455\n",
              "FTI     51.540596\n",
              "dtype: float64"
            ]
          },
          "metadata": {},
          "execution_count": 97
        }
      ]
    },
    {
      "cell_type": "code",
      "metadata": {
        "colab": {
          "base_uri": "https://localhost:8080/"
        },
        "id": "EjQKzbStqAbQ",
        "outputId": "3069a7d1-ad08-4da9-fca2-b3e89ce09b82"
      },
      "source": [
        "#skewness\n",
        "df.skew()"
      ],
      "execution_count": 98,
      "outputs": [
        {
          "output_type": "execute_result",
          "data": {
            "text/plain": [
              "age    -0.241177\n",
              "TSH    11.061752\n",
              "T3      2.490112\n",
              "TT4     1.595531\n",
              "T4U     0.973771\n",
              "FTI     5.339621\n",
              "dtype: float64"
            ]
          },
          "metadata": {},
          "execution_count": 98
        }
      ]
    },
    {
      "cell_type": "code",
      "metadata": {
        "colab": {
          "base_uri": "https://localhost:8080/",
          "height": 143
        },
        "id": "msfb8QKkqDlQ",
        "outputId": "5007c4e6-c878-4bf8-bc33-949666a8c9a1"
      },
      "source": [
        "# Quantiles\n",
        "df.quantile([0.25,0.50,0.75])"
      ],
      "execution_count": 99,
      "outputs": [
        {
          "output_type": "execute_result",
          "data": {
            "text/html": [
              "<div>\n",
              "<style scoped>\n",
              "    .dataframe tbody tr th:only-of-type {\n",
              "        vertical-align: middle;\n",
              "    }\n",
              "\n",
              "    .dataframe tbody tr th {\n",
              "        vertical-align: top;\n",
              "    }\n",
              "\n",
              "    .dataframe thead th {\n",
              "        text-align: right;\n",
              "    }\n",
              "</style>\n",
              "<table border=\"1\" class=\"dataframe\">\n",
              "  <thead>\n",
              "    <tr style=\"text-align: right;\">\n",
              "      <th></th>\n",
              "      <th>age</th>\n",
              "      <th>TSH</th>\n",
              "      <th>T3</th>\n",
              "      <th>TT4</th>\n",
              "      <th>T4U</th>\n",
              "      <th>FTI</th>\n",
              "    </tr>\n",
              "  </thead>\n",
              "  <tbody>\n",
              "    <tr>\n",
              "      <th>0.25</th>\n",
              "      <td>38.0</td>\n",
              "      <td>0.0</td>\n",
              "      <td>1.5</td>\n",
              "      <td>85.0</td>\n",
              "      <td>0.86</td>\n",
              "      <td>92.0</td>\n",
              "    </tr>\n",
              "    <tr>\n",
              "      <th>0.50</th>\n",
              "      <td>54.0</td>\n",
              "      <td>0.7</td>\n",
              "      <td>1.8</td>\n",
              "      <td>104.0</td>\n",
              "      <td>0.96</td>\n",
              "      <td>107.0</td>\n",
              "    </tr>\n",
              "    <tr>\n",
              "      <th>0.75</th>\n",
              "      <td>64.0</td>\n",
              "      <td>1.8</td>\n",
              "      <td>2.2</td>\n",
              "      <td>124.0</td>\n",
              "      <td>1.05</td>\n",
              "      <td>126.0</td>\n",
              "    </tr>\n",
              "  </tbody>\n",
              "</table>\n",
              "</div>"
            ],
            "text/plain": [
              "       age  TSH   T3    TT4   T4U    FTI\n",
              "0.25  38.0  0.0  1.5   85.0  0.86   92.0\n",
              "0.50  54.0  0.7  1.8  104.0  0.96  107.0\n",
              "0.75  64.0  1.8  2.2  124.0  1.05  126.0"
            ]
          },
          "metadata": {},
          "execution_count": 99
        }
      ]
    },
    {
      "cell_type": "code",
      "metadata": {
        "colab": {
          "base_uri": "https://localhost:8080/"
        },
        "id": "o4gYwbcJqFtR",
        "outputId": "1cde0c05-f589-441f-9e0c-3fd5d0b765a3"
      },
      "source": [
        "# Range\n",
        "numerical_data=df[['age','TSH','T3','T4U','FTI','TT4']]\n",
        "max = numerical_data.max()\n",
        "min = numerical_data.min()\n",
        "range = max - min\n",
        "range"
      ],
      "execution_count": 100,
      "outputs": [
        {
          "output_type": "execute_result",
          "data": {
            "text/plain": [
              "age     97.00\n",
              "TSH    530.00\n",
              "T3      10.20\n",
              "T4U      2.21\n",
              "FTI    881.00\n",
              "TT4    448.00\n",
              "dtype: float64"
            ]
          },
          "metadata": {},
          "execution_count": 100
        }
      ]
    },
    {
      "cell_type": "code",
      "metadata": {
        "colab": {
          "base_uri": "https://localhost:8080/",
          "height": 554
        },
        "id": "g3TVZNPZqRAX",
        "outputId": "5979361f-f6fb-4011-b0e9-6df29e8c9687"
      },
      "source": [
        "# Checking for outliers in the age,TSH column\n",
        "fig, axes = plt.subplots(1,2, figsize=(15, 8))\n",
        "fig.suptitle('Boxplots')\n",
        "sns.boxplot(df['age'], ax=axes[0])\n",
        "sns.boxplot(df['TSH'], ax=axes[1])\n",
        "plt.show()"
      ],
      "execution_count": 101,
      "outputs": [
        {
          "output_type": "display_data",
          "data": {
            "image/png": "[encoded data removed]",
            "text/plain": [
              "<Figure size 1080x576 with 2 Axes>"
            ]
          },
          "metadata": {
            "needs_background": "light"
          }
        }
      ]
    },
    {
      "cell_type": "markdown",
      "metadata": {
        "id": "deZqQhJt-208"
      },
      "source": [
        "We can conclude that there are outliers in our numerical columns but it would be irresponsible to drop them because it will distort our data and tamper with our analysis and predictions."
      ]
    },
    {
      "cell_type": "markdown",
      "metadata": {
        "id": "KhdEY42QqWYC"
      },
      "source": [
        "## Bivariate Analysis"
      ]
    },
    {
      "cell_type": "code",
      "metadata": {
        "colab": {
          "base_uri": "https://localhost:8080/",
          "height": 317
        },
        "id": "KfyqUt-bqSxe",
        "outputId": "9bce53ab-cc1c-488b-aab0-7c4beb561794"
      },
      "source": [
        "# Plotting our scatterplot FOR age against T4U\n",
        "\n",
        "nc=df.groupby('age')['T4U'].sum().reset_index(name='T4Uper age')\n",
        "nc\n",
        "plt.scatter(nc[\"age\"] , nc['T4Uper age'], c='g')\n",
        "plt.xlabel(\"age\")\n",
        "plt.ylabel(\"T4U per age\")\n",
        "plt.title(\"Scatter plot of 'T4Uper age\", y=1.1)\n",
        "plt.show()\n",
        "#we can see that as the age rises, the T4U increases but T4U starts to drop from age 65"
      ],
      "execution_count": 175,
      "outputs": [
        {
          "output_type": "display_data",
          "data": {
            "image/png": "[encoded data removed]",
            "text/plain": [
              "<Figure size 432x288 with 1 Axes>"
            ]
          },
          "metadata": {
            "needs_background": "light"
          }
        }
      ]
    },
    {
      "cell_type": "code",
      "metadata": {
        "colab": {
          "base_uri": "https://localhost:8080/",
          "height": 317
        },
        "id": "OFWoNvQGqbXO",
        "outputId": "3dc312b2-5e2f-4a29-a362-68b9a4ee2d98"
      },
      "source": [
        "#scatter plot for age agaist T3\n",
        "nc=df.groupby('age')['T3'].sum().reset_index(name='T3 per age')\n",
        "nc\n",
        "plt.scatter(nc[\"age\"] , nc['T3 per age'], c='b')\n",
        "plt.xlabel(\"age\")\n",
        "plt.ylabel('T3 per age')\n",
        "plt.title(\"Scatter plot of T3 per age\", y=1.1)\n",
        "plt.show()\n",
        "#we can see that as the age rises, the T3 increases but T4U starts to drop from age 65"
      ],
      "execution_count": 176,
      "outputs": [
        {
          "output_type": "display_data",
          "data": {
            "image/png": "[encoded data removed]",
            "text/plain": [
              "<Figure size 432x288 with 1 Axes>"
            ]
          },
          "metadata": {
            "needs_background": "light"
          }
        }
      ]
    },
    {
      "cell_type": "code",
      "metadata": {
        "colab": {
          "base_uri": "https://localhost:8080/",
          "height": 350
        },
        "id": "qtZ6AZi_qjSU",
        "outputId": "b8090a86-2986-4dcb-a327-71b96dd71cac"
      },
      "source": [
        "#Stacked column chart for sex agaist on_thyroxine\n",
        "plt.figure(figsize=(9, 5))\n",
        "sns.histplot(x = df[\"sex\"], hue = df[\"on_thyroxine\"])\n",
        "plt.xlabel('sex')\n",
        "plt.ylabel('on_thyroxine')\n",
        "plt.title('Distribution of gender  on_thyroxine') \n",
        "plt.show()\n",
        "#From the stacked column chart, we can see that there were more female patoents on_thyroxine "
      ],
      "execution_count": 178,
      "outputs": [
        {
          "output_type": "display_data",
          "data": {
            "image/png": "[encoded data removed]",
            "text/plain": [
              "<Figure size 648x360 with 1 Axes>"
            ]
          },
          "metadata": {
            "needs_background": "light"
          }
        }
      ]
    },
    {
      "cell_type": "code",
      "metadata": {
        "colab": {
          "base_uri": "https://localhost:8080/",
          "height": 350
        },
        "id": "wYpxWNzsC2Ly",
        "outputId": "1f23555b-5c0f-4ccb-8d04-a472a9924121"
      },
      "source": [
        "#stacked column chart for status agaist sex\n",
        "plt.figure(figsize=(9, 5))\n",
        "sns.histplot(x = df[\"sex\"], hue = df[\"status\"])\n",
        "plt.xlabel(\"sex\")\n",
        "plt.ylabel('status')\n",
        "plt.title('Distribution of status per gender') \n",
        "plt.show()\n",
        "#from the chart we can see that most of the patients status was negative but \n",
        "#more females were diagnosed with hypothyroism compared to male patients"
      ],
      "execution_count": 180,
      "outputs": [
        {
          "output_type": "display_data",
          "data": {
            "image/png": "[encoded data removed]",
            "text/plain": [
              "<Figure size 648x360 with 1 Axes>"
            ]
          },
          "metadata": {
            "needs_background": "light"
          }
        }
      ]
    },
    {
      "cell_type": "code",
      "metadata": {
        "colab": {
          "base_uri": "https://localhost:8080/"
        },
        "id": "HDRYU81YqpcU",
        "outputId": "4da92dad-0be0-497c-d7ca-2a070496be34"
      },
      "source": [
        "#frequecy table for sex vs on_antithyroid_medication\n",
        "df[[\"sex\",\"on_antithyroid_medication\"]].value_counts(sort = False)"
      ],
      "execution_count": 106,
      "outputs": [
        {
          "output_type": "execute_result",
          "data": {
            "text/plain": [
              "sex  on_antithyroid_medication\n",
              "F    f                            2222\n",
              "     t                              33\n",
              "M    f                             899\n",
              "     t                               9\n",
              "dtype: int64"
            ]
          },
          "metadata": {},
          "execution_count": 106
        }
      ]
    },
    {
      "cell_type": "code",
      "metadata": {
        "colab": {
          "base_uri": "https://localhost:8080/",
          "height": 350
        },
        "id": "FzXmOyTuqtgJ",
        "outputId": "aba9768c-04c1-45aa-a5bf-0be1ef832694"
      },
      "source": [
        "#Stacked column for sex vs patients on_antithyroid_medication\n",
        "plt.figure(figsize=(9, 5))\n",
        "sns.histplot(x = df[\"sex\"], hue = df[\"on_antithyroid_medication\"])\n",
        "plt.xlabel('sex')\n",
        "plt.ylabel('on_antithyroid_medication')\n",
        "plt.title('Distribution of gender on_antithyroid_medication') \n",
        "plt.show()\n",
        "#we can see that more female patients are on_antithyroid_medication compared to male patients"
      ],
      "execution_count": 107,
      "outputs": [
        {
          "output_type": "display_data",
          "data": {
            "image/png": "[encoded data removed]",
            "text/plain": [
              "<Figure size 648x360 with 1 Axes>"
            ]
          },
          "metadata": {
            "needs_background": "light"
          }
        }
      ]
    },
    {
      "cell_type": "code",
      "metadata": {
        "colab": {
          "base_uri": "https://localhost:8080/",
          "height": 350
        },
        "id": "NvbSrztLqz9A",
        "outputId": "556c97e5-5d2b-4d6f-c7a3-749278d4fac0"
      },
      "source": [
        "#stacked column for status vs T3_measured\n",
        "plt.figure(figsize=(9, 5))\n",
        "sns.histplot(x = df[\"status\"], hue = df[\"T3_measured\"])\n",
        "plt.xlabel('T3_measured')\n",
        "plt.ylabel('status')\n",
        "plt.title('status vs \tT3_measured') \n",
        "plt.show()\n",
        "\n"
      ],
      "execution_count": 108,
      "outputs": [
        {
          "output_type": "display_data",
          "data": {
            "image/png": "[encoded data removed]",
            "text/plain": [
              "<Figure size 648x360 with 1 Axes>"
            ]
          },
          "metadata": {
            "needs_background": "light"
          }
        }
      ]
    },
    {
      "cell_type": "code",
      "metadata": {
        "colab": {
          "base_uri": "https://localhost:8080/"
        },
        "id": "nCsEOaV-q0xn",
        "outputId": "e7e99ff3-74ba-467f-e533-3660c1087959"
      },
      "source": [
        "# Z-test for age of the patients \n",
        "from scipy import stats\n",
        "p_age= df['age']\n",
        "age_zscore = stats.zscore(p_age)\n",
        "\n",
        "print(\"The zscore for Respondents Age is:  n/\",age_zscore)"
      ],
      "execution_count": 109,
      "outputs": [
        {
          "output_type": "stream",
          "name": "stdout",
          "text": [
            "The zscore for Respondents Age is:  n/ [ 1.14173367 -2.04145851 -1.53884922 ...  1.42096106  1.25342463\n",
            "  0.24820604]\n"
          ]
        }
      ]
    },
    {
      "cell_type": "code",
      "metadata": {
        "colab": {
          "base_uri": "https://localhost:8080/",
          "height": 269
        },
        "id": "2vy1CJVkq50_",
        "outputId": "2c695408-493f-4fc0-94b4-38d7754cb31f"
      },
      "source": [
        "#correlation using heatmap\n",
        "sns.heatmap(df.corr(),annot=True)\n",
        "plt.show()"
      ],
      "execution_count": 110,
      "outputs": [
        {
          "output_type": "display_data",
          "data": {
            "image/png": "[encoded data removed]",
            "text/plain": [
              "<Figure size 432x288 with 2 Axes>"
            ]
          },
          "metadata": {
            "needs_background": "light"
          }
        }
      ]
    },
    {
      "cell_type": "markdown",
      "metadata": {
        "id": "vTbdjSrhVIiT"
      },
      "source": [
        "## 7. Implementing the Solution"
      ]
    },
    {
      "cell_type": "code",
      "metadata": {
        "id": "PJLZaRzJXJ3w",
        "colab": {
          "base_uri": "https://localhost:8080/"
        },
        "outputId": "436ef579-07aa-4285-ec74-30e649b70224"
      },
      "source": [
        "# FEATURE ENGINEERING\n",
        "# \n",
        "#installing category encoder\n",
        "!pip install category_encoders"
      ],
      "execution_count": 111,
      "outputs": [
        {
          "output_type": "stream",
          "name": "stdout",
          "text": [
            "Requirement already satisfied: category_encoders in /usr/local/lib/python3.7/dist-packages (2.3.0)\n",
            "Requirement already satisfied: pandas>=0.21.1 in /usr/local/lib/python3.7/dist-packages (from category_encoders) (1.1.5)\n",
            "Requirement already satisfied: statsmodels>=0.9.0 in /usr/local/lib/python3.7/dist-packages (from category_encoders) (0.10.2)\n",
            "Requirement already satisfied: scikit-learn>=0.20.0 in /usr/local/lib/python3.7/dist-packages (from category_encoders) (1.0.1)\n",
            "Requirement already satisfied: patsy>=0.5.1 in /usr/local/lib/python3.7/dist-packages (from category_encoders) (0.5.2)\n",
            "Requirement already satisfied: scipy>=1.0.0 in /usr/local/lib/python3.7/dist-packages (from category_encoders) (1.4.1)\n",
            "Requirement already satisfied: numpy>=1.14.0 in /usr/local/lib/python3.7/dist-packages (from category_encoders) (1.19.5)\n",
            "Requirement already satisfied: python-dateutil>=2.7.3 in /usr/local/lib/python3.7/dist-packages (from pandas>=0.21.1->category_encoders) (2.8.2)\n",
            "Requirement already satisfied: pytz>=2017.2 in /usr/local/lib/python3.7/dist-packages (from pandas>=0.21.1->category_encoders) (2018.9)\n",
            "Requirement already satisfied: six in /usr/local/lib/python3.7/dist-packages (from patsy>=0.5.1->category_encoders) (1.15.0)\n",
            "Requirement already satisfied: threadpoolctl>=2.0.0 in /usr/local/lib/python3.7/dist-packages (from scikit-learn>=0.20.0->category_encoders) (3.0.0)\n",
            "Requirement already satisfied: joblib>=0.11 in /usr/local/lib/python3.7/dist-packages (from scikit-learn>=0.20.0->category_encoders) (1.1.0)\n"
          ]
        }
      ]
    },
    {
      "cell_type": "code",
      "metadata": {
        "id": "SSo_S5K4Q_rJ"
      },
      "source": [
        "#start by creating a subset of numerical data so that I separate them from categorical data\n",
        "df1 = df[['age','TSH','T3','TT4','T4U','FTI']]\n",
        "df.drop(['age','TSH','T3','TT4','T4U','FTI'],axis=1,inplace=True)\n",
        "# import category encoders\n",
        "\n",
        "import category_encoders as ce"
      ],
      "execution_count": 112,
      "outputs": []
    },
    {
      "cell_type": "code",
      "metadata": {
        "colab": {
          "base_uri": "https://localhost:8080/",
          "height": 132
        },
        "id": "LptF7zgzRF0b",
        "outputId": "5e652da7-bd3b-41fc-9f27-95077a0013fb"
      },
      "source": [
        "# encode categorical variables with ordinal encoding\n",
        "\n",
        "encoder = ce.OrdinalEncoder(df.columns)\n",
        "df = encoder.fit_transform(df)\n",
        "df.head(2)"
      ],
      "execution_count": 113,
      "outputs": [
        {
          "output_type": "execute_result",
          "data": {
            "text/html": [
              "<div>\n",
              "<style scoped>\n",
              "    .dataframe tbody tr th:only-of-type {\n",
              "        vertical-align: middle;\n",
              "    }\n",
              "\n",
              "    .dataframe tbody tr th {\n",
              "        vertical-align: top;\n",
              "    }\n",
              "\n",
              "    .dataframe thead th {\n",
              "        text-align: right;\n",
              "    }\n",
              "</style>\n",
              "<table border=\"1\" class=\"dataframe\">\n",
              "  <thead>\n",
              "    <tr style=\"text-align: right;\">\n",
              "      <th></th>\n",
              "      <th>status</th>\n",
              "      <th>sex</th>\n",
              "      <th>on_thyroxine</th>\n",
              "      <th>query_on_thyroxine</th>\n",
              "      <th>on_antithyroid_medication</th>\n",
              "      <th>thyroid_surgery</th>\n",
              "      <th>query_hypothyroid</th>\n",
              "      <th>query_hyperthyroid</th>\n",
              "      <th>pregnant</th>\n",
              "      <th>sick</th>\n",
              "      <th>tumor</th>\n",
              "      <th>lithium</th>\n",
              "      <th>goitre</th>\n",
              "      <th>TSH_measured</th>\n",
              "      <th>T3_measured</th>\n",
              "      <th>TT4_measured</th>\n",
              "      <th>T4U_measured</th>\n",
              "      <th>FTI_measured</th>\n",
              "    </tr>\n",
              "  </thead>\n",
              "  <tbody>\n",
              "    <tr>\n",
              "      <th>0</th>\n",
              "      <td>1</td>\n",
              "      <td>1</td>\n",
              "      <td>1</td>\n",
              "      <td>1</td>\n",
              "      <td>1</td>\n",
              "      <td>1</td>\n",
              "      <td>1</td>\n",
              "      <td>1</td>\n",
              "      <td>1</td>\n",
              "      <td>1</td>\n",
              "      <td>1</td>\n",
              "      <td>1</td>\n",
              "      <td>1</td>\n",
              "      <td>1</td>\n",
              "      <td>1</td>\n",
              "      <td>1</td>\n",
              "      <td>1</td>\n",
              "      <td>1</td>\n",
              "    </tr>\n",
              "    <tr>\n",
              "      <th>1</th>\n",
              "      <td>1</td>\n",
              "      <td>2</td>\n",
              "      <td>2</td>\n",
              "      <td>1</td>\n",
              "      <td>1</td>\n",
              "      <td>1</td>\n",
              "      <td>1</td>\n",
              "      <td>1</td>\n",
              "      <td>1</td>\n",
              "      <td>1</td>\n",
              "      <td>1</td>\n",
              "      <td>1</td>\n",
              "      <td>1</td>\n",
              "      <td>1</td>\n",
              "      <td>1</td>\n",
              "      <td>1</td>\n",
              "      <td>1</td>\n",
              "      <td>1</td>\n",
              "    </tr>\n",
              "  </tbody>\n",
              "</table>\n",
              "</div>"
            ],
            "text/plain": [
              "   status  sex  on_thyroxine  ...  TT4_measured  T4U_measured  FTI_measured\n",
              "0       1    1             1  ...             1             1             1\n",
              "1       1    2             2  ...             1             1             1\n",
              "\n",
              "[2 rows x 18 columns]"
            ]
          },
          "metadata": {},
          "execution_count": 113
        }
      ]
    },
    {
      "cell_type": "code",
      "metadata": {
        "colab": {
          "base_uri": "https://localhost:8080/"
        },
        "id": "WDh_BrDVRI-0",
        "outputId": "0175eaeb-47d9-4b1d-d381-37c1ddd3652f"
      },
      "source": [
        "#concatinate the two tables\n",
        "df2 = pd.concat([df,df1],axis=1)\n",
        "#df2.head(4)\n",
        "df2.shape"
      ],
      "execution_count": 114,
      "outputs": [
        {
          "output_type": "execute_result",
          "data": {
            "text/plain": [
              "(3163, 24)"
            ]
          },
          "metadata": {},
          "execution_count": 114
        }
      ]
    },
    {
      "cell_type": "markdown",
      "metadata": {
        "id": "ddw01wwISBFi"
      },
      "source": [
        "## Decision Trees"
      ]
    },
    {
      "cell_type": "markdown",
      "metadata": {
        "id": "NPMMpEFFSEJp"
      },
      "source": [
        "### Ada boosted trees"
      ]
    },
    {
      "cell_type": "code",
      "metadata": {
        "id": "A-FrhKJoSRK2"
      },
      "source": [
        "#Lets import libraries that we shall use\n",
        "from sklearn.tree import DecisionTreeClassifier\n",
        "from sklearn.model_selection import train_test_split\n",
        "\n",
        "\n",
        "#splitting data into features and target\n",
        "X=df2.drop([\"status\"],1)\n",
        "y=df2[[\"status\"]].values\n",
        "\n",
        "#splittig the data into train and test set\n",
        "X_test,X_train,y_test,y_train=train_test_split(X,y,test_size=0.2,random_state=42)"
      ],
      "execution_count": 115,
      "outputs": []
    },
    {
      "cell_type": "code",
      "metadata": {
        "colab": {
          "base_uri": "https://localhost:8080/"
        },
        "id": "NW3cSkLxSlPo",
        "outputId": "6cdf5370-6fd1-45b5-febb-a53d8aeb5031"
      },
      "source": [
        "#lets Create a decision tree classifier\n",
        "tree = DecisionTreeClassifier()\n",
        "\n",
        "# Train it on our training set.\n",
        "tree = tree.fit(X_train, y_train)\n",
        "\n",
        "# Predict based on the model we've trained\n",
        "y_pred = tree.predict(X_test)\n",
        "#checking the accuracy of the model\n",
        "print(\"Accuracy:\",metrics.accuracy_score(y_test, y_pred)*100)"
      ],
      "execution_count": 116,
      "outputs": [
        {
          "output_type": "stream",
          "name": "stdout",
          "text": [
            "Accuracy: 97.70750988142292\n"
          ]
        }
      ]
    },
    {
      "cell_type": "code",
      "metadata": {
        "colab": {
          "base_uri": "https://localhost:8080/"
        },
        "id": "FURb023gSrMu",
        "outputId": "f2f44eda-ff9f-42a7-900b-d97d307c3e31"
      },
      "source": [
        "#Building our adaboost model\n",
        "from sklearn.ensemble import AdaBoostClassifier\n",
        "ada_boost = AdaBoostClassifier(DecisionTreeClassifier(max_depth=5), n_estimators=300, random_state=42)\n",
        "\n",
        "# Train it on our training set.\n",
        "ada_boost = ada_boost.fit(X_train, y_train)\n",
        "#making predictions using our model\n",
        "y_pred_ada = ada_boost.predict(X_test)\n",
        "#checking the accuracy of our model\n",
        "print(\"Accuracy:\",metrics.accuracy_score(y_test,y_pred_ada)*100)"
      ],
      "execution_count": 117,
      "outputs": [
        {
          "output_type": "stream",
          "name": "stdout",
          "text": [
            "Accuracy: 98.61660079051383\n"
          ]
        }
      ]
    },
    {
      "cell_type": "code",
      "metadata": {
        "colab": {
          "base_uri": "https://localhost:8080/"
        },
        "id": "92NS0LFKS3G7",
        "outputId": "7eb7b39a-c447-4cdf-c4c3-8f371a15296f"
      },
      "source": [
        "# We then use the confusion matrix to compare the number of correct predictions done by our model\n",
        "from sklearn.metrics import confusion_matrix \n",
        "confusion = confusion_matrix(y_test, y_pred_ada)\n",
        "confusion"
      ],
      "execution_count": 118,
      "outputs": [
        {
          "output_type": "execute_result",
          "data": {
            "text/plain": [
              "array([[  94,   20],\n",
              "       [  15, 2401]])"
            ]
          },
          "metadata": {},
          "execution_count": 118
        }
      ]
    },
    {
      "cell_type": "markdown",
      "metadata": {
        "id": "g5du4lxfS5px"
      },
      "source": [
        "### Gradient boosted trees"
      ]
    },
    {
      "cell_type": "code",
      "metadata": {
        "id": "BHsp-K02S-hk"
      },
      "source": [
        "#Lets import libraries that we shall use\n",
        "from sklearn.tree import DecisionTreeClassifier\n",
        "from sklearn.model_selection import train_test_split\n",
        "\n",
        "\n",
        "#splitting data into features and target\n",
        "X=df2.drop([\"status\"],1)\n",
        "y=df2[[\"status\"]].values\n",
        "\n",
        "#splittig the data into train and test set\n",
        "X_test,X_train,y_test,y_train=train_test_split(X,y,test_size=0.2,random_state=42)"
      ],
      "execution_count": 119,
      "outputs": []
    },
    {
      "cell_type": "code",
      "metadata": {
        "colab": {
          "base_uri": "https://localhost:8080/"
        },
        "id": "HNqe7MhRamag",
        "outputId": "b94e7ed2-adcc-43d6-dfff-a8a99b38d9c3"
      },
      "source": [
        "#gradient boosting\n",
        "!sudo pip install scikit-learn\n"
      ],
      "execution_count": 120,
      "outputs": [
        {
          "output_type": "stream",
          "name": "stdout",
          "text": [
            "Requirement already satisfied: scikit-learn in /usr/local/lib/python3.7/dist-packages (1.0.1)\n",
            "Requirement already satisfied: joblib>=0.11 in /usr/local/lib/python3.7/dist-packages (from scikit-learn) (1.1.0)\n",
            "Requirement already satisfied: threadpoolctl>=2.0.0 in /usr/local/lib/python3.7/dist-packages (from scikit-learn) (3.0.0)\n",
            "Requirement already satisfied: numpy>=1.14.6 in /usr/local/lib/python3.7/dist-packages (from scikit-learn) (1.19.5)\n",
            "Requirement already satisfied: scipy>=1.1.0 in /usr/local/lib/python3.7/dist-packages (from scikit-learn) (1.4.1)\n"
          ]
        }
      ]
    },
    {
      "cell_type": "code",
      "metadata": {
        "id": "i5LDJR49bWci"
      },
      "source": [
        "#importing the libraries to be used\n",
        "from sklearn.ensemble import GradientBoostingClassifier"
      ],
      "execution_count": 121,
      "outputs": []
    },
    {
      "cell_type": "code",
      "metadata": {
        "colab": {
          "base_uri": "https://localhost:8080/"
        },
        "id": "jfz2rfDbTHhi",
        "outputId": "edc537dc-013e-48da-8fff-2faf2bc662d7"
      },
      "source": [
        "#gradient boosting\n",
        "\n",
        "model = GradientBoostingClassifier(n_estimators=300, learning_rate=0.1, max_depth=5)\n",
        "#training our model\n",
        "model = model.fit(X_train, y_train)\n",
        "#making preductions\n",
        "y_pred_gbr = model.predict(X_test)\n",
        "\n",
        "from sklearn.metrics import accuracy_score\n",
        "\n",
        "#The accuracy of the model\n",
        "print('GB Accuracy is  ', metrics.accuracy_score(y_test,y_pred_gbr)*100)"
      ],
      "execution_count": 122,
      "outputs": [
        {
          "output_type": "stream",
          "name": "stdout",
          "text": [
            "GB Accuracy is   98.14229249011858\n"
          ]
        }
      ]
    },
    {
      "cell_type": "code",
      "metadata": {
        "colab": {
          "base_uri": "https://localhost:8080/"
        },
        "id": "cmeGJSDawqpK",
        "outputId": "6886fb89-3e54-4ce8-b482-e6d17de7affa"
      },
      "source": [
        "# We then use the confusion matrix to compare the number of correct predictions done by our model\n",
        "from sklearn.metrics import confusion_matrix \n",
        "confusion = confusion_matrix(y_test, y_pred_gbr)\n",
        "confusion"
      ],
      "execution_count": 135,
      "outputs": [
        {
          "output_type": "execute_result",
          "data": {
            "text/plain": [
              "array([[ 100,   14],\n",
              "       [  33, 2383]])"
            ]
          },
          "metadata": {},
          "execution_count": 135
        }
      ]
    },
    {
      "cell_type": "markdown",
      "metadata": {
        "id": "ajwoN6mh3Xxt"
      },
      "source": [
        "After analyzing the adaboost trees, its clear that the ada boosted tree has  the highest accuracy score as compared to the gradient boosted tree though the margin is not huge."
      ]
    },
    {
      "cell_type": "markdown",
      "metadata": {
        "id": "aGVGxXO0jFdi"
      },
      "source": [
        "## 8. Support Vector Machines(SMV)"
      ]
    },
    {
      "cell_type": "markdown",
      "metadata": {
        "id": "iIQ5vYV-jMn0"
      },
      "source": [
        "### Polynomial SVM"
      ]
    },
    {
      "cell_type": "code",
      "metadata": {
        "id": "4q62iXwygDDX"
      },
      "source": [
        "#splitting data into features and target\n",
        "X=df2.drop([\"status\"],1)\n",
        "y=df2[[\"status\"]].values\n",
        "\n",
        "#splittig the data into train and test set\n",
        "X_test,X_train,y_test,y_train=train_test_split(X,y,test_size=0.2,random_state=42)"
      ],
      "execution_count": 123,
      "outputs": []
    },
    {
      "cell_type": "code",
      "metadata": {
        "colab": {
          "base_uri": "https://localhost:8080/"
        },
        "id": "Q8LrKfWsjT-H",
        "outputId": "c2320c54-6097-46fd-8271-9534bdad1681"
      },
      "source": [
        "#Hyperparameter tuning\n",
        "from sklearn.model_selection import GridSearchCV\n",
        "from sklearn.svm import SVC\n",
        "\n",
        "model = SVC(kernel='poly')\n",
        "parameters=({\"C\":[0.1,10,100,1000],\"degree\":[3,4,5,6],\"gamma\":[0.1,0.01,0.001,0.0001]})\n",
        "\n",
        "#used gridsearch cv to identify the best parameters\n",
        "search=GridSearchCV(model,parameters)\n",
        "search.fit(X_train, y_train)\n",
        "\n",
        "#Get the best parameters\n",
        "print(search.best_params_)"
      ],
      "execution_count": 124,
      "outputs": [
        {
          "output_type": "stream",
          "name": "stdout",
          "text": [
            "{'C': 10, 'degree': 4, 'gamma': 0.0001}\n"
          ]
        }
      ]
    },
    {
      "cell_type": "code",
      "metadata": {
        "id": "_jckcv2umJ-M"
      },
      "source": [
        "# Building a polynomial model \n",
        "polyclassifier = SVC(kernel='poly',degree=4,C=10, gamma=0.0001)\n",
        "# Training the model using the training set\n",
        "polyclassifier.fit(X_train, y_train)\n",
        "\n",
        "#Making predictions\n",
        "y_pred=polyclassifier.predict(X_test)"
      ],
      "execution_count": 140,
      "outputs": []
    },
    {
      "cell_type": "code",
      "metadata": {
        "colab": {
          "base_uri": "https://localhost:8080/"
        },
        "id": "UiOMASfKnD0Y",
        "outputId": "744c6e9a-f9fe-4a96-a66f-05e0be942d50"
      },
      "source": [
        "#model evalutaion\n",
        "print(\"Accuracy is, \", accuracy_score(y_test, y_pred)*100)\n",
        "print(confusion_matrix(y_test, y_pred))"
      ],
      "execution_count": 142,
      "outputs": [
        {
          "output_type": "stream",
          "name": "stdout",
          "text": [
            "Accuracy is,  97.74703557312253\n",
            "[[  94   20]\n",
            " [  37 2379]]\n"
          ]
        }
      ]
    },
    {
      "cell_type": "markdown",
      "metadata": {
        "id": "Z2hq38rUnV3x"
      },
      "source": [
        "### Radial basis function (rbf)model"
      ]
    },
    {
      "cell_type": "code",
      "metadata": {
        "colab": {
          "base_uri": "https://localhost:8080/"
        },
        "id": "iiOx8QAHnSGN",
        "outputId": "2a03c523-2b04-46b5-fc97-cb8dc990ce80"
      },
      "source": [
        "#Hyperparameter tuning\n",
        "from sklearn.model_selection import GridSearchCV\n",
        "model = SVC(kernel='rbf')\n",
        "parameters=({\"C\":[0.1,10,100,1000],\"degree\":[3,4,5,6],\"gamma\":[0.1,0.01,0.001,0.0001]})\n",
        "\n",
        "#used gridsearch cv to identify the best parameters\n",
        "search=GridSearchCV(model,parameters)\n",
        "search.fit(X_train, y_train)\n",
        "\n",
        "#Get the best parameters\n",
        "print(search.best_params_)"
      ],
      "execution_count": 127,
      "outputs": [
        {
          "output_type": "stream",
          "name": "stdout",
          "text": [
            "{'C': 10, 'degree': 3, 'gamma': 0.0001}\n"
          ]
        }
      ]
    },
    {
      "cell_type": "code",
      "metadata": {
        "id": "tp1r6Y46nyUA"
      },
      "source": [
        "# Building a polynomial model \n",
        "model_rbf= SVC(kernel='rbf',degree=3,C=10, gamma=0.0001)\n",
        "# Training the model using the training set\n",
        "model_rbf.fit(X_train, y_train)\n",
        "\n",
        "#Making predictions\n",
        "y_pred=model_rbf.predict(X_test)"
      ],
      "execution_count": 147,
      "outputs": []
    },
    {
      "cell_type": "code",
      "metadata": {
        "colab": {
          "base_uri": "https://localhost:8080/"
        },
        "id": "fIZNHJX0oCS3",
        "outputId": "a303fd28-207e-40b8-caad-faae49861b4b"
      },
      "source": [
        "# Model Evaluation\n",
        "print(\"Accuracy is, \", accuracy_score(y_test, y_pred)*100)\n",
        "print(confusion_matrix(y_test, y_pred))"
      ],
      "execution_count": 144,
      "outputs": [
        {
          "output_type": "stream",
          "name": "stdout",
          "text": [
            "Accuracy is,  98.26086956521739\n",
            "[[  94   20]\n",
            " [  24 2392]]\n"
          ]
        }
      ]
    },
    {
      "cell_type": "markdown",
      "metadata": {
        "id": "XqlLIRYZoWCO"
      },
      "source": [
        "### Sigmoid model"
      ]
    },
    {
      "cell_type": "code",
      "metadata": {
        "colab": {
          "base_uri": "https://localhost:8080/"
        },
        "id": "7DKwnxgcoUvY",
        "outputId": "5abf3b27-9a79-41fc-9e49-6542c72dd49b"
      },
      "source": [
        "#Hyperparameter tuning\n",
        "from sklearn.model_selection import GridSearchCV\n",
        "model = SVC(kernel='sigmoid')\n",
        "parameters=({\"C\":[0.1,10,100,1000],\"degree\":[3,4,5,6],\"gamma\":[0.1,0.01,0.001,0.0001]})\n",
        "\n",
        "#used gridsearch cv to identify the best parameters\n",
        "search=GridSearchCV(model,parameters)\n",
        "search.fit(X_train, y_train)\n",
        "\n",
        "#Get the best parameters\n",
        "print(search.best_params_)"
      ],
      "execution_count": 131,
      "outputs": [
        {
          "output_type": "stream",
          "name": "stdout",
          "text": [
            "{'C': 0.1, 'degree': 3, 'gamma': 0.0001}\n"
          ]
        }
      ]
    },
    {
      "cell_type": "code",
      "metadata": {
        "id": "QHKpOgXPod6Y"
      },
      "source": [
        "# Building a sigmoid model \n",
        "model_sig= SVC(kernel='sigmoid',degree=3,C=0.1, gamma=0.0001)\n",
        "# Training the model using the training set\n",
        "model_sig.fit(X_train, y_train)\n",
        "\n",
        "#Making predictions\n",
        "y_pred=model_sig.predict(X_test)"
      ],
      "execution_count": 148,
      "outputs": []
    },
    {
      "cell_type": "code",
      "metadata": {
        "colab": {
          "base_uri": "https://localhost:8080/"
        },
        "id": "S4qUfgggonBV",
        "outputId": "ff9f847c-6ec0-4892-c05a-40b4cfacb3f8"
      },
      "source": [
        "# Model Evaluation\n",
        "print(\"Accuracy is, \", accuracy_score(y_test, y_pred)*100)\n",
        "print(confusion_matrix(y_test, y_pred))"
      ],
      "execution_count": 146,
      "outputs": [
        {
          "output_type": "stream",
          "name": "stdout",
          "text": [
            "Accuracy is,  95.8102766798419\n",
            "[[   8  106]\n",
            " [   0 2416]]\n"
          ]
        }
      ]
    },
    {
      "cell_type": "markdown",
      "metadata": {
        "id": "CLNj5aGt4wDe"
      },
      "source": [
        "After analyzing all our support vector machines, its clear that the radial basis function gave us the highest accuracy score as compared to the other support vector classifiers followed by the polynomial function then sigmoid."
      ]
    },
    {
      "cell_type": "markdown",
      "metadata": {
        "id": "NQ1i1-tyN7VP"
      },
      "source": [
        "## Challanging the model"
      ]
    },
    {
      "cell_type": "markdown",
      "metadata": {
        "id": "XcuwAUIUGY0a"
      },
      "source": [
        "## Random Forest Tree"
      ]
    },
    {
      "cell_type": "code",
      "metadata": {
        "id": "wAZNX-OJGdJQ"
      },
      "source": [
        "#splitting data into features and target\n",
        "X=df2.drop([\"status\"],1)\n",
        "y=df2[[\"status\"]].values\n",
        "\n",
        "from sklearn.model_selection import train_test_split\n",
        "\n",
        "# Train using 70% of the data.\n",
        "X_train, X_test, y_train, y_test = train_test_split(X, y, test_size=0.3, random_state=0)"
      ],
      "execution_count": 182,
      "outputs": []
    },
    {
      "cell_type": "code",
      "metadata": {
        "id": "t1idw85eH1Gu"
      },
      "source": [
        "# Import the model\n",
        "from sklearn.ensemble import RandomForestClassifier\n",
        "\n",
        "# The random_state variable is here to guarantee that we all see the same numbers so we use 42\n",
        "\n",
        "forest = RandomForestClassifier(n_estimators = 100, random_state=42, min_samples_split = 20, max_depth=5)\n",
        "forest = forest.fit(X_train, y_train)\n",
        "\n",
        "# Predict based on the model we've trained\n",
        "y_pred = forest.predict(X_test)"
      ],
      "execution_count": 183,
      "outputs": []
    },
    {
      "cell_type": "code",
      "metadata": {
        "colab": {
          "base_uri": "https://localhost:8080/"
        },
        "id": "rfnTKFH1INq4",
        "outputId": "cc04efa6-6b79-4317-afed-0f98879b17da"
      },
      "source": [
        "# We then use the confusion matrix to compare the number of correct predictions done by our model\n",
        "from sklearn.metrics import confusion_matrix \n",
        "confusion = confusion_matrix(y_test, y_pred)\n",
        "confusion\n"
      ],
      "execution_count": 186,
      "outputs": [
        {
          "output_type": "execute_result",
          "data": {
            "text/plain": [
              "array([[ 26,  13],\n",
              "       [  5, 905]])"
            ]
          },
          "metadata": {},
          "execution_count": 186
        }
      ]
    },
    {
      "cell_type": "code",
      "metadata": {
        "colab": {
          "base_uri": "https://localhost:8080/"
        },
        "id": "NWC-cpkxIzkr",
        "outputId": "8a8ba85a-c546-44c9-8397-69614e0c774a"
      },
      "source": [
        "# We can also determine the model's prediction accuracy using the accuracy score metric\n",
        "from sklearn.metrics import accuracy_score\n",
        "accuracy = accuracy_score(y_test,y_pred)\n",
        "print(\"The accuracy of our random forest classifier is: \", accuracy*100)"
      ],
      "execution_count": 187,
      "outputs": [
        {
          "output_type": "stream",
          "name": "stdout",
          "text": [
            "The accuracy of our random forest classifier is:  98.10326659641728\n"
          ]
        }
      ]
    },
    {
      "cell_type": "code",
      "metadata": {
        "colab": {
          "base_uri": "https://localhost:8080/",
          "height": 381
        },
        "id": "OuDjsQF3I7F8",
        "outputId": "c3195fab-1e99-45f6-c046-d08c67564239"
      },
      "source": [
        "# We can then go ahead and visualize an individual tree within our forest\n",
        "!pip install --upgrade scikit-learn==0.20.3\n",
        "from sklearn.tree import export_graphviz\n",
        "from sklearn.externals.six import StringIO  \n",
        "from IPython.display import Image  \n",
        "import pydotplus\n",
        "\n",
        "dot_data = StringIO()\n",
        "# Pick a specific tree from the forest\n",
        "tree = forest.estimators_[45]\n",
        "\n",
        "export_graphviz(tree, out_file=dot_data,  \n",
        "                filled=True, rounded=True,\n",
        "                special_characters=True,feature_names = X.columns)\n",
        "graph = pydotplus.graph_from_dot_data(dot_data.getvalue())  \n",
        "graph.write_png('hypothyroidism_forest.png')\n",
        "Image(graph.create_png())"
      ],
      "execution_count": 196,
      "outputs": [
        {
          "output_type": "stream",
          "name": "stdout",
          "text": [
            "Requirement already satisfied: scikit-learn==0.20.3 in /usr/local/lib/python3.7/dist-packages (0.20.3)\n",
            "Requirement already satisfied: scipy>=0.13.3 in /usr/local/lib/python3.7/dist-packages (from scikit-learn==0.20.3) (1.4.1)\n",
            "Requirement already satisfied: numpy>=1.8.2 in /usr/local/lib/python3.7/dist-packages (from scikit-learn==0.20.3) (1.19.5)\n"
          ]
        },
        {
          "output_type": "execute_result",
          "data": {
            "image/png": "[encoded data removed]",
            "text/plain": [
              "<IPython.core.display.Image object>"
            ]
          },
          "metadata": {},
          "execution_count": 196
        }
      ]
    },
    {
      "cell_type": "code",
      "metadata": {
        "colab": {
          "base_uri": "https://localhost:8080/"
        },
        "id": "eNn8WTHzKnqg",
        "outputId": "8aed6d91-614e-4af1-df82-fac1a408d045"
      },
      "source": [
        "# Feature importance\n",
        "# Get numerical feature importances\n",
        "importances = list(tree.feature_importances_)\n",
        "\n",
        "# We now use some Python magic to connect each feature with its importance\n",
        "# List of tuples with variable and importance\n",
        "# round(importance, 2) simply means rounding off the importance to 2 decimal places\n",
        "feature_importances = [(feature, round(importance, 2)) for feature, importance in zip(X, importances)]\n",
        "\n",
        "print(feature_importances) #this already has all the information we need, but it can be tricky to see when there are too many features.\n",
        "print()\n",
        "\n",
        "# Nice to have: We can sort the values in descending order, since we care about the most important features first.\n",
        "feature_importances = sorted(feature_importances, key = lambda x: x[1], reverse = True)\n",
        "\n",
        "# Print out the feature and importances \n",
        "[print('Variable: {:20} Importance: {}'.format(*pair)) for pair in feature_importances];\n"
      ],
      "execution_count": 195,
      "outputs": [
        {
          "output_type": "stream",
          "name": "stdout",
          "text": [
            "[('sex', 0.0), ('on_thyroxine', 0.0), ('query_on_thyroxine', 0.0), ('on_antithyroid_medication', 0.02), ('thyroid_surgery', 0.01), ('query_hypothyroid', 0.0), ('query_hyperthyroid', 0.0), ('pregnant', 0.0), ('sick', 0.0), ('tumor', 0.0), ('lithium', 0.0), ('goitre', 0.0), ('TSH_measured', 0.0), ('T3_measured', 0.0), ('TT4_measured', 0.0), ('T4U_measured', 0.0), ('FTI_measured', 0.0), ('age', 0.02), ('TSH', 0.12), ('T3', 0.0), ('TT4', 0.72), ('T4U', 0.06), ('FTI', 0.05)]\n",
            "\n",
            "Variable: TT4                  Importance: 0.72\n",
            "Variable: TSH                  Importance: 0.12\n",
            "Variable: T4U                  Importance: 0.06\n",
            "Variable: FTI                  Importance: 0.05\n",
            "Variable: on_antithyroid_medication Importance: 0.02\n",
            "Variable: age                  Importance: 0.02\n",
            "Variable: thyroid_surgery      Importance: 0.01\n",
            "Variable: sex                  Importance: 0.0\n",
            "Variable: on_thyroxine         Importance: 0.0\n",
            "Variable: query_on_thyroxine   Importance: 0.0\n",
            "Variable: query_hypothyroid    Importance: 0.0\n",
            "Variable: query_hyperthyroid   Importance: 0.0\n",
            "Variable: pregnant             Importance: 0.0\n",
            "Variable: sick                 Importance: 0.0\n",
            "Variable: tumor                Importance: 0.0\n",
            "Variable: lithium              Importance: 0.0\n",
            "Variable: goitre               Importance: 0.0\n",
            "Variable: TSH_measured         Importance: 0.0\n",
            "Variable: T3_measured          Importance: 0.0\n",
            "Variable: TT4_measured         Importance: 0.0\n",
            "Variable: T4U_measured         Importance: 0.0\n",
            "Variable: FTI_measured         Importance: 0.0\n",
            "Variable: T3                   Importance: 0.0\n"
          ]
        }
      ]
    },
    {
      "cell_type": "markdown",
      "metadata": {
        "id": "2NF00VlpLpEy"
      },
      "source": [
        "Since we're trying to predict whether a patient has hypothyroidism or not, the only important features we need are :\n",
        "\n",
        "Variable: TT4 \n",
        "\n",
        "Variable: TSH   \n",
        "\n",
        "Variable: T4U  \n",
        "\n",
        "Variable: FTI  \n",
        "\n",
        "     "
      ]
    }
  ]
}