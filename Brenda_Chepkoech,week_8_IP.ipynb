{
  "nbformat": 4,
  "nbformat_minor": 0,
  "metadata": {
    "colab": {
      "name": "Brenda Chepkoech,week 8 IP",
      "provenance": [],
      "collapsed_sections": [],
      "include_colab_link": true
    },
    "kernelspec": {
      "name": "python3",
      "display_name": "Python 3"
    }
  },
  "cells": [
    {
      "cell_type": "markdown",
      "metadata": {
        "id": "view-in-github",
        "colab_type": "text"
      },
      "source": [
        "<a href=\"https://colab.research.google.com/github/BrendaChepkoech/Hypothyroidism-Project/blob/main/Brenda_Chepkoech%2Cweek_8_IP.ipynb\" target=\"_parent\"><img src=\"https://colab.research.google.com/assets/colab-badge.svg\" alt=\"Open In Colab\"/></a>"
      ]
    },
    {
      "cell_type": "markdown",
      "metadata": {
        "id": "VeCZiGk62wcY"
      },
      "source": [
        "# Hypothyroidism Project"
      ]
    },
    {
      "cell_type": "markdown",
      "metadata": {
        "id": "kLG2VTrnTvYL"
      },
      "source": [
        "## 1. Defining the Question"
      ]
    },
    {
      "cell_type": "markdown",
      "metadata": {
        "id": "XecOwPNorl2W"
      },
      "source": [
        "### a) Specifying the Question"
      ]
    },
    {
      "cell_type": "markdown",
      "metadata": {
        "id": "8l3-hBO6bODP"
      },
      "source": [
        "Nairobi Hospital conducted a clinical camp to test for hypothyroidism. The data collected focused on Thyroid patients. Use the healthcare datasets provided to accomplish the following:\n",
        "\n",
        "Build a model that determines whether or not the patient's symptoms indicate that the patient has hypothyroid."
      ]
    },
    {
      "cell_type": "markdown",
      "metadata": {
        "id": "J4wfHZwQrs-t"
      },
      "source": [
        "### b) Defining the Metric for Success"
      ]
    },
    {
      "cell_type": "markdown",
      "metadata": {
        "id": "oSylqaIJtPuy"
      },
      "source": [
        "Being able to build an accurate model that determines whether or not the patient's symptoms indicate that the patient has hypothyroid.\n",
        "\n",
        "Part 1: Decision trees\n",
        "\n",
        "Part 2: Support Vector Machine(SVM)"
      ]
    },
    {
      "cell_type": "markdown",
      "metadata": {
        "id": "a9BPYqunry97"
      },
      "source": [
        "### c) Understanding the context "
      ]
    },
    {
      "cell_type": "markdown",
      "metadata": {
        "id": "Ly_065Uwtspr"
      },
      "source": [
        "Hypothyroidism's deficiency of thyroid hormones can disrupt such things as heart rate, body temperature and all aspects of metabolism. Hypothyroidism is most prevalent in older women.\n",
        "Nairobi Hospital conducted a clinical camp to test for hypothyroidism.The data collected focused on Thyroid patients. \n",
        "\n",
        "- The Levothyroxine (T4) and Triiodothyronine (T3) hormones are produced by the thyroid gland and they play major role in converting nutrients into energy and thereby help in regulating body temperature, brain function and even the heart rate.\n",
        "- The amount of T3 and T4 hormones in the blood is controlled by the Thyroid Stimulating Hormone (TSH). \n",
        "- There are different thyroid function tests such as TSH, T3, T4U, Total T4 and Free T4 Index (FTI) that are done to assess the various functions related to the thyroid gland. \n",
        "- A low TSH and low T4 indicate secondary hypothyroidism while a high TSH and low T4 indicate primary hypothyroidism. \n",
        "- T3 tests are used for determining the severity of the hyperthyroidism or to diagnose the hyperthyroidism."
      ]
    },
    {
      "cell_type": "markdown",
      "metadata": {
        "id": "7KMRBJ7zr9HD"
      },
      "source": [
        "### d) Recording the Experimental Design"
      ]
    },
    {
      "cell_type": "markdown",
      "metadata": {
        "id": "ViIUjTYWuFOf"
      },
      "source": [
        "- Import the relevant libraries that we will use in our analysis\n",
        "- Read and explore the dataset we will use for our project\n",
        "- Find and deal with anomalies, and missing data within the dataset. \n",
        "- Perform univariate, bivariate and multivariate analysis recording your observations.\n",
        "- Implement the solution by building models that can predict whether a patient has hypothyroidism or not.\n",
        "- For this section, we will build a model using the advanced decision trees such as Ada boost and/or the Gradient boosted trees and afterwards evaluate their performance\n",
        "- Also, apply Polynomial, sigmoid and rbf kernel functions to build your SVM model and then evaluate their performance\n",
        "- Give recommendations on which model is the best in predicting whether a person has hypothyroidism or not."
      ]
    },
    {
      "cell_type": "markdown",
      "metadata": {
        "id": "zSGyg6kWsBUl"
      },
      "source": [
        "### e) Data Relevance"
      ]
    },
    {
      "cell_type": "markdown",
      "metadata": {
        "id": "uIQebVSJuBOb"
      },
      "source": [
        "The data is relevant since we have all the features that will help us predict whether a patient has hyperthyrodism or not\n",
        "\n",
        "Dataset link http://bit.ly/hypothyroid_data\n",
        "\n",
        "**Dataset Columns**\n",
        "\n",
        "Age\n",
        "\n",
        "Sex\n",
        "\n",
        "on_thyroxine\n",
        "\n",
        "query_on_thyroxine\n",
        "\n",
        "on_antithyroid_medicationthyroid_surgery\n",
        "\n",
        "query_hypothyroid\n",
        "\n",
        "query_hyperthyroid\n",
        "\n",
        "pregnant\n",
        "\n",
        "sick\n",
        "\n",
        "tumor\n",
        "\n",
        "lithium\n",
        "\n",
        "goitre\n",
        "\n",
        "TSH_measured\n",
        "\n",
        "TSH\n",
        "\n",
        "T3_measured\n",
        "\n",
        "T3\n",
        "\n",
        "TT4_measured\n",
        "\n",
        "TT4"
      ]
    },
    {
      "cell_type": "markdown",
      "metadata": {
        "id": "iUNbvIvnT7ep"
      },
      "source": [
        "## 2. Reading the Data"
      ]
    },
    {
      "cell_type": "code",
      "metadata": {
        "id": "VImu55XdrH-s"
      },
      "source": [
        "# Loading libraries\n",
        "import numpy as np\n",
        "import pandas as pd\n",
        "import seaborn as sns\n",
        "import matplotlib.pyplot as plt\n",
        "\n",
        "from sklearn import linear_model, datasets\n",
        "from sklearn.model_selection import GridSearchCV\n",
        "from sklearn.model_selection import train_test_split\n",
        "from sklearn.metrics import classification_report\n",
        "from sklearn import metrics\n",
        "from sklearn.preprocessing import StandardScaler\n",
        "from sklearn.preprocessing import LabelEncoder\n",
        "from sklearn.ensemble import RandomForestClassifier\n",
        "from sklearn.ensemble import AdaBoostClassifier\n",
        "from sklearn.metrics import confusion_matrix \n",
        "from sklearn.tree import DecisionTreeClassifier\n",
        "from sklearn.svm import SVC\n",
        "from sklearn.ensemble import GradientBoostingClassifier\n",
        "from sklearn.metrics import accuracy_score\n",
        "\n",
        "import warnings\n",
        "warnings.filterwarnings(\"ignore\")"
      ],
      "execution_count": null,
      "outputs": []
    },
    {
      "cell_type": "code",
      "metadata": {
        "id": "XJn2KjW-WMlG"
      },
      "source": [
        "# Loading the Dataset\n",
        "df=pd.read_csv(\"/content/hypothyroid.csv\")\n"
      ],
      "execution_count": null,
      "outputs": []
    },
    {
      "cell_type": "markdown",
      "metadata": {
        "id": "OI3P3YnHUEBk"
      },
      "source": [
        "## 3. Checking the Data"
      ]
    },
    {
      "cell_type": "code",
      "metadata": {
        "id": "YjSVNwgptHxY",
        "colab": {
          "base_uri": "https://localhost:8080/"
        },
        "outputId": "173d0b40-5299-405f-b485-244703af213b"
      },
      "source": [
        "# Determining the no. of records in our dataset\n",
        "#\n",
        "df.shape\n",
        "#our dataset has 3163 columns and 26 columns"
      ],
      "execution_count": null,
      "outputs": [
        {
          "output_type": "execute_result",
          "data": {
            "text/plain": [
              "(3163, 26)"
            ]
          },
          "metadata": {},
          "execution_count": 19
        }
      ]
    },
    {
      "cell_type": "code",
      "metadata": {
        "id": "xHhTw5eKWr0n",
        "colab": {
          "base_uri": "https://localhost:8080/",
          "height": 226
        },
        "outputId": "84705214-1e26-4874-9222-730c4b1e1dc7"
      },
      "source": [
        "# Previewing the top of our dataset\n",
        "#\n",
        "df.head()"
      ],
      "execution_count": null,
      "outputs": [
        {
          "output_type": "execute_result",
          "data": {
            "text/html": [
              "<div>\n",
              "<style scoped>\n",
              "    .dataframe tbody tr th:only-of-type {\n",
              "        vertical-align: middle;\n",
              "    }\n",
              "\n",
              "    .dataframe tbody tr th {\n",
              "        vertical-align: top;\n",
              "    }\n",
              "\n",
              "    .dataframe thead th {\n",
              "        text-align: right;\n",
              "    }\n",
              "</style>\n",
              "<table border=\"1\" class=\"dataframe\">\n",
              "  <thead>\n",
              "    <tr style=\"text-align: right;\">\n",
              "      <th></th>\n",
              "      <th>status</th>\n",
              "      <th>age</th>\n",
              "      <th>sex</th>\n",
              "      <th>on_thyroxine</th>\n",
              "      <th>query_on_thyroxine</th>\n",
              "      <th>on_antithyroid_medication</th>\n",
              "      <th>thyroid_surgery</th>\n",
              "      <th>query_hypothyroid</th>\n",
              "      <th>query_hyperthyroid</th>\n",
              "      <th>pregnant</th>\n",
              "      <th>sick</th>\n",
              "      <th>tumor</th>\n",
              "      <th>lithium</th>\n",
              "      <th>goitre</th>\n",
              "      <th>TSH_measured</th>\n",
              "      <th>TSH</th>\n",
              "      <th>T3_measured</th>\n",
              "      <th>T3</th>\n",
              "      <th>TT4_measured</th>\n",
              "      <th>TT4</th>\n",
              "      <th>T4U_measured</th>\n",
              "      <th>T4U</th>\n",
              "      <th>FTI_measured</th>\n",
              "      <th>FTI</th>\n",
              "      <th>TBG_measured</th>\n",
              "      <th>TBG</th>\n",
              "    </tr>\n",
              "  </thead>\n",
              "  <tbody>\n",
              "    <tr>\n",
              "      <th>0</th>\n",
              "      <td>hypothyroid</td>\n",
              "      <td>72</td>\n",
              "      <td>M</td>\n",
              "      <td>f</td>\n",
              "      <td>f</td>\n",
              "      <td>f</td>\n",
              "      <td>f</td>\n",
              "      <td>f</td>\n",
              "      <td>f</td>\n",
              "      <td>f</td>\n",
              "      <td>f</td>\n",
              "      <td>f</td>\n",
              "      <td>f</td>\n",
              "      <td>f</td>\n",
              "      <td>y</td>\n",
              "      <td>30</td>\n",
              "      <td>y</td>\n",
              "      <td>0.60</td>\n",
              "      <td>y</td>\n",
              "      <td>15</td>\n",
              "      <td>y</td>\n",
              "      <td>1.48</td>\n",
              "      <td>y</td>\n",
              "      <td>10</td>\n",
              "      <td>n</td>\n",
              "      <td>?</td>\n",
              "    </tr>\n",
              "    <tr>\n",
              "      <th>1</th>\n",
              "      <td>hypothyroid</td>\n",
              "      <td>15</td>\n",
              "      <td>F</td>\n",
              "      <td>t</td>\n",
              "      <td>f</td>\n",
              "      <td>f</td>\n",
              "      <td>f</td>\n",
              "      <td>f</td>\n",
              "      <td>f</td>\n",
              "      <td>f</td>\n",
              "      <td>f</td>\n",
              "      <td>f</td>\n",
              "      <td>f</td>\n",
              "      <td>f</td>\n",
              "      <td>y</td>\n",
              "      <td>145</td>\n",
              "      <td>y</td>\n",
              "      <td>1.70</td>\n",
              "      <td>y</td>\n",
              "      <td>19</td>\n",
              "      <td>y</td>\n",
              "      <td>1.13</td>\n",
              "      <td>y</td>\n",
              "      <td>17</td>\n",
              "      <td>n</td>\n",
              "      <td>?</td>\n",
              "    </tr>\n",
              "    <tr>\n",
              "      <th>2</th>\n",
              "      <td>hypothyroid</td>\n",
              "      <td>24</td>\n",
              "      <td>M</td>\n",
              "      <td>f</td>\n",
              "      <td>f</td>\n",
              "      <td>f</td>\n",
              "      <td>f</td>\n",
              "      <td>f</td>\n",
              "      <td>f</td>\n",
              "      <td>f</td>\n",
              "      <td>f</td>\n",
              "      <td>f</td>\n",
              "      <td>f</td>\n",
              "      <td>f</td>\n",
              "      <td>y</td>\n",
              "      <td>0</td>\n",
              "      <td>y</td>\n",
              "      <td>0.20</td>\n",
              "      <td>y</td>\n",
              "      <td>4</td>\n",
              "      <td>y</td>\n",
              "      <td>1</td>\n",
              "      <td>y</td>\n",
              "      <td>0</td>\n",
              "      <td>n</td>\n",
              "      <td>?</td>\n",
              "    </tr>\n",
              "    <tr>\n",
              "      <th>3</th>\n",
              "      <td>hypothyroid</td>\n",
              "      <td>24</td>\n",
              "      <td>F</td>\n",
              "      <td>f</td>\n",
              "      <td>f</td>\n",
              "      <td>f</td>\n",
              "      <td>f</td>\n",
              "      <td>f</td>\n",
              "      <td>f</td>\n",
              "      <td>f</td>\n",
              "      <td>f</td>\n",
              "      <td>f</td>\n",
              "      <td>f</td>\n",
              "      <td>f</td>\n",
              "      <td>y</td>\n",
              "      <td>430</td>\n",
              "      <td>y</td>\n",
              "      <td>0.40</td>\n",
              "      <td>y</td>\n",
              "      <td>6</td>\n",
              "      <td>y</td>\n",
              "      <td>1.04</td>\n",
              "      <td>y</td>\n",
              "      <td>6</td>\n",
              "      <td>n</td>\n",
              "      <td>?</td>\n",
              "    </tr>\n",
              "    <tr>\n",
              "      <th>4</th>\n",
              "      <td>hypothyroid</td>\n",
              "      <td>77</td>\n",
              "      <td>M</td>\n",
              "      <td>f</td>\n",
              "      <td>f</td>\n",
              "      <td>f</td>\n",
              "      <td>f</td>\n",
              "      <td>f</td>\n",
              "      <td>f</td>\n",
              "      <td>f</td>\n",
              "      <td>f</td>\n",
              "      <td>f</td>\n",
              "      <td>f</td>\n",
              "      <td>f</td>\n",
              "      <td>y</td>\n",
              "      <td>7.30</td>\n",
              "      <td>y</td>\n",
              "      <td>1.20</td>\n",
              "      <td>y</td>\n",
              "      <td>57</td>\n",
              "      <td>y</td>\n",
              "      <td>1.28</td>\n",
              "      <td>y</td>\n",
              "      <td>44</td>\n",
              "      <td>n</td>\n",
              "      <td>?</td>\n",
              "    </tr>\n",
              "  </tbody>\n",
              "</table>\n",
              "</div>"
            ],
            "text/plain": [
              "        status age sex on_thyroxine  ... FTI_measured FTI TBG_measured TBG\n",
              "0  hypothyroid  72   M            f  ...            y  10            n   ?\n",
              "1  hypothyroid  15   F            t  ...            y  17            n   ?\n",
              "2  hypothyroid  24   M            f  ...            y   0            n   ?\n",
              "3  hypothyroid  24   F            f  ...            y   6            n   ?\n",
              "4  hypothyroid  77   M            f  ...            y  44            n   ?\n",
              "\n",
              "[5 rows x 26 columns]"
            ]
          },
          "metadata": {},
          "execution_count": 20
        }
      ]
    },
    {
      "cell_type": "code",
      "metadata": {
        "id": "e9AzGcZFrIIr",
        "colab": {
          "base_uri": "https://localhost:8080/",
          "height": 226
        },
        "outputId": "cfb094b7-e995-466c-9f23-7d29694aec20"
      },
      "source": [
        "# Previewing the bottom of our dataset\n",
        "# \n",
        "df.tail(5)"
      ],
      "execution_count": null,
      "outputs": [
        {
          "output_type": "execute_result",
          "data": {
            "text/html": [
              "<div>\n",
              "<style scoped>\n",
              "    .dataframe tbody tr th:only-of-type {\n",
              "        vertical-align: middle;\n",
              "    }\n",
              "\n",
              "    .dataframe tbody tr th {\n",
              "        vertical-align: top;\n",
              "    }\n",
              "\n",
              "    .dataframe thead th {\n",
              "        text-align: right;\n",
              "    }\n",
              "</style>\n",
              "<table border=\"1\" class=\"dataframe\">\n",
              "  <thead>\n",
              "    <tr style=\"text-align: right;\">\n",
              "      <th></th>\n",
              "      <th>status</th>\n",
              "      <th>age</th>\n",
              "      <th>sex</th>\n",
              "      <th>on_thyroxine</th>\n",
              "      <th>query_on_thyroxine</th>\n",
              "      <th>on_antithyroid_medication</th>\n",
              "      <th>thyroid_surgery</th>\n",
              "      <th>query_hypothyroid</th>\n",
              "      <th>query_hyperthyroid</th>\n",
              "      <th>pregnant</th>\n",
              "      <th>sick</th>\n",
              "      <th>tumor</th>\n",
              "      <th>lithium</th>\n",
              "      <th>goitre</th>\n",
              "      <th>TSH_measured</th>\n",
              "      <th>TSH</th>\n",
              "      <th>T3_measured</th>\n",
              "      <th>T3</th>\n",
              "      <th>TT4_measured</th>\n",
              "      <th>TT4</th>\n",
              "      <th>T4U_measured</th>\n",
              "      <th>T4U</th>\n",
              "      <th>FTI_measured</th>\n",
              "      <th>FTI</th>\n",
              "      <th>TBG_measured</th>\n",
              "      <th>TBG</th>\n",
              "    </tr>\n",
              "  </thead>\n",
              "  <tbody>\n",
              "    <tr>\n",
              "      <th>3158</th>\n",
              "      <td>negative</td>\n",
              "      <td>58</td>\n",
              "      <td>F</td>\n",
              "      <td>f</td>\n",
              "      <td>f</td>\n",
              "      <td>f</td>\n",
              "      <td>f</td>\n",
              "      <td>f</td>\n",
              "      <td>f</td>\n",
              "      <td>f</td>\n",
              "      <td>f</td>\n",
              "      <td>f</td>\n",
              "      <td>f</td>\n",
              "      <td>f</td>\n",
              "      <td>y</td>\n",
              "      <td>5.80</td>\n",
              "      <td>y</td>\n",
              "      <td>1.70</td>\n",
              "      <td>y</td>\n",
              "      <td>86</td>\n",
              "      <td>y</td>\n",
              "      <td>0.91</td>\n",
              "      <td>y</td>\n",
              "      <td>95</td>\n",
              "      <td>n</td>\n",
              "      <td>?</td>\n",
              "    </tr>\n",
              "    <tr>\n",
              "      <th>3159</th>\n",
              "      <td>negative</td>\n",
              "      <td>29</td>\n",
              "      <td>F</td>\n",
              "      <td>f</td>\n",
              "      <td>f</td>\n",
              "      <td>f</td>\n",
              "      <td>f</td>\n",
              "      <td>f</td>\n",
              "      <td>f</td>\n",
              "      <td>f</td>\n",
              "      <td>f</td>\n",
              "      <td>f</td>\n",
              "      <td>f</td>\n",
              "      <td>f</td>\n",
              "      <td>y</td>\n",
              "      <td>0.80</td>\n",
              "      <td>y</td>\n",
              "      <td>1.80</td>\n",
              "      <td>y</td>\n",
              "      <td>99</td>\n",
              "      <td>y</td>\n",
              "      <td>1.01</td>\n",
              "      <td>y</td>\n",
              "      <td>98</td>\n",
              "      <td>n</td>\n",
              "      <td>?</td>\n",
              "    </tr>\n",
              "    <tr>\n",
              "      <th>3160</th>\n",
              "      <td>negative</td>\n",
              "      <td>77</td>\n",
              "      <td>M</td>\n",
              "      <td>f</td>\n",
              "      <td>f</td>\n",
              "      <td>f</td>\n",
              "      <td>f</td>\n",
              "      <td>f</td>\n",
              "      <td>f</td>\n",
              "      <td>f</td>\n",
              "      <td>f</td>\n",
              "      <td>f</td>\n",
              "      <td>f</td>\n",
              "      <td>f</td>\n",
              "      <td>y</td>\n",
              "      <td>1.20</td>\n",
              "      <td>y</td>\n",
              "      <td>0.60</td>\n",
              "      <td>y</td>\n",
              "      <td>71</td>\n",
              "      <td>y</td>\n",
              "      <td>0.68</td>\n",
              "      <td>y</td>\n",
              "      <td>104</td>\n",
              "      <td>n</td>\n",
              "      <td>?</td>\n",
              "    </tr>\n",
              "    <tr>\n",
              "      <th>3161</th>\n",
              "      <td>negative</td>\n",
              "      <td>74</td>\n",
              "      <td>F</td>\n",
              "      <td>f</td>\n",
              "      <td>f</td>\n",
              "      <td>f</td>\n",
              "      <td>f</td>\n",
              "      <td>f</td>\n",
              "      <td>f</td>\n",
              "      <td>f</td>\n",
              "      <td>f</td>\n",
              "      <td>f</td>\n",
              "      <td>f</td>\n",
              "      <td>f</td>\n",
              "      <td>y</td>\n",
              "      <td>1.30</td>\n",
              "      <td>y</td>\n",
              "      <td>0.10</td>\n",
              "      <td>y</td>\n",
              "      <td>65</td>\n",
              "      <td>y</td>\n",
              "      <td>0.48</td>\n",
              "      <td>y</td>\n",
              "      <td>137</td>\n",
              "      <td>n</td>\n",
              "      <td>?</td>\n",
              "    </tr>\n",
              "    <tr>\n",
              "      <th>3162</th>\n",
              "      <td>negative</td>\n",
              "      <td>56</td>\n",
              "      <td>F</td>\n",
              "      <td>t</td>\n",
              "      <td>f</td>\n",
              "      <td>f</td>\n",
              "      <td>f</td>\n",
              "      <td>f</td>\n",
              "      <td>f</td>\n",
              "      <td>f</td>\n",
              "      <td>f</td>\n",
              "      <td>f</td>\n",
              "      <td>f</td>\n",
              "      <td>f</td>\n",
              "      <td>y</td>\n",
              "      <td>0</td>\n",
              "      <td>y</td>\n",
              "      <td>1.80</td>\n",
              "      <td>y</td>\n",
              "      <td>139</td>\n",
              "      <td>y</td>\n",
              "      <td>0.97</td>\n",
              "      <td>y</td>\n",
              "      <td>143</td>\n",
              "      <td>n</td>\n",
              "      <td>?</td>\n",
              "    </tr>\n",
              "  </tbody>\n",
              "</table>\n",
              "</div>"
            ],
            "text/plain": [
              "        status age sex on_thyroxine  ... FTI_measured  FTI TBG_measured TBG\n",
              "3158  negative  58   F            f  ...            y   95            n   ?\n",
              "3159  negative  29   F            f  ...            y   98            n   ?\n",
              "3160  negative  77   M            f  ...            y  104            n   ?\n",
              "3161  negative  74   F            f  ...            y  137            n   ?\n",
              "3162  negative  56   F            t  ...            y  143            n   ?\n",
              "\n",
              "[5 rows x 26 columns]"
            ]
          },
          "metadata": {},
          "execution_count": 21
        }
      ]
    },
    {
      "cell_type": "code",
      "metadata": {
        "id": "n8-dW4sQWzbc",
        "colab": {
          "base_uri": "https://localhost:8080/"
        },
        "outputId": "ee5072f4-cda6-4e7b-c0bd-02c43e655304"
      },
      "source": [
        "# Checking whether each column has an appropriate datatype\n",
        "#\n",
        "df.dtypes"
      ],
      "execution_count": null,
      "outputs": [
        {
          "output_type": "execute_result",
          "data": {
            "text/plain": [
              "status                       object\n",
              "age                          object\n",
              "sex                          object\n",
              "on_thyroxine                 object\n",
              "query_on_thyroxine           object\n",
              "on_antithyroid_medication    object\n",
              "thyroid_surgery              object\n",
              "query_hypothyroid            object\n",
              "query_hyperthyroid           object\n",
              "pregnant                     object\n",
              "sick                         object\n",
              "tumor                        object\n",
              "lithium                      object\n",
              "goitre                       object\n",
              "TSH_measured                 object\n",
              "TSH                          object\n",
              "T3_measured                  object\n",
              "T3                           object\n",
              "TT4_measured                 object\n",
              "TT4                          object\n",
              "T4U_measured                 object\n",
              "T4U                          object\n",
              "FTI_measured                 object\n",
              "FTI                          object\n",
              "TBG_measured                 object\n",
              "TBG                          object\n",
              "dtype: object"
            ]
          },
          "metadata": {},
          "execution_count": 22
        }
      ]
    },
    {
      "cell_type": "code",
      "metadata": {
        "colab": {
          "base_uri": "https://localhost:8080/"
        },
        "id": "Xmpe_KipNPbP",
        "outputId": "685b084b-02b6-49f3-83f4-1b051addb18e"
      },
      "source": [
        "#column names\n",
        "df.columns"
      ],
      "execution_count": null,
      "outputs": [
        {
          "output_type": "execute_result",
          "data": {
            "text/plain": [
              "Index(['status', 'age', 'sex', 'on_thyroxine', 'query_on_thyroxine',\n",
              "       'on_antithyroid_medication', 'thyroid_surgery', 'query_hypothyroid',\n",
              "       'query_hyperthyroid', 'pregnant', 'sick', 'tumor', 'lithium', 'goitre',\n",
              "       'TSH_measured', 'TSH', 'T3_measured', 'T3', 'TT4_measured', 'TT4',\n",
              "       'T4U_measured', 'T4U', 'FTI_measured', 'FTI', 'TBG_measured', 'TBG'],\n",
              "      dtype='object')"
            ]
          },
          "metadata": {},
          "execution_count": 23
        }
      ]
    },
    {
      "cell_type": "markdown",
      "metadata": {
        "id": "FlBMxEDBUc9B"
      },
      "source": [
        "## 5. Tidying the Dataset"
      ]
    },
    {
      "cell_type": "code",
      "metadata": {
        "id": "5o_bQcT5W3Wz",
        "colab": {
          "base_uri": "https://localhost:8080/"
        },
        "outputId": "a1c297df-13ac-48e3-c39f-42043ef5f039"
      },
      "source": [
        "# Checking for duplicates\n",
        "#\n",
        "df.duplicated().sum()\n",
        "#We shall drop duplicates"
      ],
      "execution_count": null,
      "outputs": [
        {
          "output_type": "execute_result",
          "data": {
            "text/plain": [
              "77"
            ]
          },
          "metadata": {},
          "execution_count": 24
        }
      ]
    },
    {
      "cell_type": "markdown",
      "source": [
        "We shall drop the duplicates in nour dataset"
      ],
      "metadata": {
        "id": "RH4anim49tkl"
      }
    },
    {
      "cell_type": "code",
      "metadata": {
        "id": "PWlukLKUvFQN",
        "colab": {
          "base_uri": "https://localhost:8080/",
          "height": 443
        },
        "outputId": "22a803f6-4dfa-4837-e5c2-b647b799fcb2"
      },
      "source": [
        "#dropping dupicates\n",
        "df.drop_duplicates()"
      ],
      "execution_count": null,
      "outputs": [
        {
          "output_type": "execute_result",
          "data": {
            "text/html": [
              "<div>\n",
              "<style scoped>\n",
              "    .dataframe tbody tr th:only-of-type {\n",
              "        vertical-align: middle;\n",
              "    }\n",
              "\n",
              "    .dataframe tbody tr th {\n",
              "        vertical-align: top;\n",
              "    }\n",
              "\n",
              "    .dataframe thead th {\n",
              "        text-align: right;\n",
              "    }\n",
              "</style>\n",
              "<table border=\"1\" class=\"dataframe\">\n",
              "  <thead>\n",
              "    <tr style=\"text-align: right;\">\n",
              "      <th></th>\n",
              "      <th>status</th>\n",
              "      <th>age</th>\n",
              "      <th>sex</th>\n",
              "      <th>on_thyroxine</th>\n",
              "      <th>query_on_thyroxine</th>\n",
              "      <th>on_antithyroid_medication</th>\n",
              "      <th>thyroid_surgery</th>\n",
              "      <th>query_hypothyroid</th>\n",
              "      <th>query_hyperthyroid</th>\n",
              "      <th>pregnant</th>\n",
              "      <th>sick</th>\n",
              "      <th>tumor</th>\n",
              "      <th>lithium</th>\n",
              "      <th>goitre</th>\n",
              "      <th>TSH_measured</th>\n",
              "      <th>TSH</th>\n",
              "      <th>T3_measured</th>\n",
              "      <th>T3</th>\n",
              "      <th>TT4_measured</th>\n",
              "      <th>TT4</th>\n",
              "      <th>T4U_measured</th>\n",
              "      <th>T4U</th>\n",
              "      <th>FTI_measured</th>\n",
              "      <th>FTI</th>\n",
              "      <th>TBG_measured</th>\n",
              "      <th>TBG</th>\n",
              "    </tr>\n",
              "  </thead>\n",
              "  <tbody>\n",
              "    <tr>\n",
              "      <th>0</th>\n",
              "      <td>hypothyroid</td>\n",
              "      <td>72</td>\n",
              "      <td>M</td>\n",
              "      <td>f</td>\n",
              "      <td>f</td>\n",
              "      <td>f</td>\n",
              "      <td>f</td>\n",
              "      <td>f</td>\n",
              "      <td>f</td>\n",
              "      <td>f</td>\n",
              "      <td>f</td>\n",
              "      <td>f</td>\n",
              "      <td>f</td>\n",
              "      <td>f</td>\n",
              "      <td>y</td>\n",
              "      <td>30</td>\n",
              "      <td>y</td>\n",
              "      <td>0.60</td>\n",
              "      <td>y</td>\n",
              "      <td>15</td>\n",
              "      <td>y</td>\n",
              "      <td>1.48</td>\n",
              "      <td>y</td>\n",
              "      <td>10</td>\n",
              "      <td>n</td>\n",
              "      <td>?</td>\n",
              "    </tr>\n",
              "    <tr>\n",
              "      <th>1</th>\n",
              "      <td>hypothyroid</td>\n",
              "      <td>15</td>\n",
              "      <td>F</td>\n",
              "      <td>t</td>\n",
              "      <td>f</td>\n",
              "      <td>f</td>\n",
              "      <td>f</td>\n",
              "      <td>f</td>\n",
              "      <td>f</td>\n",
              "      <td>f</td>\n",
              "      <td>f</td>\n",
              "      <td>f</td>\n",
              "      <td>f</td>\n",
              "      <td>f</td>\n",
              "      <td>y</td>\n",
              "      <td>145</td>\n",
              "      <td>y</td>\n",
              "      <td>1.70</td>\n",
              "      <td>y</td>\n",
              "      <td>19</td>\n",
              "      <td>y</td>\n",
              "      <td>1.13</td>\n",
              "      <td>y</td>\n",
              "      <td>17</td>\n",
              "      <td>n</td>\n",
              "      <td>?</td>\n",
              "    </tr>\n",
              "    <tr>\n",
              "      <th>2</th>\n",
              "      <td>hypothyroid</td>\n",
              "      <td>24</td>\n",
              "      <td>M</td>\n",
              "      <td>f</td>\n",
              "      <td>f</td>\n",
              "      <td>f</td>\n",
              "      <td>f</td>\n",
              "      <td>f</td>\n",
              "      <td>f</td>\n",
              "      <td>f</td>\n",
              "      <td>f</td>\n",
              "      <td>f</td>\n",
              "      <td>f</td>\n",
              "      <td>f</td>\n",
              "      <td>y</td>\n",
              "      <td>0</td>\n",
              "      <td>y</td>\n",
              "      <td>0.20</td>\n",
              "      <td>y</td>\n",
              "      <td>4</td>\n",
              "      <td>y</td>\n",
              "      <td>1</td>\n",
              "      <td>y</td>\n",
              "      <td>0</td>\n",
              "      <td>n</td>\n",
              "      <td>?</td>\n",
              "    </tr>\n",
              "    <tr>\n",
              "      <th>3</th>\n",
              "      <td>hypothyroid</td>\n",
              "      <td>24</td>\n",
              "      <td>F</td>\n",
              "      <td>f</td>\n",
              "      <td>f</td>\n",
              "      <td>f</td>\n",
              "      <td>f</td>\n",
              "      <td>f</td>\n",
              "      <td>f</td>\n",
              "      <td>f</td>\n",
              "      <td>f</td>\n",
              "      <td>f</td>\n",
              "      <td>f</td>\n",
              "      <td>f</td>\n",
              "      <td>y</td>\n",
              "      <td>430</td>\n",
              "      <td>y</td>\n",
              "      <td>0.40</td>\n",
              "      <td>y</td>\n",
              "      <td>6</td>\n",
              "      <td>y</td>\n",
              "      <td>1.04</td>\n",
              "      <td>y</td>\n",
              "      <td>6</td>\n",
              "      <td>n</td>\n",
              "      <td>?</td>\n",
              "    </tr>\n",
              "    <tr>\n",
              "      <th>4</th>\n",
              "      <td>hypothyroid</td>\n",
              "      <td>77</td>\n",
              "      <td>M</td>\n",
              "      <td>f</td>\n",
              "      <td>f</td>\n",
              "      <td>f</td>\n",
              "      <td>f</td>\n",
              "      <td>f</td>\n",
              "      <td>f</td>\n",
              "      <td>f</td>\n",
              "      <td>f</td>\n",
              "      <td>f</td>\n",
              "      <td>f</td>\n",
              "      <td>f</td>\n",
              "      <td>y</td>\n",
              "      <td>7.30</td>\n",
              "      <td>y</td>\n",
              "      <td>1.20</td>\n",
              "      <td>y</td>\n",
              "      <td>57</td>\n",
              "      <td>y</td>\n",
              "      <td>1.28</td>\n",
              "      <td>y</td>\n",
              "      <td>44</td>\n",
              "      <td>n</td>\n",
              "      <td>?</td>\n",
              "    </tr>\n",
              "    <tr>\n",
              "      <th>...</th>\n",
              "      <td>...</td>\n",
              "      <td>...</td>\n",
              "      <td>...</td>\n",
              "      <td>...</td>\n",
              "      <td>...</td>\n",
              "      <td>...</td>\n",
              "      <td>...</td>\n",
              "      <td>...</td>\n",
              "      <td>...</td>\n",
              "      <td>...</td>\n",
              "      <td>...</td>\n",
              "      <td>...</td>\n",
              "      <td>...</td>\n",
              "      <td>...</td>\n",
              "      <td>...</td>\n",
              "      <td>...</td>\n",
              "      <td>...</td>\n",
              "      <td>...</td>\n",
              "      <td>...</td>\n",
              "      <td>...</td>\n",
              "      <td>...</td>\n",
              "      <td>...</td>\n",
              "      <td>...</td>\n",
              "      <td>...</td>\n",
              "      <td>...</td>\n",
              "      <td>...</td>\n",
              "    </tr>\n",
              "    <tr>\n",
              "      <th>3158</th>\n",
              "      <td>negative</td>\n",
              "      <td>58</td>\n",
              "      <td>F</td>\n",
              "      <td>f</td>\n",
              "      <td>f</td>\n",
              "      <td>f</td>\n",
              "      <td>f</td>\n",
              "      <td>f</td>\n",
              "      <td>f</td>\n",
              "      <td>f</td>\n",
              "      <td>f</td>\n",
              "      <td>f</td>\n",
              "      <td>f</td>\n",
              "      <td>f</td>\n",
              "      <td>y</td>\n",
              "      <td>5.80</td>\n",
              "      <td>y</td>\n",
              "      <td>1.70</td>\n",
              "      <td>y</td>\n",
              "      <td>86</td>\n",
              "      <td>y</td>\n",
              "      <td>0.91</td>\n",
              "      <td>y</td>\n",
              "      <td>95</td>\n",
              "      <td>n</td>\n",
              "      <td>?</td>\n",
              "    </tr>\n",
              "    <tr>\n",
              "      <th>3159</th>\n",
              "      <td>negative</td>\n",
              "      <td>29</td>\n",
              "      <td>F</td>\n",
              "      <td>f</td>\n",
              "      <td>f</td>\n",
              "      <td>f</td>\n",
              "      <td>f</td>\n",
              "      <td>f</td>\n",
              "      <td>f</td>\n",
              "      <td>f</td>\n",
              "      <td>f</td>\n",
              "      <td>f</td>\n",
              "      <td>f</td>\n",
              "      <td>f</td>\n",
              "      <td>y</td>\n",
              "      <td>0.80</td>\n",
              "      <td>y</td>\n",
              "      <td>1.80</td>\n",
              "      <td>y</td>\n",
              "      <td>99</td>\n",
              "      <td>y</td>\n",
              "      <td>1.01</td>\n",
              "      <td>y</td>\n",
              "      <td>98</td>\n",
              "      <td>n</td>\n",
              "      <td>?</td>\n",
              "    </tr>\n",
              "    <tr>\n",
              "      <th>3160</th>\n",
              "      <td>negative</td>\n",
              "      <td>77</td>\n",
              "      <td>M</td>\n",
              "      <td>f</td>\n",
              "      <td>f</td>\n",
              "      <td>f</td>\n",
              "      <td>f</td>\n",
              "      <td>f</td>\n",
              "      <td>f</td>\n",
              "      <td>f</td>\n",
              "      <td>f</td>\n",
              "      <td>f</td>\n",
              "      <td>f</td>\n",
              "      <td>f</td>\n",
              "      <td>y</td>\n",
              "      <td>1.20</td>\n",
              "      <td>y</td>\n",
              "      <td>0.60</td>\n",
              "      <td>y</td>\n",
              "      <td>71</td>\n",
              "      <td>y</td>\n",
              "      <td>0.68</td>\n",
              "      <td>y</td>\n",
              "      <td>104</td>\n",
              "      <td>n</td>\n",
              "      <td>?</td>\n",
              "    </tr>\n",
              "    <tr>\n",
              "      <th>3161</th>\n",
              "      <td>negative</td>\n",
              "      <td>74</td>\n",
              "      <td>F</td>\n",
              "      <td>f</td>\n",
              "      <td>f</td>\n",
              "      <td>f</td>\n",
              "      <td>f</td>\n",
              "      <td>f</td>\n",
              "      <td>f</td>\n",
              "      <td>f</td>\n",
              "      <td>f</td>\n",
              "      <td>f</td>\n",
              "      <td>f</td>\n",
              "      <td>f</td>\n",
              "      <td>y</td>\n",
              "      <td>1.30</td>\n",
              "      <td>y</td>\n",
              "      <td>0.10</td>\n",
              "      <td>y</td>\n",
              "      <td>65</td>\n",
              "      <td>y</td>\n",
              "      <td>0.48</td>\n",
              "      <td>y</td>\n",
              "      <td>137</td>\n",
              "      <td>n</td>\n",
              "      <td>?</td>\n",
              "    </tr>\n",
              "    <tr>\n",
              "      <th>3162</th>\n",
              "      <td>negative</td>\n",
              "      <td>56</td>\n",
              "      <td>F</td>\n",
              "      <td>t</td>\n",
              "      <td>f</td>\n",
              "      <td>f</td>\n",
              "      <td>f</td>\n",
              "      <td>f</td>\n",
              "      <td>f</td>\n",
              "      <td>f</td>\n",
              "      <td>f</td>\n",
              "      <td>f</td>\n",
              "      <td>f</td>\n",
              "      <td>f</td>\n",
              "      <td>y</td>\n",
              "      <td>0</td>\n",
              "      <td>y</td>\n",
              "      <td>1.80</td>\n",
              "      <td>y</td>\n",
              "      <td>139</td>\n",
              "      <td>y</td>\n",
              "      <td>0.97</td>\n",
              "      <td>y</td>\n",
              "      <td>143</td>\n",
              "      <td>n</td>\n",
              "      <td>?</td>\n",
              "    </tr>\n",
              "  </tbody>\n",
              "</table>\n",
              "<p>3086 rows × 26 columns</p>\n",
              "</div>"
            ],
            "text/plain": [
              "           status age sex on_thyroxine  ... FTI_measured  FTI TBG_measured TBG\n",
              "0     hypothyroid  72   M            f  ...            y   10            n   ?\n",
              "1     hypothyroid  15   F            t  ...            y   17            n   ?\n",
              "2     hypothyroid  24   M            f  ...            y    0            n   ?\n",
              "3     hypothyroid  24   F            f  ...            y    6            n   ?\n",
              "4     hypothyroid  77   M            f  ...            y   44            n   ?\n",
              "...           ...  ..  ..          ...  ...          ...  ...          ...  ..\n",
              "3158     negative  58   F            f  ...            y   95            n   ?\n",
              "3159     negative  29   F            f  ...            y   98            n   ?\n",
              "3160     negative  77   M            f  ...            y  104            n   ?\n",
              "3161     negative  74   F            f  ...            y  137            n   ?\n",
              "3162     negative  56   F            t  ...            y  143            n   ?\n",
              "\n",
              "[3086 rows x 26 columns]"
            ]
          },
          "metadata": {},
          "execution_count": 25
        }
      ]
    },
    {
      "cell_type": "code",
      "metadata": {
        "id": "PvCYb6dgW4yh",
        "colab": {
          "base_uri": "https://localhost:8080/"
        },
        "outputId": "3d326f78-4809-4f72-d662-77a79d4d6c6e"
      },
      "source": [
        "# Checking for Anomalies\n",
        "#\n",
        "df[['status','age','sex','on_thyroxine','query_on_thyroxine','on_antithyroid_medication','thyroid_surgery','query_hypothyroid','query_hyperthyroid','pregnant','sick','tumor','lithium','goitre','TSH_measured','TSH','T3_measured','T3','TT4_measured','TT4','T4U_measured','T4U','FTI_measured','FTI','TBG_measured','TBG']].nunique()\n",
        "#Check the different classes in the different colums"
      ],
      "execution_count": null,
      "outputs": [
        {
          "output_type": "execute_result",
          "data": {
            "text/plain": [
              "status                         2\n",
              "age                           93\n",
              "sex                            3\n",
              "on_thyroxine                   2\n",
              "query_on_thyroxine             2\n",
              "on_antithyroid_medication      2\n",
              "thyroid_surgery                2\n",
              "query_hypothyroid              2\n",
              "query_hyperthyroid             2\n",
              "pregnant                       2\n",
              "sick                           2\n",
              "tumor                          2\n",
              "lithium                        2\n",
              "goitre                         2\n",
              "TSH_measured                   2\n",
              "TSH                          240\n",
              "T3_measured                    2\n",
              "T3                            70\n",
              "TT4_measured                   2\n",
              "TT4                          269\n",
              "T4U_measured                   2\n",
              "T4U                          159\n",
              "FTI_measured                   2\n",
              "FTI                          281\n",
              "TBG_measured                   2\n",
              "TBG                           53\n",
              "dtype: int64"
            ]
          },
          "metadata": {},
          "execution_count": 26
        }
      ]
    },
    {
      "cell_type": "code",
      "metadata": {
        "id": "MpsDGKZHsf_W"
      },
      "source": [
        "#After exploring the data I realized that there are some \"?\" in some columns\n",
        "#we shall replace the ? with NaN so that it can be converted to  null values\n",
        "df.replace(\"?\",np.NaN,inplace=True)"
      ],
      "execution_count": null,
      "outputs": []
    },
    {
      "cell_type": "code",
      "metadata": {
        "id": "D-4I__6Os4C5",
        "colab": {
          "base_uri": "https://localhost:8080/"
        },
        "outputId": "9af419cd-b822-475a-b8c7-2dcd263fd403"
      },
      "source": [
        "# Identifying the Missing Data\n",
        "#\n",
        "df.isnull().sum()"
      ],
      "execution_count": null,
      "outputs": [
        {
          "output_type": "execute_result",
          "data": {
            "text/plain": [
              "status                          0\n",
              "age                           446\n",
              "sex                            73\n",
              "on_thyroxine                    0\n",
              "query_on_thyroxine              0\n",
              "on_antithyroid_medication       0\n",
              "thyroid_surgery                 0\n",
              "query_hypothyroid               0\n",
              "query_hyperthyroid              0\n",
              "pregnant                        0\n",
              "sick                            0\n",
              "tumor                           0\n",
              "lithium                         0\n",
              "goitre                          0\n",
              "TSH_measured                    0\n",
              "TSH                           468\n",
              "T3_measured                     0\n",
              "T3                            695\n",
              "TT4_measured                    0\n",
              "TT4                           249\n",
              "T4U_measured                    0\n",
              "T4U                           248\n",
              "FTI_measured                    0\n",
              "FTI                           247\n",
              "TBG_measured                    0\n",
              "TBG                          2903\n",
              "dtype: int64"
            ]
          },
          "metadata": {},
          "execution_count": 28
        }
      ]
    },
    {
      "cell_type": "code",
      "metadata": {
        "colab": {
          "base_uri": "https://localhost:8080/",
          "height": 639
        },
        "id": "UoZavV9uN2Gq",
        "outputId": "9477a817-1f12-402b-b811-d750ebe718f6"
      },
      "source": [
        "#Lets vizualize the missing values\n",
        "plt.figure(figsize=(10,8))\n",
        "df.isnull().sum().plot(kind=\"bar\")\n",
        "plt.title(\"Missing Values\",weight=\"bold\")"
      ],
      "execution_count": null,
      "outputs": [
        {
          "output_type": "execute_result",
          "data": {
            "text/plain": [
              "Text(0.5, 1.0, 'Missing Values')"
            ]
          },
          "metadata": {},
          "execution_count": 29
        },
        {
          "output_type": "display_data",
          "data": {
            "image/png": "[encoded data removed]",
            "text/plain": [
              "<Figure size 720x576 with 1 Axes>"
            ]
          },
          "metadata": {
            "needs_background": "light"
          }
        }
      ]
    },
    {
      "cell_type": "markdown",
      "source": [
        "TBG has the highest number of null values so we shall drop the column \n",
        "We shall TGB measured since wre are dropping TGB which measures the level of a protein that moves thyroid hormone throughout your body. This protein is called thyroxine binding globulin (TBG). "
      ],
      "metadata": {
        "id": "28U9f90S_N0h"
      }
    },
    {
      "cell_type": "code",
      "metadata": {
        "id": "jgPxlOrRQPWJ"
      },
      "source": [
        "#drop the 'TBG' column because it has alot of missing values(almost 90% of the data is null)\n",
        "#I also dropped TBG_measured because its related to 'TBG' \n",
        "df.drop(['TBG_measured','TBG'],1, inplace=True)"
      ],
      "execution_count": null,
      "outputs": []
    },
    {
      "cell_type": "code",
      "metadata": {
        "id": "MMISvM9eQTyI"
      },
      "source": [
        "#while checking the data, i realized that the data type for each column was  object type\n",
        "#We shall convert the numerical columns to numerical data types\n",
        "#numerical_columns = df['age','TSH','T3','T4U','FTI','TT4']\n",
        "df[\"age\"]=pd.to_numeric(df[\"age\"])\n",
        "df['TSH']=pd.to_numeric(df['TSH'])\n",
        "df['TT4']=pd.to_numeric(df['TT4'])\n",
        "df['T3']=pd.to_numeric(df['T3'])\n",
        "df['FTI']=pd.to_numeric(df['FTI'])\n",
        "df['T4U']=pd.to_numeric(df['T4U'])"
      ],
      "execution_count": null,
      "outputs": []
    },
    {
      "cell_type": "code",
      "metadata": {
        "id": "EvaPXPLdQfj7"
      },
      "source": [
        "#Dealing with null values\n",
        "\n",
        "#We shall fill the null values with mode for categorical and median for numerical\n",
        "#columns with null values = ['age', 'sex', 'TSH',\"T3\",'T4U', 'FTI', 'TT4']\n",
        "df['age'].fillna(df['age'].median(),inplace=True)\n",
        "df['sex'].fillna(df['sex'].mode()[0],inplace=True)\n",
        "df['TSH'].fillna(df['TSH'].median(),inplace=True)\n",
        "df[\"T3\"].fillna(df[\"T3\"].median(),inplace=True)\n",
        "df['T4U'].fillna(df['T4U'].median(),inplace=True)\n",
        "df['FTI'].fillna(df['FTI'].median(),inplace=True)\n",
        "df['TT4'].fillna(df['TT4'].median(),inplace=True)"
      ],
      "execution_count": null,
      "outputs": []
    },
    {
      "cell_type": "code",
      "metadata": {
        "colab": {
          "base_uri": "https://localhost:8080/"
        },
        "id": "XHSDRCYsQnHz",
        "outputId": "4777b253-4ca9-4bdb-fef1-4b5017e15ba5"
      },
      "source": [
        "#confirming that there are no null values\n",
        "df.isnull().sum().sum()"
      ],
      "execution_count": null,
      "outputs": [
        {
          "output_type": "execute_result",
          "data": {
            "text/plain": [
              "0"
            ]
          },
          "metadata": {},
          "execution_count": 33
        }
      ]
    },
    {
      "cell_type": "markdown",
      "metadata": {
        "id": "rF2ABPsHUtbZ"
      },
      "source": [
        "## 6. Exploratory Analysis"
      ]
    },
    {
      "cell_type": "markdown",
      "metadata": {
        "id": "VW9xIwrPpAWR"
      },
      "source": [
        "## Univariate Analysis"
      ]
    },
    {
      "cell_type": "code",
      "metadata": {
        "id": "5nnRToniXGDK",
        "colab": {
          "base_uri": "https://localhost:8080/"
        },
        "outputId": "28c6aeba-c383-4845-8476-6c3563e96b3f"
      },
      "source": [
        "#Categorical variables\n",
        "#Frequecy table for status\n",
        "df[\"status\"].value_counts()"
      ],
      "execution_count": null,
      "outputs": [
        {
          "output_type": "execute_result",
          "data": {
            "text/plain": [
              "negative       3012\n",
              "hypothyroid     151\n",
              "Name: status, dtype: int64"
            ]
          },
          "metadata": {},
          "execution_count": 34
        }
      ]
    },
    {
      "cell_type": "markdown",
      "source": [
        "Hypothyroid means one has the disease and negative means one do not have.\n",
        "Majority of the people tested do not have hypothyroid disorder."
      ],
      "metadata": {
        "id": "LKeqfo6XEPLj"
      }
    },
    {
      "cell_type": "code",
      "metadata": {
        "colab": {
          "base_uri": "https://localhost:8080/"
        },
        "id": "o0V84psZpIV2",
        "outputId": "7b04d638-fe44-4a6b-e9d7-ab5ff78c560d"
      },
      "source": [
        "#Frequency table for  sex\n",
        "df[\"sex\"].value_counts()"
      ],
      "execution_count": null,
      "outputs": [
        {
          "output_type": "execute_result",
          "data": {
            "text/plain": [
              "F    2255\n",
              "M     908\n",
              "Name: sex, dtype: int64"
            ]
          },
          "metadata": {},
          "execution_count": 35
        }
      ]
    },
    {
      "cell_type": "markdown",
      "source": [
        "The largest number of patients who were tested for Hypothyroidism was Female. theis is because Hypothyroidism is most prevalent in women than in men."
      ],
      "metadata": {
        "id": "NS50C-mLNGJu"
      }
    },
    {
      "cell_type": "code",
      "metadata": {
        "colab": {
          "base_uri": "https://localhost:8080/"
        },
        "id": "4ytQ4YqNpJ2K",
        "outputId": "2ba6fe19-dfb5-41b6-b533-0b794ea334b3"
      },
      "source": [
        "#Frequency table for  on_thyroxine\n",
        "df[\"on_thyroxine\"].value_counts()"
      ],
      "execution_count": null,
      "outputs": [
        {
          "output_type": "execute_result",
          "data": {
            "text/plain": [
              "f    2702\n",
              "t     461\n",
              "Name: on_thyroxine, dtype: int64"
            ]
          },
          "metadata": {},
          "execution_count": 36
        }
      ]
    },
    {
      "cell_type": "markdown",
      "source": [
        "Most of the patients were tested on thyroxine"
      ],
      "metadata": {
        "id": "-OwJU10BNZN8"
      }
    },
    {
      "cell_type": "code",
      "metadata": {
        "colab": {
          "base_uri": "https://localhost:8080/"
        },
        "id": "dXvYGHVXpPY4",
        "outputId": "edfb315f-cf64-49c9-9831-fbf7596cb569"
      },
      "source": [
        "#Frequency table for goitre\n",
        "df[\"goitre\"].value_counts()"
      ],
      "execution_count": null,
      "outputs": [
        {
          "output_type": "execute_result",
          "data": {
            "text/plain": [
              "f    3064\n",
              "t      99\n",
              "Name: goitre, dtype: int64"
            ]
          },
          "metadata": {},
          "execution_count": 37
        }
      ]
    },
    {
      "cell_type": "markdown",
      "source": [
        "More that 3000 patients were tested whetherv they have goitre or not"
      ],
      "metadata": {
        "id": "_gj23DCIOK9b"
      }
    },
    {
      "cell_type": "code",
      "metadata": {
        "colab": {
          "base_uri": "https://localhost:8080/"
        },
        "id": "F-Tsbvv4pRkB",
        "outputId": "cdbd38d2-4f44-4ae5-b331-a7b798d5c6d6"
      },
      "source": [
        "#Frequency table for TSH_measured\n",
        "df[\"TSH_measured\"].value_counts()"
      ],
      "execution_count": null,
      "outputs": [
        {
          "output_type": "execute_result",
          "data": {
            "text/plain": [
              "y    2695\n",
              "n     468\n",
              "Name: TSH_measured, dtype: int64"
            ]
          },
          "metadata": {},
          "execution_count": 38
        }
      ]
    },
    {
      "cell_type": "markdown",
      "source": [
        "More than 2500 patrients were tested on TSH"
      ],
      "metadata": {
        "id": "kcSNgL3gOc6y"
      }
    },
    {
      "cell_type": "code",
      "metadata": {
        "colab": {
          "base_uri": "https://localhost:8080/"
        },
        "id": "Ltm0PuvipSfJ",
        "outputId": "e8745e9c-0bdc-4a0c-f5a1-0e520770938f"
      },
      "source": [
        "#Frequency table for T3_measured\n",
        "df[\"T3_measured\"].value_counts()"
      ],
      "execution_count": null,
      "outputs": [
        {
          "output_type": "execute_result",
          "data": {
            "text/plain": [
              "y    2468\n",
              "n     695\n",
              "Name: T3_measured, dtype: int64"
            ]
          },
          "metadata": {},
          "execution_count": 39
        }
      ]
    },
    {
      "cell_type": "markdown",
      "source": [
        "More than 2000 patrients were tested on T3"
      ],
      "metadata": {
        "id": "k04RIhl1OVhk"
      }
    },
    {
      "cell_type": "code",
      "metadata": {
        "colab": {
          "base_uri": "https://localhost:8080/",
          "height": 295
        },
        "id": "CW4QsKPgpXgn",
        "outputId": "c1ccef43-a4f4-4b85-f1d9-deb18ceaabd9"
      },
      "source": [
        "#Histogram for sex of the patients who went to the hospital\n",
        "sex=df[\"sex\"]\n",
        "plt.hist(sex,histtype='bar',bins=2, rwidth=0.9)\n",
        "plt.xlabel(\"sex\")\n",
        "plt.ylabel(\"number of patients\")\n",
        "plt.title('Histogram of the number patients per gender',weight=\"bold\")\n",
        "plt.show()"
      ],
      "execution_count": null,
      "outputs": [
        {
          "output_type": "display_data",
          "data": {
            "image/png": "[encoded data removed]",
            "text/plain": [
              "<Figure size 432x288 with 1 Axes>"
            ]
          },
          "metadata": {
            "needs_background": "light"
          }
        }
      ]
    },
    {
      "cell_type": "markdown",
      "metadata": {
        "id": "5zMK48OV7DM_"
      },
      "source": [
        "There were more female patients than male patients. "
      ]
    },
    {
      "cell_type": "code",
      "metadata": {
        "colab": {
          "base_uri": "https://localhost:8080/",
          "height": 295
        },
        "id": "l5Jhqyiapauk",
        "outputId": "709a8ff7-9843-4d02-dece-f7297b07ece5"
      },
      "source": [
        "#Histogram for status of whether a patient was diagnosed with or not\n",
        "status=df[\"status\"]\n",
        "plt.hist(status,histtype='bar',bins=2, rwidth=0.9)\n",
        "plt.xlabel(\"status\")\n",
        "plt.ylabel(\"number of patients\")\n",
        "plt.title('Histogram of the number of patients diagnosed',weight=\"bold\")\n",
        "plt.show()\n"
      ],
      "execution_count": null,
      "outputs": [
        {
          "output_type": "display_data",
          "data": {
            "image/png": "[encoded data removed]",
            "text/plain": [
              "<Figure size 432x288 with 1 Axes>"
            ]
          },
          "metadata": {
            "needs_background": "light"
          }
        }
      ]
    },
    {
      "cell_type": "markdown",
      "source": [
        "Very few patients were dignosed with hypothyroid compared to the ones who turen negative"
      ],
      "metadata": {
        "id": "gVA4RJlPOmBL"
      }
    },
    {
      "cell_type": "code",
      "metadata": {
        "colab": {
          "base_uri": "https://localhost:8080/",
          "height": 295
        },
        "id": "7w2XTM8ppfgh",
        "outputId": "536262b6-ae54-447d-e57e-bd41f4716b9a"
      },
      "source": [
        "#Histogram for status of whether a patient was diagnosed with or not\n",
        "age=df[\"age\"]\n",
        "plt.hist(age,histtype='bar',bins=10, rwidth=0.9)\n",
        "plt.xlabel(\"age\")\n",
        "plt.ylabel(\"number of patients\")\n",
        "plt.title('Histogram of the age of patients',weight=\"bold\")\n",
        "plt.show()"
      ],
      "execution_count": null,
      "outputs": [
        {
          "output_type": "display_data",
          "data": {
            "image/png": "[encoded data removed]",
            "text/plain": [
              "<Figure size 432x288 with 1 Axes>"
            ]
          },
          "metadata": {
            "needs_background": "light"
          }
        }
      ]
    },
    {
      "cell_type": "markdown",
      "source": [
        "The laegest number of patients who tested for hypothyrodism were from the age group of 56 to 60 yrs.\n",
        "Elderly suffer with hypothyroid disorder. Hypothyroidism is more common among elderly individuals due to the increasing incidence and prevalence of autoimmune thyroiditis that occurs with aging."
      ],
      "metadata": {
        "id": "bloUfuhwO3yW"
      }
    },
    {
      "cell_type": "code",
      "metadata": {
        "colab": {
          "base_uri": "https://localhost:8080/",
          "height": 286
        },
        "id": "tarm6645pnzZ",
        "outputId": "3786edff-d41c-4e34-c6a4-484992c516aa"
      },
      "source": [
        "#pie chart for pregnant\n",
        "df[\"pregnant\"].value_counts().plot(kind='pie',shadow = True,explode=(0,0.1), colors=['green',\"blue\"], autopct='%1.1f%%')\n",
        "plt.title(\"Pie chart of the number of patients pregant\", y=1.1)\n",
        "plt.show()"
      ],
      "execution_count": null,
      "outputs": [
        {
          "output_type": "display_data",
          "data": {
            "image/png": "[encoded data removed]",
            "text/plain": [
              "<Figure size 432x288 with 1 Axes>"
            ]
          },
          "metadata": {}
        }
      ]
    },
    {
      "cell_type": "markdown",
      "source": [
        "2% of the patients were pregnant when the test was carried out.\n",
        "98% were not pregnant"
      ],
      "metadata": {
        "id": "TTJS9-eNP8sl"
      }
    },
    {
      "cell_type": "code",
      "metadata": {
        "colab": {
          "base_uri": "https://localhost:8080/",
          "height": 286
        },
        "id": "bPbSw5OOps6E",
        "outputId": "402c2181-10ad-44ff-dba4-945bebeaa0fd"
      },
      "source": [
        "#pie chart for thyroid_surgery\n",
        "df[\"thyroid_surgery\"].value_counts().plot(kind='pie',shadow = True,explode=(0,0.1), colors=['red',\"brown\"], autopct='%1.1f%%')\n",
        "plt.title(\"Pie chart of the number of patients who had surgery\", y=1.1)\n",
        "plt.show()"
      ],
      "execution_count": null,
      "outputs": [
        {
          "output_type": "display_data",
          "data": {
            "image/png": "[encoded data removed]",
            "text/plain": [
              "<Figure size 432x288 with 1 Axes>"
            ]
          },
          "metadata": {}
        }
      ]
    },
    {
      "cell_type": "markdown",
      "source": [
        "3.3 % of the patient underwent thyroid_surgery whereas 96.7 % did not undergo surgery"
      ],
      "metadata": {
        "id": "GwS-WqNgQP2k"
      }
    },
    {
      "cell_type": "code",
      "metadata": {
        "colab": {
          "base_uri": "https://localhost:8080/"
        },
        "id": "JT2QhrTPpx8k",
        "outputId": "e688e9c5-7744-4539-e4a5-6d6db80a8bf0"
      },
      "source": [
        "#Numerical variables\n",
        "\n",
        " #Measures of Central tendency\n",
        " #Mode\n",
        "df.mean() "
      ],
      "execution_count": null,
      "outputs": [
        {
          "output_type": "execute_result",
          "data": {
            "text/plain": [
              "age     51.555485\n",
              "TSH      5.150354\n",
              "T3       1.909042\n",
              "TT4    108.468195\n",
              "T4U      0.976772\n",
              "FTI    114.741985\n",
              "dtype: float64"
            ]
          },
          "metadata": {},
          "execution_count": 45
        }
      ]
    },
    {
      "cell_type": "markdown",
      "source": [
        "The average age of the patients wa 51"
      ],
      "metadata": {
        "id": "_cMEjbgtQ1fB"
      }
    },
    {
      "cell_type": "code",
      "metadata": {
        "colab": {
          "base_uri": "https://localhost:8080/"
        },
        "id": "8uhWkyVDp0JW",
        "outputId": "7a1ff28d-f21f-4583-acea-c92e802c7e6b"
      },
      "source": [
        "#median\n",
        "df.median()"
      ],
      "execution_count": null,
      "outputs": [
        {
          "output_type": "execute_result",
          "data": {
            "text/plain": [
              "age     54.00\n",
              "TSH      0.70\n",
              "T3       1.80\n",
              "TT4    104.00\n",
              "T4U      0.96\n",
              "FTI    107.00\n",
              "dtype: float64"
            ]
          },
          "metadata": {},
          "execution_count": 46
        }
      ]
    },
    {
      "cell_type": "code",
      "metadata": {
        "colab": {
          "base_uri": "https://localhost:8080/",
          "height": 81
        },
        "id": "XRWEU6Qnp1su",
        "outputId": "7b95489c-beb9-406f-ea65-c9b7df2d3383"
      },
      "source": [
        "#Mode\n",
        "numerical_data=df[['age','TSH','T3','T4U','FTI','TT4']]\n",
        "numerical_data.mode()"
      ],
      "execution_count": null,
      "outputs": [
        {
          "output_type": "execute_result",
          "data": {
            "text/html": [
              "<div>\n",
              "<style scoped>\n",
              "    .dataframe tbody tr th:only-of-type {\n",
              "        vertical-align: middle;\n",
              "    }\n",
              "\n",
              "    .dataframe tbody tr th {\n",
              "        vertical-align: top;\n",
              "    }\n",
              "\n",
              "    .dataframe thead th {\n",
              "        text-align: right;\n",
              "    }\n",
              "</style>\n",
              "<table border=\"1\" class=\"dataframe\">\n",
              "  <thead>\n",
              "    <tr style=\"text-align: right;\">\n",
              "      <th></th>\n",
              "      <th>age</th>\n",
              "      <th>TSH</th>\n",
              "      <th>T3</th>\n",
              "      <th>T4U</th>\n",
              "      <th>FTI</th>\n",
              "      <th>TT4</th>\n",
              "    </tr>\n",
              "  </thead>\n",
              "  <tbody>\n",
              "    <tr>\n",
              "      <th>0</th>\n",
              "      <td>54.0</td>\n",
              "      <td>0.0</td>\n",
              "      <td>1.8</td>\n",
              "      <td>0.96</td>\n",
              "      <td>107.0</td>\n",
              "      <td>104.0</td>\n",
              "    </tr>\n",
              "  </tbody>\n",
              "</table>\n",
              "</div>"
            ],
            "text/plain": [
              "    age  TSH   T3   T4U    FTI    TT4\n",
              "0  54.0  0.0  1.8  0.96  107.0  104.0"
            ]
          },
          "metadata": {},
          "execution_count": 47
        }
      ]
    },
    {
      "cell_type": "code",
      "metadata": {
        "colab": {
          "base_uri": "https://localhost:8080/"
        },
        "id": "sHmZy-xvp6mW",
        "outputId": "29ef4edb-e452-45bd-dcd6-21bfe5ac16b3"
      },
      "source": [
        "# Measures of dispersion\n",
        "#standard deviation\n",
        "df.std()"
      ],
      "execution_count": null,
      "outputs": [
        {
          "output_type": "execute_result",
          "data": {
            "text/plain": [
              "age    17.909384\n",
              "TSH    22.137871\n",
              "T3      0.882341\n",
              "TT4    43.677305\n",
              "T4U     0.217568\n",
              "FTI    57.882814\n",
              "dtype: float64"
            ]
          },
          "metadata": {},
          "execution_count": 48
        }
      ]
    },
    {
      "cell_type": "code",
      "metadata": {
        "colab": {
          "base_uri": "https://localhost:8080/"
        },
        "id": "jRGzWUc0p-kW",
        "outputId": "4426a51a-8bde-415b-95f7-13de5d1eec5e"
      },
      "source": [
        "#kurtosis\n",
        "df.kurt()"
      ],
      "execution_count": null,
      "outputs": [
        {
          "output_type": "execute_result",
          "data": {
            "text/plain": [
              "age     -0.621428\n",
              "TSH    179.075313\n",
              "T3      14.211499\n",
              "TT4      7.846341\n",
              "T4U      3.981455\n",
              "FTI     51.540596\n",
              "dtype: float64"
            ]
          },
          "metadata": {},
          "execution_count": 49
        }
      ]
    },
    {
      "cell_type": "code",
      "metadata": {
        "colab": {
          "base_uri": "https://localhost:8080/"
        },
        "id": "EjQKzbStqAbQ",
        "outputId": "cc5b318e-6339-4e97-a4aa-f6a200e42ce3"
      },
      "source": [
        "#skewness\n",
        "df.skew()"
      ],
      "execution_count": null,
      "outputs": [
        {
          "output_type": "execute_result",
          "data": {
            "text/plain": [
              "age    -0.241177\n",
              "TSH    11.061752\n",
              "T3      2.490112\n",
              "TT4     1.595531\n",
              "T4U     0.973771\n",
              "FTI     5.339621\n",
              "dtype: float64"
            ]
          },
          "metadata": {},
          "execution_count": 50
        }
      ]
    },
    {
      "cell_type": "code",
      "metadata": {
        "colab": {
          "base_uri": "https://localhost:8080/",
          "height": 143
        },
        "id": "msfb8QKkqDlQ",
        "outputId": "58415704-054d-4d08-a52b-b747cabebc4e"
      },
      "source": [
        "# Quantiles\n",
        "df.quantile([0.25,0.50,0.75])"
      ],
      "execution_count": null,
      "outputs": [
        {
          "output_type": "execute_result",
          "data": {
            "text/html": [
              "<div>\n",
              "<style scoped>\n",
              "    .dataframe tbody tr th:only-of-type {\n",
              "        vertical-align: middle;\n",
              "    }\n",
              "\n",
              "    .dataframe tbody tr th {\n",
              "        vertical-align: top;\n",
              "    }\n",
              "\n",
              "    .dataframe thead th {\n",
              "        text-align: right;\n",
              "    }\n",
              "</style>\n",
              "<table border=\"1\" class=\"dataframe\">\n",
              "  <thead>\n",
              "    <tr style=\"text-align: right;\">\n",
              "      <th></th>\n",
              "      <th>age</th>\n",
              "      <th>TSH</th>\n",
              "      <th>T3</th>\n",
              "      <th>TT4</th>\n",
              "      <th>T4U</th>\n",
              "      <th>FTI</th>\n",
              "    </tr>\n",
              "  </thead>\n",
              "  <tbody>\n",
              "    <tr>\n",
              "      <th>0.25</th>\n",
              "      <td>38.0</td>\n",
              "      <td>0.0</td>\n",
              "      <td>1.5</td>\n",
              "      <td>85.0</td>\n",
              "      <td>0.86</td>\n",
              "      <td>92.0</td>\n",
              "    </tr>\n",
              "    <tr>\n",
              "      <th>0.50</th>\n",
              "      <td>54.0</td>\n",
              "      <td>0.7</td>\n",
              "      <td>1.8</td>\n",
              "      <td>104.0</td>\n",
              "      <td>0.96</td>\n",
              "      <td>107.0</td>\n",
              "    </tr>\n",
              "    <tr>\n",
              "      <th>0.75</th>\n",
              "      <td>64.0</td>\n",
              "      <td>1.8</td>\n",
              "      <td>2.2</td>\n",
              "      <td>124.0</td>\n",
              "      <td>1.05</td>\n",
              "      <td>126.0</td>\n",
              "    </tr>\n",
              "  </tbody>\n",
              "</table>\n",
              "</div>"
            ],
            "text/plain": [
              "       age  TSH   T3    TT4   T4U    FTI\n",
              "0.25  38.0  0.0  1.5   85.0  0.86   92.0\n",
              "0.50  54.0  0.7  1.8  104.0  0.96  107.0\n",
              "0.75  64.0  1.8  2.2  124.0  1.05  126.0"
            ]
          },
          "metadata": {},
          "execution_count": 51
        }
      ]
    },
    {
      "cell_type": "code",
      "metadata": {
        "colab": {
          "base_uri": "https://localhost:8080/"
        },
        "id": "o4gYwbcJqFtR",
        "outputId": "e7a5f720-ae9a-4e3d-c93c-8502ba5c9039"
      },
      "source": [
        "# Range\n",
        "numerical_data=df[['age','TSH','T3','T4U','FTI','TT4']]\n",
        "max = numerical_data.max()\n",
        "min = numerical_data.min()\n",
        "range = max - min\n",
        "range"
      ],
      "execution_count": null,
      "outputs": [
        {
          "output_type": "execute_result",
          "data": {
            "text/plain": [
              "age     97.00\n",
              "TSH    530.00\n",
              "T3      10.20\n",
              "T4U      2.21\n",
              "FTI    881.00\n",
              "TT4    448.00\n",
              "dtype: float64"
            ]
          },
          "metadata": {},
          "execution_count": 52
        }
      ]
    },
    {
      "cell_type": "code",
      "metadata": {
        "colab": {
          "base_uri": "https://localhost:8080/",
          "height": 554
        },
        "id": "g3TVZNPZqRAX",
        "outputId": "98f311a1-2da2-47c7-f4bf-7c7cbe5fe43f"
      },
      "source": [
        "# Checking for outliers in the age,TSH column\n",
        "fig, axes = plt.subplots(1,2, figsize=(15, 8))\n",
        "fig.suptitle('Boxplots')\n",
        "sns.boxplot(df['age'], ax=axes[0])\n",
        "sns.boxplot(df['TSH'], ax=axes[1])\n",
        "plt.show()"
      ],
      "execution_count": null,
      "outputs": [
        {
          "output_type": "display_data",
          "data": {
            "image/png": "[encoded data removed]",
            "text/plain": [
              "<Figure size 1080x576 with 2 Axes>"
            ]
          },
          "metadata": {
            "needs_background": "light"
          }
        }
      ]
    },
    {
      "cell_type": "code",
      "metadata": {
        "colab": {
          "base_uri": "https://localhost:8080/",
          "height": 554
        },
        "id": "9PAaZCKtifuN",
        "outputId": "2af025f8-a156-4592-838f-d8924f24d2de"
      },
      "source": [
        "# Checking for outliers in the T4U,T3 column\n",
        "fig, axes=plt.subplots(1,2, figsize=(15, 8))\n",
        "fig.suptitle(\"Boxplots\")\n",
        "sns.boxplot(df[\"T4U\"], ax=axes[0])\n",
        "sns.boxplot(df[\"FTI\"], ax=axes[1])\n",
        "plt.show()\n",
        "    "
      ],
      "execution_count": null,
      "outputs": [
        {
          "output_type": "display_data",
          "data": {
            "image/png": "[encoded data removed]",
            "text/plain": [
              "<Figure size 1080x576 with 2 Axes>"
            ]
          },
          "metadata": {
            "needs_background": "light"
          }
        }
      ]
    },
    {
      "cell_type": "markdown",
      "metadata": {
        "id": "deZqQhJt-208"
      },
      "source": [
        "We can conclude that there are outliers in our numerical columns but it would be irresponsible to drop them because it will distort our data and tamper with our analysis and predictions."
      ]
    },
    {
      "cell_type": "markdown",
      "metadata": {
        "id": "KhdEY42QqWYC"
      },
      "source": [
        "## Bivariate Analysis"
      ]
    },
    {
      "cell_type": "code",
      "metadata": {
        "colab": {
          "base_uri": "https://localhost:8080/",
          "height": 317
        },
        "id": "KfyqUt-bqSxe",
        "outputId": "517856b0-0078-483f-f8d4-37586f65b7c1"
      },
      "source": [
        "# Plotting our scatterplot FOR age against T4U\n",
        "\n",
        "nc=df.groupby('age')['T4U'].sum().reset_index(name='T4Uper age')\n",
        "nc\n",
        "plt.scatter(nc[\"age\"] , nc['T4Uper age'], c='g')\n",
        "plt.xlabel(\"age\")\n",
        "plt.ylabel(\"T4U per age\")\n",
        "plt.title(\"Scatter plot of 'T4Uper age\", y=1.1)\n",
        "plt.show()\n",
        "#we can see that as the age rises, the T4U increases but T4U starts to drop from age 65"
      ],
      "execution_count": null,
      "outputs": [
        {
          "output_type": "display_data",
          "data": {
            "image/png": "[encoded data removed]",
            "text/plain": [
              "<Figure size 432x288 with 1 Axes>"
            ]
          },
          "metadata": {
            "needs_background": "light"
          }
        }
      ]
    },
    {
      "cell_type": "code",
      "metadata": {
        "colab": {
          "base_uri": "https://localhost:8080/",
          "height": 317
        },
        "id": "OFWoNvQGqbXO",
        "outputId": "e077b895-e06d-462b-ccc5-d4b0a1d34a02"
      },
      "source": [
        "#scatter plot for age agaist T3\n",
        "nc=df.groupby('age')['T3'].sum().reset_index(name='T3 per age')\n",
        "nc\n",
        "plt.scatter(nc[\"age\"] , nc['T3 per age'], c='b')\n",
        "plt.xlabel(\"age\")\n",
        "plt.ylabel('T3 per age')\n",
        "plt.title(\"Scatter plot of T3 per age\", y=1.1)\n",
        "plt.show()\n",
        "#we can see that as the age rises, the T3 increases but T4U starts to drop from age 65"
      ],
      "execution_count": null,
      "outputs": [
        {
          "output_type": "display_data",
          "data": {
            "image/png": "[encoded data removed]",
            "text/plain": [
              "<Figure size 432x288 with 1 Axes>"
            ]
          },
          "metadata": {
            "needs_background": "light"
          }
        }
      ]
    },
    {
      "cell_type": "code",
      "metadata": {
        "colab": {
          "base_uri": "https://localhost:8080/",
          "height": 350
        },
        "id": "qtZ6AZi_qjSU",
        "outputId": "a91428d2-c523-4f76-b8c7-7fcb275dbe06"
      },
      "source": [
        "#Stacked column chart for sex agaist on_thyroxine\n",
        "plt.figure(figsize=(9, 5))\n",
        "sns.histplot(x = df[\"sex\"], hue = df[\"on_thyroxine\"])\n",
        "plt.xlabel('sex')\n",
        "plt.ylabel('on_thyroxine')\n",
        "plt.title('Distribution of gender  on_thyroxine') \n",
        "plt.show()\n",
        "#From the stacked column chart, we can see that there were more female patients who were tested on_thyroxine "
      ],
      "execution_count": null,
      "outputs": [
        {
          "output_type": "display_data",
          "data": {
            "image/png": "[encoded data removed]",
            "text/plain": [
              "<Figure size 648x360 with 1 Axes>"
            ]
          },
          "metadata": {
            "needs_background": "light"
          }
        }
      ]
    },
    {
      "cell_type": "code",
      "metadata": {
        "colab": {
          "base_uri": "https://localhost:8080/",
          "height": 350
        },
        "id": "wYpxWNzsC2Ly",
        "outputId": "ce6c98f6-3a1c-4643-fc6a-f130bd0337ac"
      },
      "source": [
        "#stacked column chart for status agaist sex\n",
        "plt.figure(figsize=(9, 5))\n",
        "sns.histplot(x = df[\"sex\"], hue = df[\"status\"])\n",
        "plt.xlabel(\"sex\")\n",
        "plt.ylabel('status')\n",
        "plt.title('Distribution of status per gender') \n",
        "plt.show()\n",
        "#from the chart we can see that most of the patients status was negative but \n",
        "#more females were diagnosed with hypothyroism compared to male patients"
      ],
      "execution_count": null,
      "outputs": [
        {
          "output_type": "display_data",
          "data": {
            "image/png": "[encoded data removed]",
            "text/plain": [
              "<Figure size 648x360 with 1 Axes>"
            ]
          },
          "metadata": {
            "needs_background": "light"
          }
        }
      ]
    },
    {
      "cell_type": "code",
      "metadata": {
        "colab": {
          "base_uri": "https://localhost:8080/"
        },
        "id": "HDRYU81YqpcU",
        "outputId": "0913087e-4dad-4c4e-e2b0-083c2ca18a1d"
      },
      "source": [
        "#frequecy table for sex vs on_antithyroid_medication\n",
        "df[[\"sex\",\"on_antithyroid_medication\"]].value_counts(sort = False)"
      ],
      "execution_count": null,
      "outputs": [
        {
          "output_type": "execute_result",
          "data": {
            "text/plain": [
              "sex  on_antithyroid_medication\n",
              "F    f                            2222\n",
              "     t                              33\n",
              "M    f                             899\n",
              "     t                               9\n",
              "dtype: int64"
            ]
          },
          "metadata": {},
          "execution_count": 59
        }
      ]
    },
    {
      "cell_type": "markdown",
      "source": [
        "More female than men were  on on_antithyroid_medication"
      ],
      "metadata": {
        "id": "5szYKO1bRTK_"
      }
    },
    {
      "cell_type": "code",
      "metadata": {
        "colab": {
          "base_uri": "https://localhost:8080/",
          "height": 350
        },
        "id": "FzXmOyTuqtgJ",
        "outputId": "39e2f177-8b20-4723-fd57-be5522e59424"
      },
      "source": [
        "#Stacked column for sex vs patients on_antithyroid_medication\n",
        "plt.figure(figsize=(9, 5))\n",
        "sns.histplot(x = df[\"sex\"], hue = df[\"on_antithyroid_medication\"])\n",
        "plt.xlabel('sex')\n",
        "plt.ylabel('on_antithyroid_medication')\n",
        "plt.title('Distribution of gender on_antithyroid_medication') \n",
        "plt.show()\n",
        "#we can see that more female patients are on_antithyroid_medication compared to male patients"
      ],
      "execution_count": null,
      "outputs": [
        {
          "output_type": "display_data",
          "data": {
            "image/png": "[encoded data removed]",
            "text/plain": [
              "<Figure size 648x360 with 1 Axes>"
            ]
          },
          "metadata": {
            "needs_background": "light"
          }
        }
      ]
    },
    {
      "cell_type": "code",
      "metadata": {
        "colab": {
          "base_uri": "https://localhost:8080/",
          "height": 351
        },
        "id": "NvbSrztLqz9A",
        "outputId": "1f6d567e-523f-4ba9-a2d1-20e87046e230"
      },
      "source": [
        "#stacked column for status vs T3_measured\n",
        "plt.figure(figsize=(9, 5))\n",
        "sns.histplot(x = df[\"status\"], hue = df[\"T3_measured\"])\n",
        "plt.xlabel('T3_measured')\n",
        "plt.ylabel('status')\n",
        "plt.title('status vs \tT3_measured') \n",
        "plt.show()\n",
        "\n"
      ],
      "execution_count": null,
      "outputs": [
        {
          "output_type": "display_data",
          "data": {
            "image/png": "[encoded data removed]",
            "text/plain": [
              "<Figure size 648x360 with 1 Axes>"
            ]
          },
          "metadata": {
            "needs_background": "light"
          }
        }
      ]
    },
    {
      "cell_type": "code",
      "metadata": {
        "colab": {
          "base_uri": "https://localhost:8080/"
        },
        "id": "nCsEOaV-q0xn",
        "outputId": "f614c9df-6a09-432f-b90a-2d3df7a59230"
      },
      "source": [
        "# Z-test for age of the patients \n",
        "from scipy import stats\n",
        "p_age= df['age']\n",
        "age_zscore = stats.zscore(p_age)\n",
        "\n",
        "print(\"The zscore for Respondents Age is:  n/\",age_zscore)"
      ],
      "execution_count": null,
      "outputs": [
        {
          "output_type": "stream",
          "name": "stdout",
          "text": [
            "The zscore for Respondents Age is:  n/ [ 1.14173367 -2.04145851 -1.53884922 ...  1.42096106  1.25342463\n",
            "  0.24820604]\n"
          ]
        }
      ]
    },
    {
      "cell_type": "code",
      "metadata": {
        "colab": {
          "base_uri": "https://localhost:8080/",
          "height": 269
        },
        "id": "2vy1CJVkq50_",
        "outputId": "30feac54-d71b-4cc5-ecb7-5d936c9daf02"
      },
      "source": [
        "#correlation using heatmap\n",
        "sns.heatmap(df.corr(),annot=True)\n",
        "plt.show()"
      ],
      "execution_count": null,
      "outputs": [
        {
          "output_type": "display_data",
          "data": {
            "image/png": "[encoded data removed]",
            "text/plain": [
              "<Figure size 432x288 with 2 Axes>"
            ]
          },
          "metadata": {
            "needs_background": "light"
          }
        }
      ]
    },
    {
      "cell_type": "markdown",
      "source": [
        "\n",
        "Coefficient of one accross the diagonal shows that a variable perfectly correlates to itself\n"
      ],
      "metadata": {
        "id": "_KbFI0__SdQV"
      }
    },
    {
      "cell_type": "markdown",
      "metadata": {
        "id": "vTbdjSrhVIiT"
      },
      "source": [
        "## 7. Implementing the Solution"
      ]
    },
    {
      "cell_type": "code",
      "metadata": {
        "id": "PJLZaRzJXJ3w",
        "colab": {
          "base_uri": "https://localhost:8080/"
        },
        "outputId": "e6430f71-7f6d-410b-8166-b680b7468688"
      },
      "source": [
        "# FEATURE ENGINEERING\n",
        "# \n",
        "#installing category encoder\n",
        "!pip install category_encoders"
      ],
      "execution_count": null,
      "outputs": [
        {
          "output_type": "stream",
          "name": "stdout",
          "text": [
            "Collecting category_encoders\n",
            "  Downloading category_encoders-2.3.0-py2.py3-none-any.whl (82 kB)\n",
            "\u001b[?25l\r\u001b[K     |████                            | 10 kB 20.2 MB/s eta 0:00:01\r\u001b[K     |████████                        | 20 kB 24.8 MB/s eta 0:00:01\r\u001b[K     |████████████                    | 30 kB 12.2 MB/s eta 0:00:01\r\u001b[K     |████████████████                | 40 kB 9.2 MB/s eta 0:00:01\r\u001b[K     |████████████████████            | 51 kB 5.2 MB/s eta 0:00:01\r\u001b[K     |████████████████████████        | 61 kB 5.2 MB/s eta 0:00:01\r\u001b[K     |████████████████████████████    | 71 kB 5.5 MB/s eta 0:00:01\r\u001b[K     |███████████████████████████████▉| 81 kB 6.1 MB/s eta 0:00:01\r\u001b[K     |████████████████████████████████| 82 kB 309 kB/s \n",
            "\u001b[?25hRequirement already satisfied: statsmodels>=0.9.0 in /usr/local/lib/python3.7/dist-packages (from category_encoders) (0.10.2)\n",
            "Requirement already satisfied: scikit-learn>=0.20.0 in /usr/local/lib/python3.7/dist-packages (from category_encoders) (1.0.1)\n",
            "Requirement already satisfied: patsy>=0.5.1 in /usr/local/lib/python3.7/dist-packages (from category_encoders) (0.5.2)\n",
            "Requirement already satisfied: scipy>=1.0.0 in /usr/local/lib/python3.7/dist-packages (from category_encoders) (1.4.1)\n",
            "Requirement already satisfied: pandas>=0.21.1 in /usr/local/lib/python3.7/dist-packages (from category_encoders) (1.1.5)\n",
            "Requirement already satisfied: numpy>=1.14.0 in /usr/local/lib/python3.7/dist-packages (from category_encoders) (1.19.5)\n",
            "Requirement already satisfied: python-dateutil>=2.7.3 in /usr/local/lib/python3.7/dist-packages (from pandas>=0.21.1->category_encoders) (2.8.2)\n",
            "Requirement already satisfied: pytz>=2017.2 in /usr/local/lib/python3.7/dist-packages (from pandas>=0.21.1->category_encoders) (2018.9)\n",
            "Requirement already satisfied: six in /usr/local/lib/python3.7/dist-packages (from patsy>=0.5.1->category_encoders) (1.15.0)\n",
            "Requirement already satisfied: threadpoolctl>=2.0.0 in /usr/local/lib/python3.7/dist-packages (from scikit-learn>=0.20.0->category_encoders) (3.0.0)\n",
            "Requirement already satisfied: joblib>=0.11 in /usr/local/lib/python3.7/dist-packages (from scikit-learn>=0.20.0->category_encoders) (1.1.0)\n",
            "Installing collected packages: category-encoders\n",
            "Successfully installed category-encoders-2.3.0\n"
          ]
        }
      ]
    },
    {
      "cell_type": "code",
      "metadata": {
        "id": "SSo_S5K4Q_rJ"
      },
      "source": [
        "#start by creating a subset of numerical data so that I separate them from categorical data\n",
        "df1 = df[['age','TSH','T3','TT4','T4U','FTI']]\n",
        "df.drop(['age','TSH','T3','TT4','T4U','FTI'],axis=1,inplace=True)\n",
        "# import category encoders\n",
        "\n",
        "import category_encoders as ce"
      ],
      "execution_count": null,
      "outputs": []
    },
    {
      "cell_type": "code",
      "metadata": {
        "colab": {
          "base_uri": "https://localhost:8080/",
          "height": 132
        },
        "id": "LptF7zgzRF0b",
        "outputId": "81945bc5-770b-4867-b37b-103d45a3fdd6"
      },
      "source": [
        "# encode categorical variables with ordinal encoding\n",
        "\n",
        "encoder = ce.OrdinalEncoder(df.columns)\n",
        "df = encoder.fit_transform(df)\n",
        "df.head(2)"
      ],
      "execution_count": null,
      "outputs": [
        {
          "output_type": "execute_result",
          "data": {
            "text/html": [
              "<div>\n",
              "<style scoped>\n",
              "    .dataframe tbody tr th:only-of-type {\n",
              "        vertical-align: middle;\n",
              "    }\n",
              "\n",
              "    .dataframe tbody tr th {\n",
              "        vertical-align: top;\n",
              "    }\n",
              "\n",
              "    .dataframe thead th {\n",
              "        text-align: right;\n",
              "    }\n",
              "</style>\n",
              "<table border=\"1\" class=\"dataframe\">\n",
              "  <thead>\n",
              "    <tr style=\"text-align: right;\">\n",
              "      <th></th>\n",
              "      <th>status</th>\n",
              "      <th>sex</th>\n",
              "      <th>on_thyroxine</th>\n",
              "      <th>query_on_thyroxine</th>\n",
              "      <th>on_antithyroid_medication</th>\n",
              "      <th>thyroid_surgery</th>\n",
              "      <th>query_hypothyroid</th>\n",
              "      <th>query_hyperthyroid</th>\n",
              "      <th>pregnant</th>\n",
              "      <th>sick</th>\n",
              "      <th>tumor</th>\n",
              "      <th>lithium</th>\n",
              "      <th>goitre</th>\n",
              "      <th>TSH_measured</th>\n",
              "      <th>T3_measured</th>\n",
              "      <th>TT4_measured</th>\n",
              "      <th>T4U_measured</th>\n",
              "      <th>FTI_measured</th>\n",
              "    </tr>\n",
              "  </thead>\n",
              "  <tbody>\n",
              "    <tr>\n",
              "      <th>0</th>\n",
              "      <td>1</td>\n",
              "      <td>1</td>\n",
              "      <td>1</td>\n",
              "      <td>1</td>\n",
              "      <td>1</td>\n",
              "      <td>1</td>\n",
              "      <td>1</td>\n",
              "      <td>1</td>\n",
              "      <td>1</td>\n",
              "      <td>1</td>\n",
              "      <td>1</td>\n",
              "      <td>1</td>\n",
              "      <td>1</td>\n",
              "      <td>1</td>\n",
              "      <td>1</td>\n",
              "      <td>1</td>\n",
              "      <td>1</td>\n",
              "      <td>1</td>\n",
              "    </tr>\n",
              "    <tr>\n",
              "      <th>1</th>\n",
              "      <td>1</td>\n",
              "      <td>2</td>\n",
              "      <td>2</td>\n",
              "      <td>1</td>\n",
              "      <td>1</td>\n",
              "      <td>1</td>\n",
              "      <td>1</td>\n",
              "      <td>1</td>\n",
              "      <td>1</td>\n",
              "      <td>1</td>\n",
              "      <td>1</td>\n",
              "      <td>1</td>\n",
              "      <td>1</td>\n",
              "      <td>1</td>\n",
              "      <td>1</td>\n",
              "      <td>1</td>\n",
              "      <td>1</td>\n",
              "      <td>1</td>\n",
              "    </tr>\n",
              "  </tbody>\n",
              "</table>\n",
              "</div>"
            ],
            "text/plain": [
              "   status  sex  on_thyroxine  ...  TT4_measured  T4U_measured  FTI_measured\n",
              "0       1    1             1  ...             1             1             1\n",
              "1       1    2             2  ...             1             1             1\n",
              "\n",
              "[2 rows x 18 columns]"
            ]
          },
          "metadata": {},
          "execution_count": 66
        }
      ]
    },
    {
      "cell_type": "code",
      "metadata": {
        "colab": {
          "base_uri": "https://localhost:8080/"
        },
        "id": "WDh_BrDVRI-0",
        "outputId": "5911f0bd-ad49-4d83-9500-aabaf92bd79b"
      },
      "source": [
        "#concatinate the two tables\n",
        "df2 = pd.concat([df,df1],axis=1)\n",
        "#df2.head(4)\n",
        "df2.shape"
      ],
      "execution_count": null,
      "outputs": [
        {
          "output_type": "execute_result",
          "data": {
            "text/plain": [
              "(3163, 24)"
            ]
          },
          "metadata": {},
          "execution_count": 67
        }
      ]
    },
    {
      "cell_type": "markdown",
      "source": [
        "## Random Forest Classifier"
      ],
      "metadata": {
        "id": "wdfcAc4-TxtI"
      }
    },
    {
      "cell_type": "code",
      "metadata": {
        "id": "wAZNX-OJGdJQ",
        "colab": {
          "base_uri": "https://localhost:8080/"
        },
        "outputId": "18c37a68-b247-41d1-befb-49ae719d1e01"
      },
      "source": [
        "#splitting data into features and target\n",
        "X=df2.drop([\"status\"],1)\n",
        "y=df2[[\"status\"]].values\n",
        "\n",
        "# Train using 70% of the data.\n",
        "X_train, X_test, y_train, y_test = train_test_split(X, y, test_size=0.3, random_state=0)\n",
        "\n",
        "# Building the model\n",
        "forest = RandomForestClassifier()\n",
        "forest = forest.fit(X_train, y_train)\n",
        "\n",
        "# Predict based on the model we've trained\n",
        "y_pred = forest.predict(X_test)\n",
        "print(\"Confussion Matrix : \\n\", confusion_matrix(y_test, y_pred))\n",
        "print(\"The accuracy of  random forest classifier is: \", accuracy_score(y_test,y_pred)*100)\n"
      ],
      "execution_count": null,
      "outputs": [
        {
          "output_type": "stream",
          "name": "stdout",
          "text": [
            "Confussion Matrix : \n",
            " [[ 33   6]\n",
            " [  5 905]]\n",
            "The accuracy of  random forest classifier is:  98.840885142255\n"
          ]
        }
      ]
    },
    {
      "cell_type": "markdown",
      "source": [
        "The accuracy of the RFC is 98.84% which is not bad.\n",
        "\n",
        "From the classification matrix 33+905 were predicted correctly and 5+6 were not predicted correctly"
      ],
      "metadata": {
        "id": "yX1O0NKJYbnN"
      }
    },
    {
      "cell_type": "markdown",
      "source": [
        "We shall do hyperparameter tuning so that we can fit the model with the best parameters so that we can check the accuracy"
      ],
      "metadata": {
        "id": "wBLt_e5BY7MI"
      }
    },
    {
      "cell_type": "code",
      "source": [
        "#Hyperparameter tuning\n",
        "parameters= { 'n_estimators': [4, 6, 9, 10, 15], \n",
        "              'max_features': ['log2', 'sqrt','auto'], \n",
        "              'criterion': ['entropy', 'gini'],\n",
        "              'max_depth': [2, 3, 5, 10], \n",
        "              'min_samples_split': [2, 3, 5],\n",
        "              'min_samples_leaf': [1, 5, 8]\n",
        "             }\n",
        "# Run the grid search to get the best parameters\n",
        "search=GridSearchCV(forest,parameters)\n",
        "search.fit(X_train, y_train)\n",
        "\n",
        "#Get the best parameters\n",
        "print(search.best_params_)\n"
      ],
      "metadata": {
        "colab": {
          "base_uri": "https://localhost:8080/"
        },
        "id": "hXB7rlp1ZLvl",
        "outputId": "a6b3779b-a655-4cc1-a6ba-4bc58015ec8f"
      },
      "execution_count": null,
      "outputs": [
        {
          "output_type": "stream",
          "name": "stdout",
          "text": [
            "{'criterion': 'entropy', 'max_depth': 10, 'max_features': 'sqrt', 'min_samples_leaf': 1, 'min_samples_split': 2, 'n_estimators': 9}\n"
          ]
        }
      ]
    },
    {
      "cell_type": "code",
      "source": [
        "# Building the model after identifying the best parameters\n",
        "forest = RandomForestClassifier(criterion ='entropy', max_depth = 10, max_features = 'sqrt',min_samples_leaf= 1, min_samples_split=2, n_estimators = 9)\n",
        "forest = forest.fit(X_train, y_train)\n",
        "\n",
        "# Predict based on the model we've trained\n",
        "y_pred = forest.predict(X_test)\n",
        "print(\"Confussion Matrix : \\n\", confusion_matrix(y_test, y_pred))\n",
        "print(\"The accuracy of  random forest classifier is: \", accuracy_score(y_test,y_pred)*100)"
      ],
      "metadata": {
        "colab": {
          "base_uri": "https://localhost:8080/"
        },
        "id": "C0IGtcWgcn8Q",
        "outputId": "cb4000ff-58fd-4a22-9756-12309b032f04"
      },
      "execution_count": null,
      "outputs": [
        {
          "output_type": "stream",
          "name": "stdout",
          "text": [
            "Confussion Matrix : \n",
            " [[ 33   6]\n",
            " [  7 903]]\n",
            "The accuracy of  random forest classifier is:  98.63013698630137\n"
          ]
        }
      ]
    },
    {
      "cell_type": "markdown",
      "source": [
        "After tuning the parameters the accuracy dropped by -0.2% to 98.63%"
      ],
      "metadata": {
        "id": "7xSojPH9eWGG"
      }
    },
    {
      "cell_type": "markdown",
      "source": [
        "From the accuracy score (33+903) were predicted correctly and (6+7) were not predicted correctly"
      ],
      "metadata": {
        "id": "gundTwVwepCr"
      }
    },
    {
      "cell_type": "markdown",
      "metadata": {
        "id": "NPMMpEFFSEJp"
      },
      "source": [
        "### Ada boosted trees"
      ]
    },
    {
      "cell_type": "code",
      "metadata": {
        "colab": {
          "base_uri": "https://localhost:8080/"
        },
        "id": "FURb023gSrMu",
        "outputId": "80f27f7e-6eb5-4a37-caaa-defb29dfe9ea"
      },
      "source": [
        "#Building our adaboost model\n",
        "ada_boost = AdaBoostClassifier()\n",
        "\n",
        "# Train it on our training set.\n",
        "ada_boost = ada_boost.fit(X_train, y_train)\n",
        "#making predictions using our model\n",
        "y_pred_ada = ada_boost.predict(X_test)\n",
        "#checking the accuracy of our model\n",
        "print(\"Accuracy:\",metrics.accuracy_score(y_test,y_pred_ada)*100)\n",
        "print(\"Confusion matrix  \\n\" , confusion_matrix(y_test, y_pred_ada))"
      ],
      "execution_count": null,
      "outputs": [
        {
          "output_type": "stream",
          "name": "stdout",
          "text": [
            "Accuracy: 98.52476290832455\n",
            "Confusion matrix  \n",
            " [[ 33   6]\n",
            " [  8 902]]\n"
          ]
        }
      ]
    },
    {
      "cell_type": "markdown",
      "source": [
        "The accuracy of the model is 98.52% \n",
        "\n",
        "From the confusion matrix, we can see that (33+902) were predicted correcly and (6+8) were not predicted correctly"
      ],
      "metadata": {
        "id": "sYISBcq0gux8"
      }
    },
    {
      "cell_type": "markdown",
      "metadata": {
        "id": "g5du4lxfS5px"
      },
      "source": [
        "### Gradient boosted trees"
      ]
    },
    {
      "cell_type": "code",
      "metadata": {
        "colab": {
          "base_uri": "https://localhost:8080/"
        },
        "id": "jfz2rfDbTHhi",
        "outputId": "58bba63e-a0a1-414f-fe30-4e21a3b1a93f"
      },
      "source": [
        "#gradient boosting\n",
        "model = GradientBoostingClassifier()\n",
        "#training our model\n",
        "model = model.fit(X_train, y_train)\n",
        "#making preductions\n",
        "y_pred_gbr = model.predict(X_test)\n",
        "\n",
        "#The accuracy of the model\n",
        "print('GB Accuracy is  ', metrics.accuracy_score(y_test,y_pred_gbr)*100)\n",
        "print(\"Confusion matrix  \\n\" , confusion_matrix(y_test, y_pred_gbr))"
      ],
      "execution_count": null,
      "outputs": [
        {
          "output_type": "stream",
          "name": "stdout",
          "text": [
            "GB Accuracy is   98.41938883034773\n",
            "Confusion matrix  \n",
            " [[ 34   5]\n",
            " [ 10 900]]\n"
          ]
        }
      ]
    },
    {
      "cell_type": "markdown",
      "source": [
        "Gradient boosting model has a higher accuracy compared to the ada boosted model with an accuracy of 98.41%\n",
        "\n",
        "From the confusion matrix (34+900) was predicted correctly\n",
        "\n"
      ],
      "metadata": {
        "id": "HTnkbe_whpxO"
      }
    },
    {
      "cell_type": "markdown",
      "metadata": {
        "id": "ajwoN6mh3Xxt"
      },
      "source": [
        "After analyzing the adaboost trees, its clear that the ada boosted tree has  the highest accuracy score as compared to the gradient boosted tree though the margin is not huge.\n",
        "\n",
        "We shall do hyperparameter tuning on the adaboost so that we can get the best accuracy"
      ]
    },
    {
      "cell_type": "code",
      "source": [
        "#hyperparameter tuning\n",
        "parameters={'n_estimators': [100,200,300]}\n",
        "# Run the grid search to get the best parameters\n",
        "search=GridSearchCV(ada_boost,parameters)\n",
        "search.fit(X_train, y_train)\n",
        "\n",
        "#Get the best parameters\n",
        "print(search.best_params_)"
      ],
      "metadata": {
        "colab": {
          "base_uri": "https://localhost:8080/"
        },
        "id": "f9O5dzN0lC_Z",
        "outputId": "b0650a99-6f5c-49f0-b452-f239841a5c97"
      },
      "execution_count": null,
      "outputs": [
        {
          "output_type": "stream",
          "name": "stdout",
          "text": [
            "{'n_estimators': 100}\n"
          ]
        }
      ]
    },
    {
      "cell_type": "code",
      "source": [
        "# identify the important featues\n",
        "feature_imp = pd.Series(ada_boost.feature_importances_,\\\n",
        "                        index=X_train.columns).sort_values(ascending=False)\n",
        "print('important features \\n',feature_imp)"
      ],
      "metadata": {
        "colab": {
          "base_uri": "https://localhost:8080/"
        },
        "id": "gltG0VmQiV-r",
        "outputId": "4f635a5f-157c-4365-e92d-269ceed3ef95"
      },
      "execution_count": null,
      "outputs": [
        {
          "output_type": "stream",
          "name": "stdout",
          "text": [
            "important features \n",
            " FTI                          0.22\n",
            "TSH                          0.18\n",
            "age                          0.16\n",
            "TT4                          0.14\n",
            "T3                           0.08\n",
            "T4U                          0.08\n",
            "on_antithyroid_medication    0.06\n",
            "on_thyroxine                 0.04\n",
            "T3_measured                  0.02\n",
            "thyroid_surgery              0.02\n",
            "pregnant                     0.00\n",
            "query_on_thyroxine           0.00\n",
            "query_hypothyroid            0.00\n",
            "query_hyperthyroid           0.00\n",
            "goitre                       0.00\n",
            "sick                         0.00\n",
            "tumor                        0.00\n",
            "lithium                      0.00\n",
            "TSH_measured                 0.00\n",
            "TT4_measured                 0.00\n",
            "T4U_measured                 0.00\n",
            "FTI_measured                 0.00\n",
            "sex                          0.00\n",
            "dtype: float64\n"
          ]
        }
      ]
    },
    {
      "cell_type": "markdown",
      "source": [
        "Important features are \n",
        "\n",
        " FTI                          \n",
        "TSH                          \n",
        "age                          \n",
        "TT4                          \n",
        "T3                          \n",
        "T4U                         \n",
        "on_antithyroid_medication \n",
        "on_thyroxine                \n",
        "T3_measured                  \n",
        "thyroid_surgery            "
      ],
      "metadata": {
        "id": "OWYTtIm_kUwU"
      }
    },
    {
      "cell_type": "code",
      "source": [
        "#run ada boost  model with important features\n",
        "\n",
        "X = df2[['FTI','TT4','TSH','age','T3','on_thyroxine','on_antithyroid_medication','T4U','T3_measured',\"thyroid_surgery\"]]\n",
        "y = df2['status']\n",
        "\n",
        "#set train,test sets\n",
        "X_train,X_test,y_train,y_test = train_test_split(X,y, train_size=0.8,random_state=42)\n",
        "\n",
        "\n",
        "#Building our adaboost model\n",
        "ada_boost = AdaBoostClassifier(n_estimators = 100)\n",
        "\n",
        "# Train it on our training set.\n",
        "ada_boost = ada_boost.fit(X_train, y_train)\n",
        "#making predictions using our model\n",
        "y_pred_ada = ada_boost.predict(X_test)\n",
        "#checking the accuracy of our model\n",
        "print(\"Accuracy:\",metrics.accuracy_score(y_test,y_pred_ada)*100)\n",
        "print(\"Confusion matrix  \\n\" , confusion_matrix(y_test, y_pred_ada))"
      ],
      "metadata": {
        "colab": {
          "base_uri": "https://localhost:8080/"
        },
        "id": "MVgTlDVQoDX5",
        "outputId": "baa96e29-86ca-4704-b7ae-324ed55a1743"
      },
      "execution_count": null,
      "outputs": [
        {
          "output_type": "stream",
          "name": "stdout",
          "text": [
            "Accuracy: 99.0521327014218\n",
            "Confusion matrix  \n",
            " [[ 32   5]\n",
            " [  1 595]]\n"
          ]
        }
      ]
    },
    {
      "cell_type": "markdown",
      "source": [
        "After fitting the model with the best parameter and the best features the accuracy increased to 99.05%\n",
        "\n",
        "From the confusion matrix, 32+595 were predicted correctly and 1+5 were not predicted correctly,."
      ],
      "metadata": {
        "id": "idQ4VkcjpSMP"
      }
    },
    {
      "cell_type": "markdown",
      "metadata": {
        "id": "aGVGxXO0jFdi"
      },
      "source": [
        "## 8. Support Vector Machines(SMV)"
      ]
    },
    {
      "cell_type": "markdown",
      "metadata": {
        "id": "iIQ5vYV-jMn0"
      },
      "source": [
        "### Polynomial SVM"
      ]
    },
    {
      "cell_type": "code",
      "metadata": {
        "id": "4q62iXwygDDX"
      },
      "source": [
        "#splitting data into features and target\n",
        "X=df2.drop([\"status\"],1)\n",
        "y=df2[[\"status\"]].values\n",
        "\n",
        "#splittig the data into train and test set\n",
        "X_test,X_train,y_test,y_train=train_test_split(X,y,test_size=0.2,random_state=42)"
      ],
      "execution_count": null,
      "outputs": []
    },
    {
      "cell_type": "code",
      "metadata": {
        "colab": {
          "base_uri": "https://localhost:8080/"
        },
        "id": "Q8LrKfWsjT-H",
        "outputId": "c9484567-0503-44e3-fff7-7a68edf503f0"
      },
      "source": [
        "#Hyperparameter tuning\n",
        "\n",
        "model = SVC(kernel='poly')\n",
        "parameters=({\"C\":[0.1,10,100,1000],\"degree\":[3,4,5,6],\"gamma\":[0.1,0.01,0.001,0.0001]})\n",
        "\n",
        "#used gridsearch cv to identify the best parameters\n",
        "search=GridSearchCV(model,parameters)\n",
        "search.fit(X_train, y_train)\n",
        "\n",
        "#Get the best parameters\n",
        "print(search.best_params_)"
      ],
      "execution_count": null,
      "outputs": [
        {
          "output_type": "stream",
          "name": "stdout",
          "text": [
            "{'C': 10, 'degree': 4, 'gamma': 0.0001}\n"
          ]
        }
      ]
    },
    {
      "cell_type": "code",
      "metadata": {
        "id": "_jckcv2umJ-M"
      },
      "source": [
        "# Building a polynomial model \n",
        "polyclassifier = SVC(kernel='poly',degree=4,C=10, gamma=0.0001)\n",
        "# Training the model using the training set\n",
        "polyclassifier.fit(X_train, y_train)\n",
        "\n",
        "#Making predictions\n",
        "y_pred=polyclassifier.predict(X_test)"
      ],
      "execution_count": null,
      "outputs": []
    },
    {
      "cell_type": "code",
      "metadata": {
        "colab": {
          "base_uri": "https://localhost:8080/"
        },
        "id": "UiOMASfKnD0Y",
        "outputId": "fafb601d-7fef-4284-c1bb-e0aa5d0f44f3"
      },
      "source": [
        "#model evalutaion\n",
        "print(\"Accuracy is, \", accuracy_score(y_test, y_pred)*100)\n",
        "print(confusion_matrix(y_test, y_pred))"
      ],
      "execution_count": null,
      "outputs": [
        {
          "output_type": "stream",
          "name": "stdout",
          "text": [
            "Accuracy is,  97.74703557312253\n",
            "[[  94   20]\n",
            " [  37 2379]]\n"
          ]
        }
      ]
    },
    {
      "cell_type": "markdown",
      "metadata": {
        "id": "Z2hq38rUnV3x"
      },
      "source": [
        "### Radial basis function (rbf)model"
      ]
    },
    {
      "cell_type": "code",
      "metadata": {
        "colab": {
          "base_uri": "https://localhost:8080/"
        },
        "id": "iiOx8QAHnSGN",
        "outputId": "731cec6f-708e-4912-b69c-06b4975232d2"
      },
      "source": [
        "#Hyperparameter tuning\n",
        "from sklearn.model_selection import GridSearchCV\n",
        "model = SVC(kernel='rbf')\n",
        "parameters=({\"C\":[0.1,10,100,1000],\"degree\":[3,4,5,6],\"gamma\":[0.1,0.01,0.001,0.0001]})\n",
        "\n",
        "#used gridsearch cv to identify the best parameters\n",
        "search=GridSearchCV(model,parameters)\n",
        "search.fit(X_train, y_train)\n",
        "\n",
        "#Get the best parameters\n",
        "print(search.best_params_)"
      ],
      "execution_count": null,
      "outputs": [
        {
          "output_type": "stream",
          "name": "stdout",
          "text": [
            "{'C': 10, 'degree': 3, 'gamma': 0.0001}\n"
          ]
        }
      ]
    },
    {
      "cell_type": "code",
      "metadata": {
        "id": "tp1r6Y46nyUA"
      },
      "source": [
        "# Building a polynomial model \n",
        "model_rbf= SVC(kernel='rbf',degree=3,C=10, gamma=0.0001)\n",
        "# Training the model using the training set\n",
        "model_rbf.fit(X_train, y_train)\n",
        "\n",
        "#Making predictions\n",
        "y_pred=model_rbf.predict(X_test)"
      ],
      "execution_count": null,
      "outputs": []
    },
    {
      "cell_type": "code",
      "metadata": {
        "colab": {
          "base_uri": "https://localhost:8080/"
        },
        "id": "fIZNHJX0oCS3",
        "outputId": "932595cd-9dcf-40df-ce49-e9847643220c"
      },
      "source": [
        "# Model Evaluation\n",
        "print(\"Accuracy is, \", accuracy_score(y_test, y_pred)*100)\n",
        "print(confusion_matrix(y_test, y_pred))"
      ],
      "execution_count": null,
      "outputs": [
        {
          "output_type": "stream",
          "name": "stdout",
          "text": [
            "Accuracy is,  98.18181818181819\n",
            "[[  87   27]\n",
            " [  19 2397]]\n"
          ]
        }
      ]
    },
    {
      "cell_type": "markdown",
      "metadata": {
        "id": "XqlLIRYZoWCO"
      },
      "source": [
        "### Sigmoid model"
      ]
    },
    {
      "cell_type": "code",
      "metadata": {
        "colab": {
          "base_uri": "https://localhost:8080/"
        },
        "id": "7DKwnxgcoUvY",
        "outputId": "a28e4917-1cef-40ec-d154-ff52fa02fa5b"
      },
      "source": [
        "#Hyperparameter tuning\n",
        "from sklearn.model_selection import GridSearchCV\n",
        "model = SVC(kernel='sigmoid')\n",
        "parameters=({\"C\":[0.1,10,100,1000],\"degree\":[3,4,5,6],\"gamma\":[0.1,0.01,0.001,0.0001]})\n",
        "\n",
        "#used gridsearch cv to identify the best parameters\n",
        "search=GridSearchCV(model,parameters)\n",
        "search.fit(X_train, y_train)\n",
        "\n",
        "#Get the best parameters\n",
        "print(search.best_params_)"
      ],
      "execution_count": null,
      "outputs": [
        {
          "output_type": "stream",
          "name": "stdout",
          "text": [
            "{'C': 0.1, 'degree': 3, 'gamma': 0.0001}\n"
          ]
        }
      ]
    },
    {
      "cell_type": "code",
      "metadata": {
        "id": "QHKpOgXPod6Y"
      },
      "source": [
        "# Building a sigmoid model \n",
        "model_sig= SVC(kernel='sigmoid',degree=3,C=0.1, gamma=0.0001)\n",
        "# Training the model using the training set\n",
        "model_sig.fit(X_train, y_train)\n",
        "\n",
        "#Making predictions\n",
        "y_pred=model_sig.predict(X_test)"
      ],
      "execution_count": null,
      "outputs": []
    },
    {
      "cell_type": "code",
      "metadata": {
        "colab": {
          "base_uri": "https://localhost:8080/"
        },
        "id": "S4qUfgggonBV",
        "outputId": "ff70b2be-c3ba-44aa-ffab-2fc38ad0005f"
      },
      "source": [
        "# Model Evaluation\n",
        "print(\"Accuracy is, \", accuracy_score(y_test, y_pred)*100)\n",
        "print(confusion_matrix(y_test, y_pred))"
      ],
      "execution_count": null,
      "outputs": [
        {
          "output_type": "stream",
          "name": "stdout",
          "text": [
            "Accuracy is,  95.8102766798419\n",
            "[[   8  106]\n",
            " [   0 2416]]\n"
          ]
        }
      ]
    },
    {
      "cell_type": "markdown",
      "metadata": {
        "id": "CLNj5aGt4wDe"
      },
      "source": [
        "After analyzing all our support vector machines, its clear that the radial basis function gave us the highest accuracy score as compared to the other support vector classifiers followed by the polynomial function then sigmoid."
      ]
    },
    {
      "cell_type": "markdown",
      "source": [
        "## Conclusion "
      ],
      "metadata": {
        "id": "jTzsYI9Kp_vj"
      }
    },
    {
      "cell_type": "markdown",
      "source": [
        "The data is good for our analysis since we had all the features that will help us predict whether a patient has hyperthyrodism or not.\n",
        "\n",
        "The accuracies of the different models were more than 90% which meant that our models were accurate.\n",
        "\n",
        "Ada boosted model is the best with an accuracy of 99.05 % . This was achieved after finding the best parameter and the important features in the dataset then fitted the model using the best features and parameters.\n",
        "\n"
      ],
      "metadata": {
        "id": "DkeRvCQXqKLP"
      }
    }
  ]
}